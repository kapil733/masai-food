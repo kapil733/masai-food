{
 "cells": [
  {
   "cell_type": "code",
   "execution_count": 1,
   "id": "fd501ec0",
   "metadata": {},
   "outputs": [],
   "source": [
    "import plotly.express as px\n",
    "import pandas as pd"
   ]
  },
  {
   "cell_type": "code",
   "execution_count": 34,
   "id": "5fe750ad",
   "metadata": {},
   "outputs": [],
   "source": [
    "df = pd.read_csv(r\"C:\\Users\\patel\\Downloads\\FINAL.csv\")"
   ]
  },
  {
   "cell_type": "code",
   "execution_count": 4,
   "id": "62aa2a47",
   "metadata": {},
   "outputs": [
    {
     "data": {
      "text/html": [
       "<div>\n",
       "<style scoped>\n",
       "    .dataframe tbody tr th:only-of-type {\n",
       "        vertical-align: middle;\n",
       "    }\n",
       "\n",
       "    .dataframe tbody tr th {\n",
       "        vertical-align: top;\n",
       "    }\n",
       "\n",
       "    .dataframe thead th {\n",
       "        text-align: right;\n",
       "    }\n",
       "</style>\n",
       "<table border=\"1\" class=\"dataframe\">\n",
       "  <thead>\n",
       "    <tr style=\"text-align: right;\">\n",
       "      <th></th>\n",
       "      <th>Unnamed: 0</th>\n",
       "      <th>Restuarantid</th>\n",
       "      <th>Restaurant</th>\n",
       "      <th>Restaurant_Type</th>\n",
       "      <th>Price_for_two</th>\n",
       "      <th>Cuisine</th>\n",
       "      <th>Location</th>\n",
       "      <th>Area</th>\n",
       "      <th>Link</th>\n",
       "      <th>Timing</th>\n",
       "      <th>Dining_Review_Count</th>\n",
       "      <th>Dining_Rating</th>\n",
       "      <th>Delivery_Rating</th>\n",
       "      <th>Delivery_Review_Count</th>\n",
       "      <th>Price per Person</th>\n",
       "      <th>Rating Category</th>\n",
       "      <th>Total Review Count</th>\n",
       "      <th>Popularity score</th>\n",
       "      <th>price range category</th>\n",
       "    </tr>\n",
       "  </thead>\n",
       "  <tbody>\n",
       "    <tr>\n",
       "      <th>0</th>\n",
       "      <td>0</td>\n",
       "      <td>1</td>\n",
       "      <td>Öz by Kebapci</td>\n",
       "      <td>Turkish, Mediterranean, Middle Eastern</td>\n",
       "      <td>1800</td>\n",
       "      <td>Turkish</td>\n",
       "      <td>UB City, Bangalore</td>\n",
       "      <td>UB City</td>\n",
       "      <td>https://www.zomato.com/bangalore/öz-by-kebapci...</td>\n",
       "      <td>12:30pm – 12:30am (Today)</td>\n",
       "      <td>819</td>\n",
       "      <td>4.5</td>\n",
       "      <td>0.0</td>\n",
       "      <td>0</td>\n",
       "      <td>900</td>\n",
       "      <td>Excellent</td>\n",
       "      <td>819</td>\n",
       "      <td>3686.5</td>\n",
       "      <td>Medium</td>\n",
       "    </tr>\n",
       "    <tr>\n",
       "      <th>1</th>\n",
       "      <td>1</td>\n",
       "      <td>2</td>\n",
       "      <td>Over Coffee Cafe &amp; Wine Bar</td>\n",
       "      <td>European, Italian, Continental, Cafe, Coffee</td>\n",
       "      <td>1200</td>\n",
       "      <td>European</td>\n",
       "      <td>Lavelle Road, Bangalore</td>\n",
       "      <td>Lavelle Road</td>\n",
       "      <td>https://www.zomato.com/bangalore/over-coffee-c...</td>\n",
       "      <td>Opens tomorrow at 12noon</td>\n",
       "      <td>560</td>\n",
       "      <td>4.7</td>\n",
       "      <td>3.9</td>\n",
       "      <td>19</td>\n",
       "      <td>600</td>\n",
       "      <td>Excellent</td>\n",
       "      <td>579</td>\n",
       "      <td>2722.3</td>\n",
       "      <td>Medium</td>\n",
       "    </tr>\n",
       "    <tr>\n",
       "      <th>2</th>\n",
       "      <td>2</td>\n",
       "      <td>3</td>\n",
       "      <td>Babylonia - Global Food &amp; Cocktails</td>\n",
       "      <td>Continental, North Indian, Asian, Italian, Mug...</td>\n",
       "      <td>1500</td>\n",
       "      <td>Continental</td>\n",
       "      <td>Koramangala 7th Block, Bangalore</td>\n",
       "      <td>Koramangala 7th Block</td>\n",
       "      <td>https://www.zomato.com/bangalore/babylonia-glo...</td>\n",
       "      <td>12noon – 12:30am (Today)</td>\n",
       "      <td>1203</td>\n",
       "      <td>4.5</td>\n",
       "      <td>3.5</td>\n",
       "      <td>26</td>\n",
       "      <td>750</td>\n",
       "      <td>Excellent</td>\n",
       "      <td>1229</td>\n",
       "      <td>5531.5</td>\n",
       "      <td>Medium</td>\n",
       "    </tr>\n",
       "    <tr>\n",
       "      <th>3</th>\n",
       "      <td>3</td>\n",
       "      <td>4</td>\n",
       "      <td>Oney Brewhouse</td>\n",
       "      <td>American, Continental, Italian, South Indian, ...</td>\n",
       "      <td>1500</td>\n",
       "      <td>American</td>\n",
       "      <td>Cunningham Road, Bangalore</td>\n",
       "      <td>Cunningham Road</td>\n",
       "      <td>https://www.zomato.com/bangalore/oney-brewhous...</td>\n",
       "      <td>12noon – 12midnight (Today)</td>\n",
       "      <td>231</td>\n",
       "      <td>4.1</td>\n",
       "      <td>0.0</td>\n",
       "      <td>0</td>\n",
       "      <td>750</td>\n",
       "      <td>Good</td>\n",
       "      <td>231</td>\n",
       "      <td>948.1</td>\n",
       "      <td>Medium</td>\n",
       "    </tr>\n",
       "    <tr>\n",
       "      <th>4</th>\n",
       "      <td>4</td>\n",
       "      <td>5</td>\n",
       "      <td>Homiga</td>\n",
       "      <td>Korean, Asian</td>\n",
       "      <td>1500</td>\n",
       "      <td>Korean</td>\n",
       "      <td>Forum Rex Walk, Bangalore</td>\n",
       "      <td>Forum Rex Walk</td>\n",
       "      <td>https://www.zomato.com/bangalore/homiga-brigad...</td>\n",
       "      <td>24 Hours, 12:30pm – 4:30pm, 6:30pm – 12midnigh...</td>\n",
       "      <td>207</td>\n",
       "      <td>4.4</td>\n",
       "      <td>0.0</td>\n",
       "      <td>0</td>\n",
       "      <td>750</td>\n",
       "      <td>Good</td>\n",
       "      <td>207</td>\n",
       "      <td>911.8</td>\n",
       "      <td>Medium</td>\n",
       "    </tr>\n",
       "    <tr>\n",
       "      <th>...</th>\n",
       "      <td>...</td>\n",
       "      <td>...</td>\n",
       "      <td>...</td>\n",
       "      <td>...</td>\n",
       "      <td>...</td>\n",
       "      <td>...</td>\n",
       "      <td>...</td>\n",
       "      <td>...</td>\n",
       "      <td>...</td>\n",
       "      <td>...</td>\n",
       "      <td>...</td>\n",
       "      <td>...</td>\n",
       "      <td>...</td>\n",
       "      <td>...</td>\n",
       "      <td>...</td>\n",
       "      <td>...</td>\n",
       "      <td>...</td>\n",
       "      <td>...</td>\n",
       "      <td>...</td>\n",
       "    </tr>\n",
       "    <tr>\n",
       "      <th>496</th>\n",
       "      <td>496</td>\n",
       "      <td>497</td>\n",
       "      <td>Nook - Aloft Bengaluru Cessna Business Park</td>\n",
       "      <td>North Indian, Continental, Asian, Fast Food, S...</td>\n",
       "      <td>1200</td>\n",
       "      <td>North Indian</td>\n",
       "      <td>Aloft Bengaluru Cessna Business Park, Kadubee...</td>\n",
       "      <td>Aloft Bengaluru Cessna Business Park</td>\n",
       "      <td>https://www.zomato.com/bangalore/nook-aloft-be...</td>\n",
       "      <td>7am – 11:30pm (Today)</td>\n",
       "      <td>777</td>\n",
       "      <td>3.9</td>\n",
       "      <td>3.9</td>\n",
       "      <td>236</td>\n",
       "      <td>600</td>\n",
       "      <td>Average</td>\n",
       "      <td>1013</td>\n",
       "      <td>3951.7</td>\n",
       "      <td>Medium</td>\n",
       "    </tr>\n",
       "    <tr>\n",
       "      <th>497</th>\n",
       "      <td>497</td>\n",
       "      <td>498</td>\n",
       "      <td>World On A Plate - Citrine Hotel</td>\n",
       "      <td>Continental, Mexican, Italian, Chinese, North ...</td>\n",
       "      <td>1800</td>\n",
       "      <td>Continental</td>\n",
       "      <td>Citrine Hotel, Seshadripuram, Bangalore</td>\n",
       "      <td>Citrine Hotel</td>\n",
       "      <td>https://www.zomato.com/bangalore/world-on-a-pl...</td>\n",
       "      <td>Opens tomorrow at 7:30am</td>\n",
       "      <td>202</td>\n",
       "      <td>4.3</td>\n",
       "      <td>4.0</td>\n",
       "      <td>164</td>\n",
       "      <td>900</td>\n",
       "      <td>Good</td>\n",
       "      <td>366</td>\n",
       "      <td>1574.8</td>\n",
       "      <td>Medium</td>\n",
       "    </tr>\n",
       "    <tr>\n",
       "      <th>498</th>\n",
       "      <td>498</td>\n",
       "      <td>499</td>\n",
       "      <td>Blurred</td>\n",
       "      <td>North Indian, South Indian, Continental, Chinese</td>\n",
       "      <td>1000</td>\n",
       "      <td>North Indian</td>\n",
       "      <td>Koramangala 5th Block, Bangalore</td>\n",
       "      <td>Koramangala 5th Block</td>\n",
       "      <td>https://www.zomato.com/bangalore/blurred-koram...</td>\n",
       "      <td>12noon – 12midnight (Today)</td>\n",
       "      <td>637</td>\n",
       "      <td>4.1</td>\n",
       "      <td>0.0</td>\n",
       "      <td>1</td>\n",
       "      <td>500</td>\n",
       "      <td>Good</td>\n",
       "      <td>638</td>\n",
       "      <td>2616.8</td>\n",
       "      <td>Low</td>\n",
       "    </tr>\n",
       "    <tr>\n",
       "      <th>499</th>\n",
       "      <td>499</td>\n",
       "      <td>500</td>\n",
       "      <td>Kozy Brew Cafe</td>\n",
       "      <td>Coffee, Shake, Beverages, Momos, Sandwich, Piz...</td>\n",
       "      <td>300</td>\n",
       "      <td>Coffee</td>\n",
       "      <td>Electronic City, Bangalore</td>\n",
       "      <td>Electronic City</td>\n",
       "      <td>https://www.zomato.com/bangalore/kozy-brew-caf...</td>\n",
       "      <td>Opens tomorrow at 11:30am</td>\n",
       "      <td>52</td>\n",
       "      <td>4.1</td>\n",
       "      <td>0.0</td>\n",
       "      <td>4</td>\n",
       "      <td>150</td>\n",
       "      <td>Good</td>\n",
       "      <td>56</td>\n",
       "      <td>230.6</td>\n",
       "      <td>Low</td>\n",
       "    </tr>\n",
       "    <tr>\n",
       "      <th>500</th>\n",
       "      <td>500</td>\n",
       "      <td>501</td>\n",
       "      <td>Salvadores</td>\n",
       "      <td>Continental, Pasta, Salad, Desserts, Beverages</td>\n",
       "      <td>2500</td>\n",
       "      <td>Continental</td>\n",
       "      <td>MG Road, Bangalore</td>\n",
       "      <td>MG Road</td>\n",
       "      <td>https://www.zomato.com/bangalore/salvadores-mg...</td>\n",
       "      <td>Opens tomorrow at 11am</td>\n",
       "      <td>648</td>\n",
       "      <td>4.6</td>\n",
       "      <td>0.0</td>\n",
       "      <td>0</td>\n",
       "      <td>1250</td>\n",
       "      <td>Excellent</td>\n",
       "      <td>648</td>\n",
       "      <td>2981.8</td>\n",
       "      <td>High</td>\n",
       "    </tr>\n",
       "  </tbody>\n",
       "</table>\n",
       "<p>501 rows × 19 columns</p>\n",
       "</div>"
      ],
      "text/plain": [
       "     Unnamed: 0  Restuarantid                                   Restaurant  \\\n",
       "0             0             1                                Öz by Kebapci   \n",
       "1             1             2                  Over Coffee Cafe & Wine Bar   \n",
       "2             2             3          Babylonia - Global Food & Cocktails   \n",
       "3             3             4                               Oney Brewhouse   \n",
       "4             4             5                                       Homiga   \n",
       "..          ...           ...                                          ...   \n",
       "496         496           497  Nook - Aloft Bengaluru Cessna Business Park   \n",
       "497         497           498             World On A Plate - Citrine Hotel   \n",
       "498         498           499                                      Blurred   \n",
       "499         499           500                               Kozy Brew Cafe   \n",
       "500         500           501                                   Salvadores   \n",
       "\n",
       "                                       Restaurant_Type  Price_for_two  \\\n",
       "0               Turkish, Mediterranean, Middle Eastern           1800   \n",
       "1         European, Italian, Continental, Cafe, Coffee           1200   \n",
       "2    Continental, North Indian, Asian, Italian, Mug...           1500   \n",
       "3    American, Continental, Italian, South Indian, ...           1500   \n",
       "4                                        Korean, Asian           1500   \n",
       "..                                                 ...            ...   \n",
       "496  North Indian, Continental, Asian, Fast Food, S...           1200   \n",
       "497  Continental, Mexican, Italian, Chinese, North ...           1800   \n",
       "498   North Indian, South Indian, Continental, Chinese           1000   \n",
       "499  Coffee, Shake, Beverages, Momos, Sandwich, Piz...            300   \n",
       "500     Continental, Pasta, Salad, Desserts, Beverages           2500   \n",
       "\n",
       "          Cuisine                                           Location  \\\n",
       "0         Turkish                                 UB City, Bangalore   \n",
       "1        European                            Lavelle Road, Bangalore   \n",
       "2     Continental                   Koramangala 7th Block, Bangalore   \n",
       "3        American                         Cunningham Road, Bangalore   \n",
       "4          Korean                          Forum Rex Walk, Bangalore   \n",
       "..            ...                                                ...   \n",
       "496  North Indian   Aloft Bengaluru Cessna Business Park, Kadubee...   \n",
       "497   Continental            Citrine Hotel, Seshadripuram, Bangalore   \n",
       "498  North Indian                   Koramangala 5th Block, Bangalore   \n",
       "499        Coffee                         Electronic City, Bangalore   \n",
       "500   Continental                                 MG Road, Bangalore   \n",
       "\n",
       "                                     Area  \\\n",
       "0                                 UB City   \n",
       "1                            Lavelle Road   \n",
       "2                   Koramangala 7th Block   \n",
       "3                         Cunningham Road   \n",
       "4                          Forum Rex Walk   \n",
       "..                                    ...   \n",
       "496  Aloft Bengaluru Cessna Business Park   \n",
       "497                         Citrine Hotel   \n",
       "498                 Koramangala 5th Block   \n",
       "499                       Electronic City   \n",
       "500                               MG Road   \n",
       "\n",
       "                                                  Link  \\\n",
       "0    https://www.zomato.com/bangalore/öz-by-kebapci...   \n",
       "1    https://www.zomato.com/bangalore/over-coffee-c...   \n",
       "2    https://www.zomato.com/bangalore/babylonia-glo...   \n",
       "3    https://www.zomato.com/bangalore/oney-brewhous...   \n",
       "4    https://www.zomato.com/bangalore/homiga-brigad...   \n",
       "..                                                 ...   \n",
       "496  https://www.zomato.com/bangalore/nook-aloft-be...   \n",
       "497  https://www.zomato.com/bangalore/world-on-a-pl...   \n",
       "498  https://www.zomato.com/bangalore/blurred-koram...   \n",
       "499  https://www.zomato.com/bangalore/kozy-brew-caf...   \n",
       "500  https://www.zomato.com/bangalore/salvadores-mg...   \n",
       "\n",
       "                                                Timing  Dining_Review_Count  \\\n",
       "0                            12:30pm – 12:30am (Today)                  819   \n",
       "1                             Opens tomorrow at 12noon                  560   \n",
       "2                             12noon – 12:30am (Today)                 1203   \n",
       "3                          12noon – 12midnight (Today)                  231   \n",
       "4    24 Hours, 12:30pm – 4:30pm, 6:30pm – 12midnigh...                  207   \n",
       "..                                                 ...                  ...   \n",
       "496                              7am – 11:30pm (Today)                  777   \n",
       "497                           Opens tomorrow at 7:30am                  202   \n",
       "498                        12noon – 12midnight (Today)                  637   \n",
       "499                          Opens tomorrow at 11:30am                   52   \n",
       "500                             Opens tomorrow at 11am                  648   \n",
       "\n",
       "     Dining_Rating  Delivery_Rating  Delivery_Review_Count  Price per Person  \\\n",
       "0              4.5              0.0                      0               900   \n",
       "1              4.7              3.9                     19               600   \n",
       "2              4.5              3.5                     26               750   \n",
       "3              4.1              0.0                      0               750   \n",
       "4              4.4              0.0                      0               750   \n",
       "..             ...              ...                    ...               ...   \n",
       "496            3.9              3.9                    236               600   \n",
       "497            4.3              4.0                    164               900   \n",
       "498            4.1              0.0                      1               500   \n",
       "499            4.1              0.0                      4               150   \n",
       "500            4.6              0.0                      0              1250   \n",
       "\n",
       "    Rating Category  Total Review Count  Popularity score price range category  \n",
       "0         Excellent                 819            3686.5               Medium  \n",
       "1         Excellent                 579            2722.3               Medium  \n",
       "2         Excellent                1229            5531.5               Medium  \n",
       "3              Good                 231             948.1               Medium  \n",
       "4              Good                 207             911.8               Medium  \n",
       "..              ...                 ...               ...                  ...  \n",
       "496         Average                1013            3951.7               Medium  \n",
       "497            Good                 366            1574.8               Medium  \n",
       "498            Good                 638            2616.8                  Low  \n",
       "499            Good                  56             230.6                  Low  \n",
       "500       Excellent                 648            2981.8                 High  \n",
       "\n",
       "[501 rows x 19 columns]"
      ]
     },
     "execution_count": 4,
     "metadata": {},
     "output_type": "execute_result"
    }
   ],
   "source": [
    "df\n",
    "\n",
    "\n",
    "\n",
    "\n",
    "\n",
    "\n"
   ]
  },
  {
   "cell_type": "code",
   "execution_count": 118,
   "id": "1e0d4dd1",
   "metadata": {},
   "outputs": [
    {
     "data": {
      "application/vnd.plotly.v1+json": {
       "config": {
        "plotlyServerURL": "https://plot.ly"
       },
       "data": [
        {
         "alignmentgroup": "True",
         "hovertemplate": "Rating Category=%{x}<br>Total Review Count=%{y}<extra></extra>",
         "legendgroup": "",
         "marker": {
          "color": "#636efa",
          "pattern": {
           "shape": ""
          }
         },
         "name": "",
         "offsetgroup": "",
         "orientation": "v",
         "showlegend": false,
         "textposition": "auto",
         "type": "bar",
         "x": [
          "Excellent",
          "Excellent",
          "Excellent",
          "Good",
          "Good",
          "Good",
          "Good",
          "Good",
          "Good",
          "Good",
          "Good",
          "Below Average",
          "Good",
          "Good",
          "Good",
          "Good",
          "Good",
          "Average",
          "Good",
          "Excellent",
          "Good",
          "Below Average",
          "Good",
          "Excellent",
          "Good",
          "Good",
          "Good",
          "Excellent",
          "Good",
          "Good",
          "Good",
          "Below Average",
          "Average",
          "Good",
          "Excellent",
          "Good",
          "Excellent",
          "Average",
          "Excellent",
          "Excellent",
          "Good",
          "Good",
          "Good",
          "Good",
          "Excellent",
          "Good",
          "Excellent",
          "Average",
          "Good",
          "Good",
          "Excellent",
          "Good",
          "Average",
          "Good",
          "Excellent",
          "Good",
          "Average",
          "Good",
          "Good",
          "Good",
          "Good",
          "Good",
          "Good",
          "Good",
          "Good",
          "Good",
          "Good",
          "Good",
          "Good",
          "Excellent",
          "Good",
          "Good",
          "Excellent",
          "Excellent",
          "Good",
          "Excellent",
          "Excellent",
          "Good",
          "Excellent",
          "Good",
          "Excellent",
          "Good",
          "Good",
          "Good",
          "Good",
          "Good",
          "Good",
          "Excellent",
          "Good",
          "Excellent",
          "Excellent",
          "Good",
          "Excellent",
          "Good",
          "Excellent",
          "Good",
          "Excellent",
          "Good",
          "Good",
          "Good",
          "Good",
          "Good",
          "Good",
          "Good",
          "Good",
          "Good",
          "Good",
          "Good",
          "Good",
          "Excellent",
          "Good",
          "Good",
          "Good",
          "Good",
          "Good",
          "Good",
          "Good",
          "Good",
          "Excellent",
          "Good",
          "Good",
          "Good",
          "Excellent",
          "Excellent",
          "Excellent",
          "Excellent",
          "Good",
          "Good",
          "Good",
          "Good",
          "Excellent",
          "Good",
          "Excellent",
          "Good",
          "Good",
          "Good",
          "Good",
          "Excellent",
          "Good",
          "Good",
          "Good",
          "Good",
          "Good",
          "Excellent",
          "Good",
          "Good",
          "Good",
          "Good",
          "Excellent",
          "Excellent",
          "Good",
          "Good",
          "Good",
          "Excellent",
          "Excellent",
          "Excellent",
          "Excellent",
          "Good",
          "Good",
          "Good",
          "Good",
          "Good",
          "Excellent",
          "Good",
          "Good",
          "Average",
          "Good",
          "Excellent",
          "Good",
          "Good",
          "Good",
          "Good",
          "Good",
          "Excellent",
          "Good",
          "Good",
          "Good",
          "Good",
          "Good",
          "Excellent",
          "Good",
          "Good",
          "Excellent",
          "Good",
          "Good",
          "Good",
          "Good",
          "Good",
          "Good",
          "Average",
          "Excellent",
          "Excellent",
          "Good",
          "Good",
          "Good",
          "Excellent",
          "Good",
          "Good",
          "Good",
          "Good",
          "Good",
          "Good",
          "Good",
          "Excellent",
          "Below Average",
          "Good",
          "Good",
          "Average",
          "Average",
          "Good",
          "Good",
          "Good",
          "Good",
          "Good",
          "Average",
          "Good",
          "Excellent",
          "Good",
          "Below Average",
          "Good",
          "Good",
          "Good",
          "Average",
          "Good",
          "Excellent",
          "Excellent",
          "Good",
          "Excellent",
          "Good",
          "Excellent",
          "Good",
          "Good",
          "Good",
          "Good",
          "Good",
          "Good",
          "Good",
          "Excellent",
          "Good",
          "Average",
          "Good",
          "Good",
          "Good",
          "Good",
          "Good",
          "Below Average",
          "Excellent",
          "Good",
          "Average",
          "Good",
          "Good",
          "Good",
          "Good",
          "Excellent",
          "Good",
          "Average",
          "Good",
          "Good",
          "Good",
          "Good",
          "Good",
          "Excellent",
          "Good",
          "Good",
          "Good",
          "Good",
          "Good",
          "Below Average",
          "Good",
          "Average",
          "Average",
          "Good",
          "Good",
          "Good",
          "Good",
          "Average",
          "Good",
          "Good",
          "Good",
          "Good",
          "Good",
          "Excellent",
          "Good",
          "Good",
          "Good",
          "Good",
          "Good",
          "Excellent",
          "Excellent",
          "Average",
          "Good",
          "Average",
          "Good",
          "Good",
          "Average",
          "Excellent",
          "Excellent",
          "Good",
          "Good",
          "Good",
          "Good",
          "Good",
          "Good",
          "Good",
          "Excellent",
          "Good",
          "Good",
          "Good",
          "Good",
          "Good",
          "Excellent",
          "Good",
          "Good",
          "Good",
          "Good",
          "Good",
          "Good",
          "Good",
          "Good",
          "Good",
          "Excellent",
          "Good",
          "Good",
          "Good",
          "Good",
          "Average",
          "Good",
          "Excellent",
          "Good",
          "Excellent",
          "Below Average",
          "Good",
          "Good",
          "Good",
          "Good",
          "Good",
          "Average",
          "Good",
          "Good",
          "Good",
          "Good",
          "Average",
          "Good",
          "Average",
          "Average",
          "Average",
          "Excellent",
          "Good",
          "Excellent",
          "Good",
          "Good",
          "Good",
          "Average",
          "Good",
          "Excellent",
          "Average",
          "Average",
          "Excellent",
          "Good",
          "Good",
          "Good",
          "Below Average",
          "Average",
          "Excellent",
          "Good",
          "Average",
          "Excellent",
          "Good",
          "Good",
          "Good",
          "Average",
          "Excellent",
          "Good",
          "Good",
          "Excellent",
          "Good",
          "Excellent",
          "Good",
          "Average",
          "Average",
          "Excellent",
          "Good",
          "Good",
          "Good",
          "Average",
          "Excellent",
          "Good",
          "Excellent",
          "Good",
          "Good",
          "Good",
          "Average",
          "Good",
          "Good",
          "Good",
          "Excellent",
          "Average",
          "Good",
          "Good",
          "Good",
          "Average",
          "Good",
          "Excellent",
          "Good",
          "Good",
          "Good",
          "Average",
          "Average",
          "Average",
          "Good",
          "Average",
          "Average",
          "Good",
          "Good",
          "Average",
          "Below Average",
          "Good",
          "Average",
          "Good",
          "Good",
          "Good",
          "Good",
          "Good",
          "Average",
          "Good",
          "Average",
          "Average",
          "Good",
          "Average",
          "Excellent",
          "Good",
          "Good",
          "Average",
          "Average",
          "Average",
          "Good",
          "Average",
          "Average",
          "Good",
          "Good",
          "Excellent",
          "Good",
          "Good",
          "Good",
          "Good",
          "Good",
          "Good",
          "Good",
          "Good",
          "Good",
          "Good",
          "Good",
          "Good",
          "Average",
          "Good",
          "Good",
          "Good",
          "Good",
          "Excellent",
          "Average",
          "Good",
          "Good",
          "Good",
          "Good",
          "Good",
          "Average",
          "Good",
          "Good",
          "Good",
          "Good",
          "Excellent",
          "Excellent",
          "Good",
          "Good",
          "Good",
          "Good",
          "Good",
          "Good",
          "Good",
          "Good",
          "Good",
          "Average",
          "Average",
          "Average",
          "Good",
          "Good",
          "Good",
          "Good",
          "Good",
          "Average",
          "Good",
          "Good",
          "Good",
          "Good",
          "Good",
          "Average",
          "Average",
          "Good",
          "Good",
          "Good",
          "Excellent"
         ],
         "xaxis": "x",
         "y": [
          819,
          579,
          1229,
          231,
          207,
          1272,
          57,
          2991,
          181,
          3862,
          492,
          0,
          2356,
          9676,
          505,
          8503,
          346,
          3773,
          4494,
          32751,
          1202,
          0,
          3605,
          10973,
          4638,
          1168,
          217,
          65200,
          56,
          2136,
          3638,
          143,
          128,
          4319,
          566,
          5059,
          151,
          3964,
          291,
          15216,
          95,
          21286,
          6605,
          244,
          137,
          4987,
          10054,
          512,
          4944,
          14000,
          1109,
          292,
          4522,
          2273,
          3966,
          4530,
          1483,
          794,
          715,
          6687,
          6642,
          7901,
          592,
          12608,
          350,
          2938,
          211,
          8343,
          341,
          17573,
          77,
          3664,
          11811,
          2599,
          979,
          5979,
          5798,
          76,
          12585,
          7629,
          660,
          17699,
          3489,
          1440,
          1989,
          6869,
          8461,
          8608,
          18408,
          2008,
          18112,
          6395,
          6324,
          3617,
          13788,
          5798,
          21584,
          4376,
          449,
          6848,
          3132,
          2395,
          1319,
          6738,
          6643,
          1261,
          1164,
          796,
          1678,
          6164,
          163,
          1241,
          2987,
          12071,
          1839,
          2523,
          2078,
          839,
          1049,
          8334,
          410,
          2906,
          7222,
          269,
          3051,
          310,
          1199,
          1105,
          1892,
          511,
          4681,
          2884,
          20200,
          3700,
          5600,
          350,
          8289,
          1171,
          8869,
          3378,
          2432,
          1138,
          11310,
          813,
          6256,
          478,
          645,
          1358,
          19123,
          1272,
          585,
          5018,
          12297,
          580,
          239,
          17536,
          9619,
          4023,
          880,
          4784,
          1387,
          462,
          329,
          9643,
          433,
          2654,
          6890,
          7939,
          16916,
          11529,
          3575,
          3778,
          6477,
          168,
          5523,
          1969,
          297,
          790,
          9892,
          1769,
          3297,
          1624,
          1850,
          7449,
          1479,
          11396,
          1925,
          4410,
          12253,
          142,
          369,
          11633,
          6702,
          927,
          389,
          8652,
          3584,
          3656,
          9681,
          4594,
          2255,
          849,
          7366,
          916,
          215,
          7095,
          1696,
          5306,
          2639,
          954,
          3539,
          201,
          3106,
          7855,
          369,
          8202,
          2817,
          13302,
          68,
          4796,
          5797,
          5132,
          1039,
          3972,
          106,
          3338,
          5311,
          4570,
          910,
          881,
          321,
          785,
          4970,
          2670,
          1522,
          1446,
          718,
          5291,
          75,
          3161,
          1145,
          695,
          4078,
          1631,
          120,
          133,
          1192,
          1496,
          420,
          841,
          3413,
          2554,
          32,
          746,
          1191,
          7,
          695,
          4094,
          1922,
          955,
          800,
          2079,
          7513,
          860,
          2958,
          11545,
          309,
          32,
          1146,
          125,
          285,
          393,
          3912,
          554,
          1968,
          1527,
          2571,
          4040,
          7626,
          295,
          2638,
          201,
          845,
          4207,
          1049,
          1148,
          48,
          5730,
          402,
          221,
          1632,
          394,
          339,
          4349,
          75,
          4273,
          12242,
          1212,
          128,
          313,
          3532,
          118,
          1732,
          79,
          2049,
          375,
          4298,
          3944,
          226,
          475,
          631,
          228,
          3455,
          187,
          2643,
          611,
          968,
          5269,
          865,
          2110,
          830,
          3991,
          61,
          3892,
          5433,
          2934,
          1164,
          989,
          235,
          995,
          42,
          15787,
          510,
          1747,
          815,
          12674,
          433,
          171,
          911,
          629,
          10265,
          15658,
          2143,
          3389,
          9812,
          1575,
          230,
          1721,
          2863,
          27,
          56,
          900,
          165,
          6544,
          2087,
          2121,
          3364,
          225,
          7048,
          153,
          79,
          146,
          1475,
          2114,
          966,
          38,
          312,
          4265,
          7146,
          3687,
          27,
          10079,
          3370,
          159,
          2708,
          704,
          326,
          5095,
          645,
          53,
          303,
          2229,
          1083,
          13160,
          74,
          1940,
          2565,
          467,
          1851,
          247,
          650,
          1401,
          2943,
          1355,
          75,
          203,
          102981,
          1421,
          120,
          4309,
          25,
          216,
          311,
          536,
          107,
          1575,
          172,
          747,
          102000,
          30,
          230,
          25,
          2427,
          4923,
          39,
          30,
          20,
          120,
          753,
          3495,
          2107,
          5480,
          4091,
          45,
          4119,
          37,
          2359,
          201,
          314,
          560,
          466,
          2681,
          29007,
          760,
          9338,
          478,
          2116,
          988,
          64,
          369,
          226,
          347,
          2893,
          927,
          2660,
          2453,
          1206,
          135,
          1126,
          1313,
          240,
          151,
          6520,
          39217,
          3055,
          35,
          3720,
          4351,
          1218,
          170,
          294,
          22369,
          2167,
          1317,
          65,
          15,
          3167,
          385,
          1439,
          630,
          683,
          203,
          32347,
          37,
          161,
          1398,
          34721,
          457,
          37,
          1840,
          2134,
          158,
          1553,
          46004,
          3563,
          7327,
          78,
          7311,
          2115,
          8177,
          174,
          1697,
          533,
          11766,
          1288,
          125,
          1013,
          366,
          638,
          56,
          648
         ],
         "yaxis": "y"
        }
       ],
       "layout": {
        "barmode": "relative",
        "legend": {
         "tracegroupgap": 0
        },
        "template": {
         "data": {
          "bar": [
           {
            "error_x": {
             "color": "#2a3f5f"
            },
            "error_y": {
             "color": "#2a3f5f"
            },
            "marker": {
             "line": {
              "color": "#E5ECF6",
              "width": 0.5
             },
             "pattern": {
              "fillmode": "overlay",
              "size": 10,
              "solidity": 0.2
             }
            },
            "type": "bar"
           }
          ],
          "barpolar": [
           {
            "marker": {
             "line": {
              "color": "#E5ECF6",
              "width": 0.5
             },
             "pattern": {
              "fillmode": "overlay",
              "size": 10,
              "solidity": 0.2
             }
            },
            "type": "barpolar"
           }
          ],
          "carpet": [
           {
            "aaxis": {
             "endlinecolor": "#2a3f5f",
             "gridcolor": "white",
             "linecolor": "white",
             "minorgridcolor": "white",
             "startlinecolor": "#2a3f5f"
            },
            "baxis": {
             "endlinecolor": "#2a3f5f",
             "gridcolor": "white",
             "linecolor": "white",
             "minorgridcolor": "white",
             "startlinecolor": "#2a3f5f"
            },
            "type": "carpet"
           }
          ],
          "choropleth": [
           {
            "colorbar": {
             "outlinewidth": 0,
             "ticks": ""
            },
            "type": "choropleth"
           }
          ],
          "contour": [
           {
            "colorbar": {
             "outlinewidth": 0,
             "ticks": ""
            },
            "colorscale": [
             [
              0,
              "#0d0887"
             ],
             [
              0.1111111111111111,
              "#46039f"
             ],
             [
              0.2222222222222222,
              "#7201a8"
             ],
             [
              0.3333333333333333,
              "#9c179e"
             ],
             [
              0.4444444444444444,
              "#bd3786"
             ],
             [
              0.5555555555555556,
              "#d8576b"
             ],
             [
              0.6666666666666666,
              "#ed7953"
             ],
             [
              0.7777777777777778,
              "#fb9f3a"
             ],
             [
              0.8888888888888888,
              "#fdca26"
             ],
             [
              1,
              "#f0f921"
             ]
            ],
            "type": "contour"
           }
          ],
          "contourcarpet": [
           {
            "colorbar": {
             "outlinewidth": 0,
             "ticks": ""
            },
            "type": "contourcarpet"
           }
          ],
          "heatmap": [
           {
            "colorbar": {
             "outlinewidth": 0,
             "ticks": ""
            },
            "colorscale": [
             [
              0,
              "#0d0887"
             ],
             [
              0.1111111111111111,
              "#46039f"
             ],
             [
              0.2222222222222222,
              "#7201a8"
             ],
             [
              0.3333333333333333,
              "#9c179e"
             ],
             [
              0.4444444444444444,
              "#bd3786"
             ],
             [
              0.5555555555555556,
              "#d8576b"
             ],
             [
              0.6666666666666666,
              "#ed7953"
             ],
             [
              0.7777777777777778,
              "#fb9f3a"
             ],
             [
              0.8888888888888888,
              "#fdca26"
             ],
             [
              1,
              "#f0f921"
             ]
            ],
            "type": "heatmap"
           }
          ],
          "heatmapgl": [
           {
            "colorbar": {
             "outlinewidth": 0,
             "ticks": ""
            },
            "colorscale": [
             [
              0,
              "#0d0887"
             ],
             [
              0.1111111111111111,
              "#46039f"
             ],
             [
              0.2222222222222222,
              "#7201a8"
             ],
             [
              0.3333333333333333,
              "#9c179e"
             ],
             [
              0.4444444444444444,
              "#bd3786"
             ],
             [
              0.5555555555555556,
              "#d8576b"
             ],
             [
              0.6666666666666666,
              "#ed7953"
             ],
             [
              0.7777777777777778,
              "#fb9f3a"
             ],
             [
              0.8888888888888888,
              "#fdca26"
             ],
             [
              1,
              "#f0f921"
             ]
            ],
            "type": "heatmapgl"
           }
          ],
          "histogram": [
           {
            "marker": {
             "pattern": {
              "fillmode": "overlay",
              "size": 10,
              "solidity": 0.2
             }
            },
            "type": "histogram"
           }
          ],
          "histogram2d": [
           {
            "colorbar": {
             "outlinewidth": 0,
             "ticks": ""
            },
            "colorscale": [
             [
              0,
              "#0d0887"
             ],
             [
              0.1111111111111111,
              "#46039f"
             ],
             [
              0.2222222222222222,
              "#7201a8"
             ],
             [
              0.3333333333333333,
              "#9c179e"
             ],
             [
              0.4444444444444444,
              "#bd3786"
             ],
             [
              0.5555555555555556,
              "#d8576b"
             ],
             [
              0.6666666666666666,
              "#ed7953"
             ],
             [
              0.7777777777777778,
              "#fb9f3a"
             ],
             [
              0.8888888888888888,
              "#fdca26"
             ],
             [
              1,
              "#f0f921"
             ]
            ],
            "type": "histogram2d"
           }
          ],
          "histogram2dcontour": [
           {
            "colorbar": {
             "outlinewidth": 0,
             "ticks": ""
            },
            "colorscale": [
             [
              0,
              "#0d0887"
             ],
             [
              0.1111111111111111,
              "#46039f"
             ],
             [
              0.2222222222222222,
              "#7201a8"
             ],
             [
              0.3333333333333333,
              "#9c179e"
             ],
             [
              0.4444444444444444,
              "#bd3786"
             ],
             [
              0.5555555555555556,
              "#d8576b"
             ],
             [
              0.6666666666666666,
              "#ed7953"
             ],
             [
              0.7777777777777778,
              "#fb9f3a"
             ],
             [
              0.8888888888888888,
              "#fdca26"
             ],
             [
              1,
              "#f0f921"
             ]
            ],
            "type": "histogram2dcontour"
           }
          ],
          "mesh3d": [
           {
            "colorbar": {
             "outlinewidth": 0,
             "ticks": ""
            },
            "type": "mesh3d"
           }
          ],
          "parcoords": [
           {
            "line": {
             "colorbar": {
              "outlinewidth": 0,
              "ticks": ""
             }
            },
            "type": "parcoords"
           }
          ],
          "pie": [
           {
            "automargin": true,
            "type": "pie"
           }
          ],
          "scatter": [
           {
            "fillpattern": {
             "fillmode": "overlay",
             "size": 10,
             "solidity": 0.2
            },
            "type": "scatter"
           }
          ],
          "scatter3d": [
           {
            "line": {
             "colorbar": {
              "outlinewidth": 0,
              "ticks": ""
             }
            },
            "marker": {
             "colorbar": {
              "outlinewidth": 0,
              "ticks": ""
             }
            },
            "type": "scatter3d"
           }
          ],
          "scattercarpet": [
           {
            "marker": {
             "colorbar": {
              "outlinewidth": 0,
              "ticks": ""
             }
            },
            "type": "scattercarpet"
           }
          ],
          "scattergeo": [
           {
            "marker": {
             "colorbar": {
              "outlinewidth": 0,
              "ticks": ""
             }
            },
            "type": "scattergeo"
           }
          ],
          "scattergl": [
           {
            "marker": {
             "colorbar": {
              "outlinewidth": 0,
              "ticks": ""
             }
            },
            "type": "scattergl"
           }
          ],
          "scattermapbox": [
           {
            "marker": {
             "colorbar": {
              "outlinewidth": 0,
              "ticks": ""
             }
            },
            "type": "scattermapbox"
           }
          ],
          "scatterpolar": [
           {
            "marker": {
             "colorbar": {
              "outlinewidth": 0,
              "ticks": ""
             }
            },
            "type": "scatterpolar"
           }
          ],
          "scatterpolargl": [
           {
            "marker": {
             "colorbar": {
              "outlinewidth": 0,
              "ticks": ""
             }
            },
            "type": "scatterpolargl"
           }
          ],
          "scatterternary": [
           {
            "marker": {
             "colorbar": {
              "outlinewidth": 0,
              "ticks": ""
             }
            },
            "type": "scatterternary"
           }
          ],
          "surface": [
           {
            "colorbar": {
             "outlinewidth": 0,
             "ticks": ""
            },
            "colorscale": [
             [
              0,
              "#0d0887"
             ],
             [
              0.1111111111111111,
              "#46039f"
             ],
             [
              0.2222222222222222,
              "#7201a8"
             ],
             [
              0.3333333333333333,
              "#9c179e"
             ],
             [
              0.4444444444444444,
              "#bd3786"
             ],
             [
              0.5555555555555556,
              "#d8576b"
             ],
             [
              0.6666666666666666,
              "#ed7953"
             ],
             [
              0.7777777777777778,
              "#fb9f3a"
             ],
             [
              0.8888888888888888,
              "#fdca26"
             ],
             [
              1,
              "#f0f921"
             ]
            ],
            "type": "surface"
           }
          ],
          "table": [
           {
            "cells": {
             "fill": {
              "color": "#EBF0F8"
             },
             "line": {
              "color": "white"
             }
            },
            "header": {
             "fill": {
              "color": "#C8D4E3"
             },
             "line": {
              "color": "white"
             }
            },
            "type": "table"
           }
          ]
         },
         "layout": {
          "annotationdefaults": {
           "arrowcolor": "#2a3f5f",
           "arrowhead": 0,
           "arrowwidth": 1
          },
          "autotypenumbers": "strict",
          "coloraxis": {
           "colorbar": {
            "outlinewidth": 0,
            "ticks": ""
           }
          },
          "colorscale": {
           "diverging": [
            [
             0,
             "#8e0152"
            ],
            [
             0.1,
             "#c51b7d"
            ],
            [
             0.2,
             "#de77ae"
            ],
            [
             0.3,
             "#f1b6da"
            ],
            [
             0.4,
             "#fde0ef"
            ],
            [
             0.5,
             "#f7f7f7"
            ],
            [
             0.6,
             "#e6f5d0"
            ],
            [
             0.7,
             "#b8e186"
            ],
            [
             0.8,
             "#7fbc41"
            ],
            [
             0.9,
             "#4d9221"
            ],
            [
             1,
             "#276419"
            ]
           ],
           "sequential": [
            [
             0,
             "#0d0887"
            ],
            [
             0.1111111111111111,
             "#46039f"
            ],
            [
             0.2222222222222222,
             "#7201a8"
            ],
            [
             0.3333333333333333,
             "#9c179e"
            ],
            [
             0.4444444444444444,
             "#bd3786"
            ],
            [
             0.5555555555555556,
             "#d8576b"
            ],
            [
             0.6666666666666666,
             "#ed7953"
            ],
            [
             0.7777777777777778,
             "#fb9f3a"
            ],
            [
             0.8888888888888888,
             "#fdca26"
            ],
            [
             1,
             "#f0f921"
            ]
           ],
           "sequentialminus": [
            [
             0,
             "#0d0887"
            ],
            [
             0.1111111111111111,
             "#46039f"
            ],
            [
             0.2222222222222222,
             "#7201a8"
            ],
            [
             0.3333333333333333,
             "#9c179e"
            ],
            [
             0.4444444444444444,
             "#bd3786"
            ],
            [
             0.5555555555555556,
             "#d8576b"
            ],
            [
             0.6666666666666666,
             "#ed7953"
            ],
            [
             0.7777777777777778,
             "#fb9f3a"
            ],
            [
             0.8888888888888888,
             "#fdca26"
            ],
            [
             1,
             "#f0f921"
            ]
           ]
          },
          "colorway": [
           "#636efa",
           "#EF553B",
           "#00cc96",
           "#ab63fa",
           "#FFA15A",
           "#19d3f3",
           "#FF6692",
           "#B6E880",
           "#FF97FF",
           "#FECB52"
          ],
          "font": {
           "color": "#2a3f5f"
          },
          "geo": {
           "bgcolor": "white",
           "lakecolor": "white",
           "landcolor": "#E5ECF6",
           "showlakes": true,
           "showland": true,
           "subunitcolor": "white"
          },
          "hoverlabel": {
           "align": "left"
          },
          "hovermode": "closest",
          "mapbox": {
           "style": "light"
          },
          "paper_bgcolor": "white",
          "plot_bgcolor": "#E5ECF6",
          "polar": {
           "angularaxis": {
            "gridcolor": "white",
            "linecolor": "white",
            "ticks": ""
           },
           "bgcolor": "#E5ECF6",
           "radialaxis": {
            "gridcolor": "white",
            "linecolor": "white",
            "ticks": ""
           }
          },
          "scene": {
           "xaxis": {
            "backgroundcolor": "#E5ECF6",
            "gridcolor": "white",
            "gridwidth": 2,
            "linecolor": "white",
            "showbackground": true,
            "ticks": "",
            "zerolinecolor": "white"
           },
           "yaxis": {
            "backgroundcolor": "#E5ECF6",
            "gridcolor": "white",
            "gridwidth": 2,
            "linecolor": "white",
            "showbackground": true,
            "ticks": "",
            "zerolinecolor": "white"
           },
           "zaxis": {
            "backgroundcolor": "#E5ECF6",
            "gridcolor": "white",
            "gridwidth": 2,
            "linecolor": "white",
            "showbackground": true,
            "ticks": "",
            "zerolinecolor": "white"
           }
          },
          "shapedefaults": {
           "line": {
            "color": "#2a3f5f"
           }
          },
          "ternary": {
           "aaxis": {
            "gridcolor": "white",
            "linecolor": "white",
            "ticks": ""
           },
           "baxis": {
            "gridcolor": "white",
            "linecolor": "white",
            "ticks": ""
           },
           "bgcolor": "#E5ECF6",
           "caxis": {
            "gridcolor": "white",
            "linecolor": "white",
            "ticks": ""
           }
          },
          "title": {
           "x": 0.05
          },
          "xaxis": {
           "automargin": true,
           "gridcolor": "white",
           "linecolor": "white",
           "ticks": "",
           "title": {
            "standoff": 15
           },
           "zerolinecolor": "white",
           "zerolinewidth": 2
          },
          "yaxis": {
           "automargin": true,
           "gridcolor": "white",
           "linecolor": "white",
           "ticks": "",
           "title": {
            "standoff": 15
           },
           "zerolinecolor": "white",
           "zerolinewidth": 2
          }
         }
        },
        "title": {
         "text": "Rating category by Review count",
         "x": 0.5
        },
        "xaxis": {
         "anchor": "y",
         "domain": [
          0,
          1
         ],
         "title": {
          "text": "Rating Category"
         }
        },
        "yaxis": {
         "anchor": "x",
         "domain": [
          0,
          1
         ],
         "title": {
          "text": "Total Review Count"
         }
        }
       }
      },
      "text/html": [
       "<div>                            <div id=\"51555476-acbf-4394-85d4-9d5acd1ada84\" class=\"plotly-graph-div\" style=\"height:525px; width:100%;\"></div>            <script type=\"text/javascript\">                require([\"plotly\"], function(Plotly) {                    window.PLOTLYENV=window.PLOTLYENV || {};                                    if (document.getElementById(\"51555476-acbf-4394-85d4-9d5acd1ada84\")) {                    Plotly.newPlot(                        \"51555476-acbf-4394-85d4-9d5acd1ada84\",                        [{\"alignmentgroup\":\"True\",\"hovertemplate\":\"Rating Category=%{x}<br>Total Review Count=%{y}<extra></extra>\",\"legendgroup\":\"\",\"marker\":{\"color\":\"#636efa\",\"pattern\":{\"shape\":\"\"}},\"name\":\"\",\"offsetgroup\":\"\",\"orientation\":\"v\",\"showlegend\":false,\"textposition\":\"auto\",\"x\":[\"Excellent\",\"Excellent\",\"Excellent\",\"Good\",\"Good\",\"Good\",\"Good\",\"Good\",\"Good\",\"Good\",\"Good\",\"Below Average\",\"Good\",\"Good\",\"Good\",\"Good\",\"Good\",\"Average\",\"Good\",\"Excellent\",\"Good\",\"Below Average\",\"Good\",\"Excellent\",\"Good\",\"Good\",\"Good\",\"Excellent\",\"Good\",\"Good\",\"Good\",\"Below Average\",\"Average\",\"Good\",\"Excellent\",\"Good\",\"Excellent\",\"Average\",\"Excellent\",\"Excellent\",\"Good\",\"Good\",\"Good\",\"Good\",\"Excellent\",\"Good\",\"Excellent\",\"Average\",\"Good\",\"Good\",\"Excellent\",\"Good\",\"Average\",\"Good\",\"Excellent\",\"Good\",\"Average\",\"Good\",\"Good\",\"Good\",\"Good\",\"Good\",\"Good\",\"Good\",\"Good\",\"Good\",\"Good\",\"Good\",\"Good\",\"Excellent\",\"Good\",\"Good\",\"Excellent\",\"Excellent\",\"Good\",\"Excellent\",\"Excellent\",\"Good\",\"Excellent\",\"Good\",\"Excellent\",\"Good\",\"Good\",\"Good\",\"Good\",\"Good\",\"Good\",\"Excellent\",\"Good\",\"Excellent\",\"Excellent\",\"Good\",\"Excellent\",\"Good\",\"Excellent\",\"Good\",\"Excellent\",\"Good\",\"Good\",\"Good\",\"Good\",\"Good\",\"Good\",\"Good\",\"Good\",\"Good\",\"Good\",\"Good\",\"Good\",\"Excellent\",\"Good\",\"Good\",\"Good\",\"Good\",\"Good\",\"Good\",\"Good\",\"Good\",\"Excellent\",\"Good\",\"Good\",\"Good\",\"Excellent\",\"Excellent\",\"Excellent\",\"Excellent\",\"Good\",\"Good\",\"Good\",\"Good\",\"Excellent\",\"Good\",\"Excellent\",\"Good\",\"Good\",\"Good\",\"Good\",\"Excellent\",\"Good\",\"Good\",\"Good\",\"Good\",\"Good\",\"Excellent\",\"Good\",\"Good\",\"Good\",\"Good\",\"Excellent\",\"Excellent\",\"Good\",\"Good\",\"Good\",\"Excellent\",\"Excellent\",\"Excellent\",\"Excellent\",\"Good\",\"Good\",\"Good\",\"Good\",\"Good\",\"Excellent\",\"Good\",\"Good\",\"Average\",\"Good\",\"Excellent\",\"Good\",\"Good\",\"Good\",\"Good\",\"Good\",\"Excellent\",\"Good\",\"Good\",\"Good\",\"Good\",\"Good\",\"Excellent\",\"Good\",\"Good\",\"Excellent\",\"Good\",\"Good\",\"Good\",\"Good\",\"Good\",\"Good\",\"Average\",\"Excellent\",\"Excellent\",\"Good\",\"Good\",\"Good\",\"Excellent\",\"Good\",\"Good\",\"Good\",\"Good\",\"Good\",\"Good\",\"Good\",\"Excellent\",\"Below Average\",\"Good\",\"Good\",\"Average\",\"Average\",\"Good\",\"Good\",\"Good\",\"Good\",\"Good\",\"Average\",\"Good\",\"Excellent\",\"Good\",\"Below Average\",\"Good\",\"Good\",\"Good\",\"Average\",\"Good\",\"Excellent\",\"Excellent\",\"Good\",\"Excellent\",\"Good\",\"Excellent\",\"Good\",\"Good\",\"Good\",\"Good\",\"Good\",\"Good\",\"Good\",\"Excellent\",\"Good\",\"Average\",\"Good\",\"Good\",\"Good\",\"Good\",\"Good\",\"Below Average\",\"Excellent\",\"Good\",\"Average\",\"Good\",\"Good\",\"Good\",\"Good\",\"Excellent\",\"Good\",\"Average\",\"Good\",\"Good\",\"Good\",\"Good\",\"Good\",\"Excellent\",\"Good\",\"Good\",\"Good\",\"Good\",\"Good\",\"Below Average\",\"Good\",\"Average\",\"Average\",\"Good\",\"Good\",\"Good\",\"Good\",\"Average\",\"Good\",\"Good\",\"Good\",\"Good\",\"Good\",\"Excellent\",\"Good\",\"Good\",\"Good\",\"Good\",\"Good\",\"Excellent\",\"Excellent\",\"Average\",\"Good\",\"Average\",\"Good\",\"Good\",\"Average\",\"Excellent\",\"Excellent\",\"Good\",\"Good\",\"Good\",\"Good\",\"Good\",\"Good\",\"Good\",\"Excellent\",\"Good\",\"Good\",\"Good\",\"Good\",\"Good\",\"Excellent\",\"Good\",\"Good\",\"Good\",\"Good\",\"Good\",\"Good\",\"Good\",\"Good\",\"Good\",\"Excellent\",\"Good\",\"Good\",\"Good\",\"Good\",\"Average\",\"Good\",\"Excellent\",\"Good\",\"Excellent\",\"Below Average\",\"Good\",\"Good\",\"Good\",\"Good\",\"Good\",\"Average\",\"Good\",\"Good\",\"Good\",\"Good\",\"Average\",\"Good\",\"Average\",\"Average\",\"Average\",\"Excellent\",\"Good\",\"Excellent\",\"Good\",\"Good\",\"Good\",\"Average\",\"Good\",\"Excellent\",\"Average\",\"Average\",\"Excellent\",\"Good\",\"Good\",\"Good\",\"Below Average\",\"Average\",\"Excellent\",\"Good\",\"Average\",\"Excellent\",\"Good\",\"Good\",\"Good\",\"Average\",\"Excellent\",\"Good\",\"Good\",\"Excellent\",\"Good\",\"Excellent\",\"Good\",\"Average\",\"Average\",\"Excellent\",\"Good\",\"Good\",\"Good\",\"Average\",\"Excellent\",\"Good\",\"Excellent\",\"Good\",\"Good\",\"Good\",\"Average\",\"Good\",\"Good\",\"Good\",\"Excellent\",\"Average\",\"Good\",\"Good\",\"Good\",\"Average\",\"Good\",\"Excellent\",\"Good\",\"Good\",\"Good\",\"Average\",\"Average\",\"Average\",\"Good\",\"Average\",\"Average\",\"Good\",\"Good\",\"Average\",\"Below Average\",\"Good\",\"Average\",\"Good\",\"Good\",\"Good\",\"Good\",\"Good\",\"Average\",\"Good\",\"Average\",\"Average\",\"Good\",\"Average\",\"Excellent\",\"Good\",\"Good\",\"Average\",\"Average\",\"Average\",\"Good\",\"Average\",\"Average\",\"Good\",\"Good\",\"Excellent\",\"Good\",\"Good\",\"Good\",\"Good\",\"Good\",\"Good\",\"Good\",\"Good\",\"Good\",\"Good\",\"Good\",\"Good\",\"Average\",\"Good\",\"Good\",\"Good\",\"Good\",\"Excellent\",\"Average\",\"Good\",\"Good\",\"Good\",\"Good\",\"Good\",\"Average\",\"Good\",\"Good\",\"Good\",\"Good\",\"Excellent\",\"Excellent\",\"Good\",\"Good\",\"Good\",\"Good\",\"Good\",\"Good\",\"Good\",\"Good\",\"Good\",\"Average\",\"Average\",\"Average\",\"Good\",\"Good\",\"Good\",\"Good\",\"Good\",\"Average\",\"Good\",\"Good\",\"Good\",\"Good\",\"Good\",\"Average\",\"Average\",\"Good\",\"Good\",\"Good\",\"Excellent\"],\"xaxis\":\"x\",\"y\":[819,579,1229,231,207,1272,57,2991,181,3862,492,0,2356,9676,505,8503,346,3773,4494,32751,1202,0,3605,10973,4638,1168,217,65200,56,2136,3638,143,128,4319,566,5059,151,3964,291,15216,95,21286,6605,244,137,4987,10054,512,4944,14000,1109,292,4522,2273,3966,4530,1483,794,715,6687,6642,7901,592,12608,350,2938,211,8343,341,17573,77,3664,11811,2599,979,5979,5798,76,12585,7629,660,17699,3489,1440,1989,6869,8461,8608,18408,2008,18112,6395,6324,3617,13788,5798,21584,4376,449,6848,3132,2395,1319,6738,6643,1261,1164,796,1678,6164,163,1241,2987,12071,1839,2523,2078,839,1049,8334,410,2906,7222,269,3051,310,1199,1105,1892,511,4681,2884,20200,3700,5600,350,8289,1171,8869,3378,2432,1138,11310,813,6256,478,645,1358,19123,1272,585,5018,12297,580,239,17536,9619,4023,880,4784,1387,462,329,9643,433,2654,6890,7939,16916,11529,3575,3778,6477,168,5523,1969,297,790,9892,1769,3297,1624,1850,7449,1479,11396,1925,4410,12253,142,369,11633,6702,927,389,8652,3584,3656,9681,4594,2255,849,7366,916,215,7095,1696,5306,2639,954,3539,201,3106,7855,369,8202,2817,13302,68,4796,5797,5132,1039,3972,106,3338,5311,4570,910,881,321,785,4970,2670,1522,1446,718,5291,75,3161,1145,695,4078,1631,120,133,1192,1496,420,841,3413,2554,32,746,1191,7,695,4094,1922,955,800,2079,7513,860,2958,11545,309,32,1146,125,285,393,3912,554,1968,1527,2571,4040,7626,295,2638,201,845,4207,1049,1148,48,5730,402,221,1632,394,339,4349,75,4273,12242,1212,128,313,3532,118,1732,79,2049,375,4298,3944,226,475,631,228,3455,187,2643,611,968,5269,865,2110,830,3991,61,3892,5433,2934,1164,989,235,995,42,15787,510,1747,815,12674,433,171,911,629,10265,15658,2143,3389,9812,1575,230,1721,2863,27,56,900,165,6544,2087,2121,3364,225,7048,153,79,146,1475,2114,966,38,312,4265,7146,3687,27,10079,3370,159,2708,704,326,5095,645,53,303,2229,1083,13160,74,1940,2565,467,1851,247,650,1401,2943,1355,75,203,102981,1421,120,4309,25,216,311,536,107,1575,172,747,102000,30,230,25,2427,4923,39,30,20,120,753,3495,2107,5480,4091,45,4119,37,2359,201,314,560,466,2681,29007,760,9338,478,2116,988,64,369,226,347,2893,927,2660,2453,1206,135,1126,1313,240,151,6520,39217,3055,35,3720,4351,1218,170,294,22369,2167,1317,65,15,3167,385,1439,630,683,203,32347,37,161,1398,34721,457,37,1840,2134,158,1553,46004,3563,7327,78,7311,2115,8177,174,1697,533,11766,1288,125,1013,366,638,56,648],\"yaxis\":\"y\",\"type\":\"bar\"}],                        {\"template\":{\"data\":{\"histogram2dcontour\":[{\"type\":\"histogram2dcontour\",\"colorbar\":{\"outlinewidth\":0,\"ticks\":\"\"},\"colorscale\":[[0.0,\"#0d0887\"],[0.1111111111111111,\"#46039f\"],[0.2222222222222222,\"#7201a8\"],[0.3333333333333333,\"#9c179e\"],[0.4444444444444444,\"#bd3786\"],[0.5555555555555556,\"#d8576b\"],[0.6666666666666666,\"#ed7953\"],[0.7777777777777778,\"#fb9f3a\"],[0.8888888888888888,\"#fdca26\"],[1.0,\"#f0f921\"]]}],\"choropleth\":[{\"type\":\"choropleth\",\"colorbar\":{\"outlinewidth\":0,\"ticks\":\"\"}}],\"histogram2d\":[{\"type\":\"histogram2d\",\"colorbar\":{\"outlinewidth\":0,\"ticks\":\"\"},\"colorscale\":[[0.0,\"#0d0887\"],[0.1111111111111111,\"#46039f\"],[0.2222222222222222,\"#7201a8\"],[0.3333333333333333,\"#9c179e\"],[0.4444444444444444,\"#bd3786\"],[0.5555555555555556,\"#d8576b\"],[0.6666666666666666,\"#ed7953\"],[0.7777777777777778,\"#fb9f3a\"],[0.8888888888888888,\"#fdca26\"],[1.0,\"#f0f921\"]]}],\"heatmap\":[{\"type\":\"heatmap\",\"colorbar\":{\"outlinewidth\":0,\"ticks\":\"\"},\"colorscale\":[[0.0,\"#0d0887\"],[0.1111111111111111,\"#46039f\"],[0.2222222222222222,\"#7201a8\"],[0.3333333333333333,\"#9c179e\"],[0.4444444444444444,\"#bd3786\"],[0.5555555555555556,\"#d8576b\"],[0.6666666666666666,\"#ed7953\"],[0.7777777777777778,\"#fb9f3a\"],[0.8888888888888888,\"#fdca26\"],[1.0,\"#f0f921\"]]}],\"heatmapgl\":[{\"type\":\"heatmapgl\",\"colorbar\":{\"outlinewidth\":0,\"ticks\":\"\"},\"colorscale\":[[0.0,\"#0d0887\"],[0.1111111111111111,\"#46039f\"],[0.2222222222222222,\"#7201a8\"],[0.3333333333333333,\"#9c179e\"],[0.4444444444444444,\"#bd3786\"],[0.5555555555555556,\"#d8576b\"],[0.6666666666666666,\"#ed7953\"],[0.7777777777777778,\"#fb9f3a\"],[0.8888888888888888,\"#fdca26\"],[1.0,\"#f0f921\"]]}],\"contourcarpet\":[{\"type\":\"contourcarpet\",\"colorbar\":{\"outlinewidth\":0,\"ticks\":\"\"}}],\"contour\":[{\"type\":\"contour\",\"colorbar\":{\"outlinewidth\":0,\"ticks\":\"\"},\"colorscale\":[[0.0,\"#0d0887\"],[0.1111111111111111,\"#46039f\"],[0.2222222222222222,\"#7201a8\"],[0.3333333333333333,\"#9c179e\"],[0.4444444444444444,\"#bd3786\"],[0.5555555555555556,\"#d8576b\"],[0.6666666666666666,\"#ed7953\"],[0.7777777777777778,\"#fb9f3a\"],[0.8888888888888888,\"#fdca26\"],[1.0,\"#f0f921\"]]}],\"surface\":[{\"type\":\"surface\",\"colorbar\":{\"outlinewidth\":0,\"ticks\":\"\"},\"colorscale\":[[0.0,\"#0d0887\"],[0.1111111111111111,\"#46039f\"],[0.2222222222222222,\"#7201a8\"],[0.3333333333333333,\"#9c179e\"],[0.4444444444444444,\"#bd3786\"],[0.5555555555555556,\"#d8576b\"],[0.6666666666666666,\"#ed7953\"],[0.7777777777777778,\"#fb9f3a\"],[0.8888888888888888,\"#fdca26\"],[1.0,\"#f0f921\"]]}],\"mesh3d\":[{\"type\":\"mesh3d\",\"colorbar\":{\"outlinewidth\":0,\"ticks\":\"\"}}],\"scatter\":[{\"fillpattern\":{\"fillmode\":\"overlay\",\"size\":10,\"solidity\":0.2},\"type\":\"scatter\"}],\"parcoords\":[{\"type\":\"parcoords\",\"line\":{\"colorbar\":{\"outlinewidth\":0,\"ticks\":\"\"}}}],\"scatterpolargl\":[{\"type\":\"scatterpolargl\",\"marker\":{\"colorbar\":{\"outlinewidth\":0,\"ticks\":\"\"}}}],\"bar\":[{\"error_x\":{\"color\":\"#2a3f5f\"},\"error_y\":{\"color\":\"#2a3f5f\"},\"marker\":{\"line\":{\"color\":\"#E5ECF6\",\"width\":0.5},\"pattern\":{\"fillmode\":\"overlay\",\"size\":10,\"solidity\":0.2}},\"type\":\"bar\"}],\"scattergeo\":[{\"type\":\"scattergeo\",\"marker\":{\"colorbar\":{\"outlinewidth\":0,\"ticks\":\"\"}}}],\"scatterpolar\":[{\"type\":\"scatterpolar\",\"marker\":{\"colorbar\":{\"outlinewidth\":0,\"ticks\":\"\"}}}],\"histogram\":[{\"marker\":{\"pattern\":{\"fillmode\":\"overlay\",\"size\":10,\"solidity\":0.2}},\"type\":\"histogram\"}],\"scattergl\":[{\"type\":\"scattergl\",\"marker\":{\"colorbar\":{\"outlinewidth\":0,\"ticks\":\"\"}}}],\"scatter3d\":[{\"type\":\"scatter3d\",\"line\":{\"colorbar\":{\"outlinewidth\":0,\"ticks\":\"\"}},\"marker\":{\"colorbar\":{\"outlinewidth\":0,\"ticks\":\"\"}}}],\"scattermapbox\":[{\"type\":\"scattermapbox\",\"marker\":{\"colorbar\":{\"outlinewidth\":0,\"ticks\":\"\"}}}],\"scatterternary\":[{\"type\":\"scatterternary\",\"marker\":{\"colorbar\":{\"outlinewidth\":0,\"ticks\":\"\"}}}],\"scattercarpet\":[{\"type\":\"scattercarpet\",\"marker\":{\"colorbar\":{\"outlinewidth\":0,\"ticks\":\"\"}}}],\"carpet\":[{\"aaxis\":{\"endlinecolor\":\"#2a3f5f\",\"gridcolor\":\"white\",\"linecolor\":\"white\",\"minorgridcolor\":\"white\",\"startlinecolor\":\"#2a3f5f\"},\"baxis\":{\"endlinecolor\":\"#2a3f5f\",\"gridcolor\":\"white\",\"linecolor\":\"white\",\"minorgridcolor\":\"white\",\"startlinecolor\":\"#2a3f5f\"},\"type\":\"carpet\"}],\"table\":[{\"cells\":{\"fill\":{\"color\":\"#EBF0F8\"},\"line\":{\"color\":\"white\"}},\"header\":{\"fill\":{\"color\":\"#C8D4E3\"},\"line\":{\"color\":\"white\"}},\"type\":\"table\"}],\"barpolar\":[{\"marker\":{\"line\":{\"color\":\"#E5ECF6\",\"width\":0.5},\"pattern\":{\"fillmode\":\"overlay\",\"size\":10,\"solidity\":0.2}},\"type\":\"barpolar\"}],\"pie\":[{\"automargin\":true,\"type\":\"pie\"}]},\"layout\":{\"autotypenumbers\":\"strict\",\"colorway\":[\"#636efa\",\"#EF553B\",\"#00cc96\",\"#ab63fa\",\"#FFA15A\",\"#19d3f3\",\"#FF6692\",\"#B6E880\",\"#FF97FF\",\"#FECB52\"],\"font\":{\"color\":\"#2a3f5f\"},\"hovermode\":\"closest\",\"hoverlabel\":{\"align\":\"left\"},\"paper_bgcolor\":\"white\",\"plot_bgcolor\":\"#E5ECF6\",\"polar\":{\"bgcolor\":\"#E5ECF6\",\"angularaxis\":{\"gridcolor\":\"white\",\"linecolor\":\"white\",\"ticks\":\"\"},\"radialaxis\":{\"gridcolor\":\"white\",\"linecolor\":\"white\",\"ticks\":\"\"}},\"ternary\":{\"bgcolor\":\"#E5ECF6\",\"aaxis\":{\"gridcolor\":\"white\",\"linecolor\":\"white\",\"ticks\":\"\"},\"baxis\":{\"gridcolor\":\"white\",\"linecolor\":\"white\",\"ticks\":\"\"},\"caxis\":{\"gridcolor\":\"white\",\"linecolor\":\"white\",\"ticks\":\"\"}},\"coloraxis\":{\"colorbar\":{\"outlinewidth\":0,\"ticks\":\"\"}},\"colorscale\":{\"sequential\":[[0.0,\"#0d0887\"],[0.1111111111111111,\"#46039f\"],[0.2222222222222222,\"#7201a8\"],[0.3333333333333333,\"#9c179e\"],[0.4444444444444444,\"#bd3786\"],[0.5555555555555556,\"#d8576b\"],[0.6666666666666666,\"#ed7953\"],[0.7777777777777778,\"#fb9f3a\"],[0.8888888888888888,\"#fdca26\"],[1.0,\"#f0f921\"]],\"sequentialminus\":[[0.0,\"#0d0887\"],[0.1111111111111111,\"#46039f\"],[0.2222222222222222,\"#7201a8\"],[0.3333333333333333,\"#9c179e\"],[0.4444444444444444,\"#bd3786\"],[0.5555555555555556,\"#d8576b\"],[0.6666666666666666,\"#ed7953\"],[0.7777777777777778,\"#fb9f3a\"],[0.8888888888888888,\"#fdca26\"],[1.0,\"#f0f921\"]],\"diverging\":[[0,\"#8e0152\"],[0.1,\"#c51b7d\"],[0.2,\"#de77ae\"],[0.3,\"#f1b6da\"],[0.4,\"#fde0ef\"],[0.5,\"#f7f7f7\"],[0.6,\"#e6f5d0\"],[0.7,\"#b8e186\"],[0.8,\"#7fbc41\"],[0.9,\"#4d9221\"],[1,\"#276419\"]]},\"xaxis\":{\"gridcolor\":\"white\",\"linecolor\":\"white\",\"ticks\":\"\",\"title\":{\"standoff\":15},\"zerolinecolor\":\"white\",\"automargin\":true,\"zerolinewidth\":2},\"yaxis\":{\"gridcolor\":\"white\",\"linecolor\":\"white\",\"ticks\":\"\",\"title\":{\"standoff\":15},\"zerolinecolor\":\"white\",\"automargin\":true,\"zerolinewidth\":2},\"scene\":{\"xaxis\":{\"backgroundcolor\":\"#E5ECF6\",\"gridcolor\":\"white\",\"linecolor\":\"white\",\"showbackground\":true,\"ticks\":\"\",\"zerolinecolor\":\"white\",\"gridwidth\":2},\"yaxis\":{\"backgroundcolor\":\"#E5ECF6\",\"gridcolor\":\"white\",\"linecolor\":\"white\",\"showbackground\":true,\"ticks\":\"\",\"zerolinecolor\":\"white\",\"gridwidth\":2},\"zaxis\":{\"backgroundcolor\":\"#E5ECF6\",\"gridcolor\":\"white\",\"linecolor\":\"white\",\"showbackground\":true,\"ticks\":\"\",\"zerolinecolor\":\"white\",\"gridwidth\":2}},\"shapedefaults\":{\"line\":{\"color\":\"#2a3f5f\"}},\"annotationdefaults\":{\"arrowcolor\":\"#2a3f5f\",\"arrowhead\":0,\"arrowwidth\":1},\"geo\":{\"bgcolor\":\"white\",\"landcolor\":\"#E5ECF6\",\"subunitcolor\":\"white\",\"showland\":true,\"showlakes\":true,\"lakecolor\":\"white\"},\"title\":{\"x\":0.05},\"mapbox\":{\"style\":\"light\"}}},\"xaxis\":{\"anchor\":\"y\",\"domain\":[0.0,1.0],\"title\":{\"text\":\"Rating Category\"}},\"yaxis\":{\"anchor\":\"x\",\"domain\":[0.0,1.0],\"title\":{\"text\":\"Total Review Count\"}},\"legend\":{\"tracegroupgap\":0},\"title\":{\"text\":\"Rating category by Review count\",\"x\":0.5},\"barmode\":\"relative\"},                        {\"responsive\": true}                    ).then(function(){\n",
       "                            \n",
       "var gd = document.getElementById('51555476-acbf-4394-85d4-9d5acd1ada84');\n",
       "var x = new MutationObserver(function (mutations, observer) {{\n",
       "        var display = window.getComputedStyle(gd).display;\n",
       "        if (!display || display === 'none') {{\n",
       "            console.log([gd, 'removed!']);\n",
       "            Plotly.purge(gd);\n",
       "            observer.disconnect();\n",
       "        }}\n",
       "}});\n",
       "\n",
       "// Listen for the removal of the full notebook cells\n",
       "var notebookContainer = gd.closest('#notebook-container');\n",
       "if (notebookContainer) {{\n",
       "    x.observe(notebookContainer, {childList: true});\n",
       "}}\n",
       "\n",
       "// Listen for the clearing of the current output cell\n",
       "var outputEl = gd.closest('.output');\n",
       "if (outputEl) {{\n",
       "    x.observe(outputEl, {childList: true});\n",
       "}}\n",
       "\n",
       "                        })                };                });            </script>        </div>"
      ]
     },
     "metadata": {},
     "output_type": "display_data"
    }
   ],
   "source": [
    "fig = px.bar(df, x='Rating Category', y='Total Review Count', \n",
    "             title='Rating category by Review count')\n",
    "fig.update_layout(title_x=0.5)\n",
    "\n",
    "fig.show()"
   ]
  },
  {
   "cell_type": "code",
   "execution_count": null,
   "id": "edda36d9",
   "metadata": {},
   "outputs": [],
   "source": []
  },
  {
   "cell_type": "code",
   "execution_count": 79,
   "id": "00948d75",
   "metadata": {
    "scrolled": true
   },
   "outputs": [
    {
     "data": {
      "application/vnd.plotly.v1+json": {
       "config": {
        "plotlyServerURL": "https://plot.ly"
       },
       "data": [
        {
         "alignmentgroup": "True",
         "bingroup": "x",
         "hovertemplate": "price range category=%{x}<br>count=%{y}<extra></extra>",
         "legendgroup": "",
         "marker": {
          "color": "#636efa",
          "pattern": {
           "shape": ""
          }
         },
         "name": "",
         "offsetgroup": "",
         "orientation": "v",
         "showlegend": false,
         "type": "histogram",
         "x": [
          "Medium",
          "Medium",
          "Medium",
          "Medium",
          "Medium",
          "Medium",
          "Medium",
          "High",
          "High",
          "Medium",
          "Medium",
          "Low",
          "Medium",
          "High",
          "Medium",
          "High",
          "Medium",
          "Medium",
          "Medium",
          "High",
          "High",
          "Low",
          "Medium",
          "High",
          "High",
          "High",
          "Medium",
          "High",
          "Medium",
          "High",
          "High",
          "High",
          "Medium",
          "Medium",
          "Medium",
          "Medium",
          "Medium",
          "Medium",
          "Low",
          "Medium",
          "High",
          "High",
          "Low",
          "High",
          "Medium",
          "High",
          "Medium",
          "High",
          "Medium",
          "High",
          "Medium",
          "High",
          "High",
          "Medium",
          "High",
          "High",
          "High",
          "High",
          "Medium",
          "High",
          "Medium",
          "Medium",
          "Medium",
          "Medium",
          "High",
          "Medium",
          "Medium",
          "Medium",
          "Medium",
          "High",
          "Medium",
          "Medium",
          "High",
          "High",
          "Medium",
          "High",
          "Medium",
          "Medium",
          "Medium",
          "Medium",
          "Medium",
          "High",
          "Medium",
          "Medium",
          "High",
          "Medium",
          "Medium",
          "High",
          "High",
          "High",
          "Medium",
          "Medium",
          "Medium",
          "Medium",
          "High",
          "High",
          "Medium",
          "Medium",
          "Medium",
          "High",
          "High",
          "Medium",
          "Medium",
          "Medium",
          "Medium",
          "High",
          "Medium",
          "Medium",
          "High",
          "Medium",
          "High",
          "Medium",
          "Medium",
          "High",
          "Medium",
          "Medium",
          "Medium",
          "Medium",
          "High",
          "High",
          "Medium",
          "High",
          "Medium",
          "High",
          "High",
          "Medium",
          "Medium",
          "Medium",
          "Medium",
          "High",
          "Medium",
          "Medium",
          "Medium",
          "Medium",
          "Medium",
          "Medium",
          "High",
          "Low",
          "High",
          "Medium",
          "High",
          "Medium",
          "High",
          "Medium",
          "High",
          "Medium",
          "Medium",
          "Medium",
          "Medium",
          "Medium",
          "Medium",
          "Medium",
          "Medium",
          "Low",
          "Medium",
          "Medium",
          "Medium",
          "Medium",
          "High",
          "Medium",
          "High",
          "High",
          "High",
          "Medium",
          "Medium",
          "Low",
          "Medium",
          "High",
          "Low",
          "Medium",
          "High",
          "Medium",
          "High",
          "High",
          "Medium",
          "High",
          "Medium",
          "Medium",
          "Medium",
          "Medium",
          "Medium",
          "High",
          "Medium",
          "Medium",
          "Medium",
          "High",
          "Medium",
          "Medium",
          "Medium",
          "High",
          "Medium",
          "Medium",
          "Low",
          "Low",
          "Medium",
          "High",
          "Medium",
          "High",
          "High",
          "Low",
          "Medium",
          "Low",
          "High",
          "Medium",
          "Medium",
          "High",
          "High",
          "Medium",
          "High",
          "Medium",
          "Medium",
          "Medium",
          "High",
          "Medium",
          "Low",
          "High",
          "High",
          "Low",
          "Medium",
          "Medium",
          "Medium",
          "Medium",
          "Low",
          "High",
          "Medium",
          "High",
          "Low",
          "Medium",
          "Medium",
          "Medium",
          "Medium",
          "Medium",
          "High",
          "Medium",
          "Medium",
          "Medium",
          "High",
          "Medium",
          "High",
          "Medium",
          "High",
          "Low",
          "High",
          "Medium",
          "High",
          "Medium",
          "High",
          "Low",
          "Low",
          "Medium",
          "Medium",
          "High",
          "Medium",
          "Medium",
          "Medium",
          "High",
          "High",
          "High",
          "High",
          "High",
          "Medium",
          "High",
          "Medium",
          "High",
          "High",
          "Medium",
          "Medium",
          "Medium",
          "Medium",
          "Medium",
          "High",
          "High",
          "Medium",
          "Low",
          "High",
          "Medium",
          "Medium",
          "High",
          "Medium",
          "Low",
          "High",
          "High",
          "High",
          "Medium",
          "Medium",
          "Medium",
          "High",
          "Medium",
          "Low",
          "High",
          "Medium",
          "Low",
          "Medium",
          "Medium",
          "Medium",
          "Low",
          "Low",
          "High",
          "Medium",
          "High",
          "Medium",
          "Medium",
          "Medium",
          "High",
          "Medium",
          "Medium",
          "Medium",
          "High",
          "Medium",
          "Medium",
          "High",
          "Medium",
          "Medium",
          "High",
          "Medium",
          "Medium",
          "Medium",
          "Medium",
          "Medium",
          "Medium",
          "Medium",
          "High",
          "Low",
          "Medium",
          "Medium",
          "Medium",
          "Medium",
          "Medium",
          "Medium",
          "High",
          "High",
          "Medium",
          "Medium",
          "Medium",
          "Low",
          "Medium",
          "High",
          "High",
          "Medium",
          "Medium",
          "Medium",
          "Low",
          "High",
          "Medium",
          "Low",
          "Medium",
          "Medium",
          "Medium",
          "High",
          "Medium",
          "Medium",
          "High",
          "Medium",
          "Medium",
          "Low",
          "Medium",
          "Low",
          "Medium",
          "Low",
          "Medium",
          "Low",
          "Medium",
          "Medium",
          "Medium",
          "High",
          "Medium",
          "Medium",
          "Medium",
          "Medium",
          "Medium",
          "Medium",
          "Medium",
          "Medium",
          "Medium",
          "Medium",
          "Medium",
          "Medium",
          "High",
          "Medium",
          "High",
          "Medium",
          "Low",
          "Low",
          "Medium",
          "Low",
          "Medium",
          "High",
          "Medium",
          "Medium",
          "Medium",
          "Medium",
          "Low",
          "Medium",
          "Medium",
          "High",
          "Medium",
          "Low",
          "Low",
          "Low",
          "Medium",
          "High",
          "Medium",
          "Medium",
          "Medium",
          "Medium",
          "High",
          "Medium",
          "Medium",
          "Low",
          "Medium",
          "Medium",
          "Low",
          "Medium",
          "High",
          "High",
          "Medium",
          "Medium",
          "Low",
          "Medium",
          "High",
          "Medium",
          "High",
          "Medium",
          "High",
          "Medium",
          "Low",
          "Medium",
          "Low",
          "Low",
          "High",
          "Medium",
          "High",
          "Medium",
          "High",
          "Low",
          "Medium",
          "Medium",
          "Low",
          "Medium",
          "Low",
          "High",
          "High",
          "High",
          "Medium",
          "Medium",
          "Medium",
          "Medium",
          "Low",
          "High",
          "Medium",
          "Medium",
          "Medium",
          "Medium",
          "Low",
          "Medium",
          "High",
          "Medium",
          "High",
          "High",
          "Low",
          "Low",
          "Medium",
          "Medium",
          "Medium",
          "High",
          "High",
          "Low",
          "High",
          "Medium",
          "High",
          "High",
          "Medium",
          "Low",
          "Low",
          "Medium",
          "Low",
          "Medium",
          "High",
          "High",
          "Medium",
          "Low",
          "Medium",
          "Medium",
          "Low",
          "Medium",
          "Medium",
          "High",
          "Medium",
          "Medium",
          "Medium",
          "Medium",
          "Low",
          "High",
          "Medium",
          "Medium",
          "Low",
          "Medium",
          "Medium",
          "Medium",
          "Low",
          "High"
         ],
         "xaxis": "x",
         "yaxis": "y"
        }
       ],
       "layout": {
        "barmode": "relative",
        "legend": {
         "tracegroupgap": 0
        },
        "template": {
         "data": {
          "bar": [
           {
            "error_x": {
             "color": "#2a3f5f"
            },
            "error_y": {
             "color": "#2a3f5f"
            },
            "marker": {
             "line": {
              "color": "#E5ECF6",
              "width": 0.5
             },
             "pattern": {
              "fillmode": "overlay",
              "size": 10,
              "solidity": 0.2
             }
            },
            "type": "bar"
           }
          ],
          "barpolar": [
           {
            "marker": {
             "line": {
              "color": "#E5ECF6",
              "width": 0.5
             },
             "pattern": {
              "fillmode": "overlay",
              "size": 10,
              "solidity": 0.2
             }
            },
            "type": "barpolar"
           }
          ],
          "carpet": [
           {
            "aaxis": {
             "endlinecolor": "#2a3f5f",
             "gridcolor": "white",
             "linecolor": "white",
             "minorgridcolor": "white",
             "startlinecolor": "#2a3f5f"
            },
            "baxis": {
             "endlinecolor": "#2a3f5f",
             "gridcolor": "white",
             "linecolor": "white",
             "minorgridcolor": "white",
             "startlinecolor": "#2a3f5f"
            },
            "type": "carpet"
           }
          ],
          "choropleth": [
           {
            "colorbar": {
             "outlinewidth": 0,
             "ticks": ""
            },
            "type": "choropleth"
           }
          ],
          "contour": [
           {
            "colorbar": {
             "outlinewidth": 0,
             "ticks": ""
            },
            "colorscale": [
             [
              0,
              "#0d0887"
             ],
             [
              0.1111111111111111,
              "#46039f"
             ],
             [
              0.2222222222222222,
              "#7201a8"
             ],
             [
              0.3333333333333333,
              "#9c179e"
             ],
             [
              0.4444444444444444,
              "#bd3786"
             ],
             [
              0.5555555555555556,
              "#d8576b"
             ],
             [
              0.6666666666666666,
              "#ed7953"
             ],
             [
              0.7777777777777778,
              "#fb9f3a"
             ],
             [
              0.8888888888888888,
              "#fdca26"
             ],
             [
              1,
              "#f0f921"
             ]
            ],
            "type": "contour"
           }
          ],
          "contourcarpet": [
           {
            "colorbar": {
             "outlinewidth": 0,
             "ticks": ""
            },
            "type": "contourcarpet"
           }
          ],
          "heatmap": [
           {
            "colorbar": {
             "outlinewidth": 0,
             "ticks": ""
            },
            "colorscale": [
             [
              0,
              "#0d0887"
             ],
             [
              0.1111111111111111,
              "#46039f"
             ],
             [
              0.2222222222222222,
              "#7201a8"
             ],
             [
              0.3333333333333333,
              "#9c179e"
             ],
             [
              0.4444444444444444,
              "#bd3786"
             ],
             [
              0.5555555555555556,
              "#d8576b"
             ],
             [
              0.6666666666666666,
              "#ed7953"
             ],
             [
              0.7777777777777778,
              "#fb9f3a"
             ],
             [
              0.8888888888888888,
              "#fdca26"
             ],
             [
              1,
              "#f0f921"
             ]
            ],
            "type": "heatmap"
           }
          ],
          "heatmapgl": [
           {
            "colorbar": {
             "outlinewidth": 0,
             "ticks": ""
            },
            "colorscale": [
             [
              0,
              "#0d0887"
             ],
             [
              0.1111111111111111,
              "#46039f"
             ],
             [
              0.2222222222222222,
              "#7201a8"
             ],
             [
              0.3333333333333333,
              "#9c179e"
             ],
             [
              0.4444444444444444,
              "#bd3786"
             ],
             [
              0.5555555555555556,
              "#d8576b"
             ],
             [
              0.6666666666666666,
              "#ed7953"
             ],
             [
              0.7777777777777778,
              "#fb9f3a"
             ],
             [
              0.8888888888888888,
              "#fdca26"
             ],
             [
              1,
              "#f0f921"
             ]
            ],
            "type": "heatmapgl"
           }
          ],
          "histogram": [
           {
            "marker": {
             "pattern": {
              "fillmode": "overlay",
              "size": 10,
              "solidity": 0.2
             }
            },
            "type": "histogram"
           }
          ],
          "histogram2d": [
           {
            "colorbar": {
             "outlinewidth": 0,
             "ticks": ""
            },
            "colorscale": [
             [
              0,
              "#0d0887"
             ],
             [
              0.1111111111111111,
              "#46039f"
             ],
             [
              0.2222222222222222,
              "#7201a8"
             ],
             [
              0.3333333333333333,
              "#9c179e"
             ],
             [
              0.4444444444444444,
              "#bd3786"
             ],
             [
              0.5555555555555556,
              "#d8576b"
             ],
             [
              0.6666666666666666,
              "#ed7953"
             ],
             [
              0.7777777777777778,
              "#fb9f3a"
             ],
             [
              0.8888888888888888,
              "#fdca26"
             ],
             [
              1,
              "#f0f921"
             ]
            ],
            "type": "histogram2d"
           }
          ],
          "histogram2dcontour": [
           {
            "colorbar": {
             "outlinewidth": 0,
             "ticks": ""
            },
            "colorscale": [
             [
              0,
              "#0d0887"
             ],
             [
              0.1111111111111111,
              "#46039f"
             ],
             [
              0.2222222222222222,
              "#7201a8"
             ],
             [
              0.3333333333333333,
              "#9c179e"
             ],
             [
              0.4444444444444444,
              "#bd3786"
             ],
             [
              0.5555555555555556,
              "#d8576b"
             ],
             [
              0.6666666666666666,
              "#ed7953"
             ],
             [
              0.7777777777777778,
              "#fb9f3a"
             ],
             [
              0.8888888888888888,
              "#fdca26"
             ],
             [
              1,
              "#f0f921"
             ]
            ],
            "type": "histogram2dcontour"
           }
          ],
          "mesh3d": [
           {
            "colorbar": {
             "outlinewidth": 0,
             "ticks": ""
            },
            "type": "mesh3d"
           }
          ],
          "parcoords": [
           {
            "line": {
             "colorbar": {
              "outlinewidth": 0,
              "ticks": ""
             }
            },
            "type": "parcoords"
           }
          ],
          "pie": [
           {
            "automargin": true,
            "type": "pie"
           }
          ],
          "scatter": [
           {
            "fillpattern": {
             "fillmode": "overlay",
             "size": 10,
             "solidity": 0.2
            },
            "type": "scatter"
           }
          ],
          "scatter3d": [
           {
            "line": {
             "colorbar": {
              "outlinewidth": 0,
              "ticks": ""
             }
            },
            "marker": {
             "colorbar": {
              "outlinewidth": 0,
              "ticks": ""
             }
            },
            "type": "scatter3d"
           }
          ],
          "scattercarpet": [
           {
            "marker": {
             "colorbar": {
              "outlinewidth": 0,
              "ticks": ""
             }
            },
            "type": "scattercarpet"
           }
          ],
          "scattergeo": [
           {
            "marker": {
             "colorbar": {
              "outlinewidth": 0,
              "ticks": ""
             }
            },
            "type": "scattergeo"
           }
          ],
          "scattergl": [
           {
            "marker": {
             "colorbar": {
              "outlinewidth": 0,
              "ticks": ""
             }
            },
            "type": "scattergl"
           }
          ],
          "scattermapbox": [
           {
            "marker": {
             "colorbar": {
              "outlinewidth": 0,
              "ticks": ""
             }
            },
            "type": "scattermapbox"
           }
          ],
          "scatterpolar": [
           {
            "marker": {
             "colorbar": {
              "outlinewidth": 0,
              "ticks": ""
             }
            },
            "type": "scatterpolar"
           }
          ],
          "scatterpolargl": [
           {
            "marker": {
             "colorbar": {
              "outlinewidth": 0,
              "ticks": ""
             }
            },
            "type": "scatterpolargl"
           }
          ],
          "scatterternary": [
           {
            "marker": {
             "colorbar": {
              "outlinewidth": 0,
              "ticks": ""
             }
            },
            "type": "scatterternary"
           }
          ],
          "surface": [
           {
            "colorbar": {
             "outlinewidth": 0,
             "ticks": ""
            },
            "colorscale": [
             [
              0,
              "#0d0887"
             ],
             [
              0.1111111111111111,
              "#46039f"
             ],
             [
              0.2222222222222222,
              "#7201a8"
             ],
             [
              0.3333333333333333,
              "#9c179e"
             ],
             [
              0.4444444444444444,
              "#bd3786"
             ],
             [
              0.5555555555555556,
              "#d8576b"
             ],
             [
              0.6666666666666666,
              "#ed7953"
             ],
             [
              0.7777777777777778,
              "#fb9f3a"
             ],
             [
              0.8888888888888888,
              "#fdca26"
             ],
             [
              1,
              "#f0f921"
             ]
            ],
            "type": "surface"
           }
          ],
          "table": [
           {
            "cells": {
             "fill": {
              "color": "#EBF0F8"
             },
             "line": {
              "color": "white"
             }
            },
            "header": {
             "fill": {
              "color": "#C8D4E3"
             },
             "line": {
              "color": "white"
             }
            },
            "type": "table"
           }
          ]
         },
         "layout": {
          "annotationdefaults": {
           "arrowcolor": "#2a3f5f",
           "arrowhead": 0,
           "arrowwidth": 1
          },
          "autotypenumbers": "strict",
          "coloraxis": {
           "colorbar": {
            "outlinewidth": 0,
            "ticks": ""
           }
          },
          "colorscale": {
           "diverging": [
            [
             0,
             "#8e0152"
            ],
            [
             0.1,
             "#c51b7d"
            ],
            [
             0.2,
             "#de77ae"
            ],
            [
             0.3,
             "#f1b6da"
            ],
            [
             0.4,
             "#fde0ef"
            ],
            [
             0.5,
             "#f7f7f7"
            ],
            [
             0.6,
             "#e6f5d0"
            ],
            [
             0.7,
             "#b8e186"
            ],
            [
             0.8,
             "#7fbc41"
            ],
            [
             0.9,
             "#4d9221"
            ],
            [
             1,
             "#276419"
            ]
           ],
           "sequential": [
            [
             0,
             "#0d0887"
            ],
            [
             0.1111111111111111,
             "#46039f"
            ],
            [
             0.2222222222222222,
             "#7201a8"
            ],
            [
             0.3333333333333333,
             "#9c179e"
            ],
            [
             0.4444444444444444,
             "#bd3786"
            ],
            [
             0.5555555555555556,
             "#d8576b"
            ],
            [
             0.6666666666666666,
             "#ed7953"
            ],
            [
             0.7777777777777778,
             "#fb9f3a"
            ],
            [
             0.8888888888888888,
             "#fdca26"
            ],
            [
             1,
             "#f0f921"
            ]
           ],
           "sequentialminus": [
            [
             0,
             "#0d0887"
            ],
            [
             0.1111111111111111,
             "#46039f"
            ],
            [
             0.2222222222222222,
             "#7201a8"
            ],
            [
             0.3333333333333333,
             "#9c179e"
            ],
            [
             0.4444444444444444,
             "#bd3786"
            ],
            [
             0.5555555555555556,
             "#d8576b"
            ],
            [
             0.6666666666666666,
             "#ed7953"
            ],
            [
             0.7777777777777778,
             "#fb9f3a"
            ],
            [
             0.8888888888888888,
             "#fdca26"
            ],
            [
             1,
             "#f0f921"
            ]
           ]
          },
          "colorway": [
           "#636efa",
           "#EF553B",
           "#00cc96",
           "#ab63fa",
           "#FFA15A",
           "#19d3f3",
           "#FF6692",
           "#B6E880",
           "#FF97FF",
           "#FECB52"
          ],
          "font": {
           "color": "#2a3f5f"
          },
          "geo": {
           "bgcolor": "white",
           "lakecolor": "white",
           "landcolor": "#E5ECF6",
           "showlakes": true,
           "showland": true,
           "subunitcolor": "white"
          },
          "hoverlabel": {
           "align": "left"
          },
          "hovermode": "closest",
          "mapbox": {
           "style": "light"
          },
          "paper_bgcolor": "white",
          "plot_bgcolor": "#E5ECF6",
          "polar": {
           "angularaxis": {
            "gridcolor": "white",
            "linecolor": "white",
            "ticks": ""
           },
           "bgcolor": "#E5ECF6",
           "radialaxis": {
            "gridcolor": "white",
            "linecolor": "white",
            "ticks": ""
           }
          },
          "scene": {
           "xaxis": {
            "backgroundcolor": "#E5ECF6",
            "gridcolor": "white",
            "gridwidth": 2,
            "linecolor": "white",
            "showbackground": true,
            "ticks": "",
            "zerolinecolor": "white"
           },
           "yaxis": {
            "backgroundcolor": "#E5ECF6",
            "gridcolor": "white",
            "gridwidth": 2,
            "linecolor": "white",
            "showbackground": true,
            "ticks": "",
            "zerolinecolor": "white"
           },
           "zaxis": {
            "backgroundcolor": "#E5ECF6",
            "gridcolor": "white",
            "gridwidth": 2,
            "linecolor": "white",
            "showbackground": true,
            "ticks": "",
            "zerolinecolor": "white"
           }
          },
          "shapedefaults": {
           "line": {
            "color": "#2a3f5f"
           }
          },
          "ternary": {
           "aaxis": {
            "gridcolor": "white",
            "linecolor": "white",
            "ticks": ""
           },
           "baxis": {
            "gridcolor": "white",
            "linecolor": "white",
            "ticks": ""
           },
           "bgcolor": "#E5ECF6",
           "caxis": {
            "gridcolor": "white",
            "linecolor": "white",
            "ticks": ""
           }
          },
          "title": {
           "x": 0.05
          },
          "xaxis": {
           "automargin": true,
           "gridcolor": "white",
           "linecolor": "white",
           "ticks": "",
           "title": {
            "standoff": 15
           },
           "zerolinecolor": "white",
           "zerolinewidth": 2
          },
          "yaxis": {
           "automargin": true,
           "gridcolor": "white",
           "linecolor": "white",
           "ticks": "",
           "title": {
            "standoff": 15
           },
           "zerolinecolor": "white",
           "zerolinewidth": 2
          }
         }
        },
        "title": {
         "text": "Price range category by count(High: Price>1000, Medium: price>=500 & price<=1000, Low: price<500)",
         "x": 0.5
        },
        "xaxis": {
         "anchor": "y",
         "domain": [
          0,
          1
         ],
         "title": {
          "text": "price range category"
         }
        },
        "yaxis": {
         "anchor": "x",
         "domain": [
          0,
          1
         ],
         "title": {
          "text": "count"
         }
        }
       }
      },
      "text/html": [
       "<div>                            <div id=\"2172123b-6d14-4eac-8b92-c2df3f281d6e\" class=\"plotly-graph-div\" style=\"height:525px; width:100%;\"></div>            <script type=\"text/javascript\">                require([\"plotly\"], function(Plotly) {                    window.PLOTLYENV=window.PLOTLYENV || {};                                    if (document.getElementById(\"2172123b-6d14-4eac-8b92-c2df3f281d6e\")) {                    Plotly.newPlot(                        \"2172123b-6d14-4eac-8b92-c2df3f281d6e\",                        [{\"alignmentgroup\":\"True\",\"bingroup\":\"x\",\"hovertemplate\":\"price range category=%{x}<br>count=%{y}<extra></extra>\",\"legendgroup\":\"\",\"marker\":{\"color\":\"#636efa\",\"pattern\":{\"shape\":\"\"}},\"name\":\"\",\"offsetgroup\":\"\",\"orientation\":\"v\",\"showlegend\":false,\"x\":[\"Medium\",\"Medium\",\"Medium\",\"Medium\",\"Medium\",\"Medium\",\"Medium\",\"High\",\"High\",\"Medium\",\"Medium\",\"Low\",\"Medium\",\"High\",\"Medium\",\"High\",\"Medium\",\"Medium\",\"Medium\",\"High\",\"High\",\"Low\",\"Medium\",\"High\",\"High\",\"High\",\"Medium\",\"High\",\"Medium\",\"High\",\"High\",\"High\",\"Medium\",\"Medium\",\"Medium\",\"Medium\",\"Medium\",\"Medium\",\"Low\",\"Medium\",\"High\",\"High\",\"Low\",\"High\",\"Medium\",\"High\",\"Medium\",\"High\",\"Medium\",\"High\",\"Medium\",\"High\",\"High\",\"Medium\",\"High\",\"High\",\"High\",\"High\",\"Medium\",\"High\",\"Medium\",\"Medium\",\"Medium\",\"Medium\",\"High\",\"Medium\",\"Medium\",\"Medium\",\"Medium\",\"High\",\"Medium\",\"Medium\",\"High\",\"High\",\"Medium\",\"High\",\"Medium\",\"Medium\",\"Medium\",\"Medium\",\"Medium\",\"High\",\"Medium\",\"Medium\",\"High\",\"Medium\",\"Medium\",\"High\",\"High\",\"High\",\"Medium\",\"Medium\",\"Medium\",\"Medium\",\"High\",\"High\",\"Medium\",\"Medium\",\"Medium\",\"High\",\"High\",\"Medium\",\"Medium\",\"Medium\",\"Medium\",\"High\",\"Medium\",\"Medium\",\"High\",\"Medium\",\"High\",\"Medium\",\"Medium\",\"High\",\"Medium\",\"Medium\",\"Medium\",\"Medium\",\"High\",\"High\",\"Medium\",\"High\",\"Medium\",\"High\",\"High\",\"Medium\",\"Medium\",\"Medium\",\"Medium\",\"High\",\"Medium\",\"Medium\",\"Medium\",\"Medium\",\"Medium\",\"Medium\",\"High\",\"Low\",\"High\",\"Medium\",\"High\",\"Medium\",\"High\",\"Medium\",\"High\",\"Medium\",\"Medium\",\"Medium\",\"Medium\",\"Medium\",\"Medium\",\"Medium\",\"Medium\",\"Low\",\"Medium\",\"Medium\",\"Medium\",\"Medium\",\"High\",\"Medium\",\"High\",\"High\",\"High\",\"Medium\",\"Medium\",\"Low\",\"Medium\",\"High\",\"Low\",\"Medium\",\"High\",\"Medium\",\"High\",\"High\",\"Medium\",\"High\",\"Medium\",\"Medium\",\"Medium\",\"Medium\",\"Medium\",\"High\",\"Medium\",\"Medium\",\"Medium\",\"High\",\"Medium\",\"Medium\",\"Medium\",\"High\",\"Medium\",\"Medium\",\"Low\",\"Low\",\"Medium\",\"High\",\"Medium\",\"High\",\"High\",\"Low\",\"Medium\",\"Low\",\"High\",\"Medium\",\"Medium\",\"High\",\"High\",\"Medium\",\"High\",\"Medium\",\"Medium\",\"Medium\",\"High\",\"Medium\",\"Low\",\"High\",\"High\",\"Low\",\"Medium\",\"Medium\",\"Medium\",\"Medium\",\"Low\",\"High\",\"Medium\",\"High\",\"Low\",\"Medium\",\"Medium\",\"Medium\",\"Medium\",\"Medium\",\"High\",\"Medium\",\"Medium\",\"Medium\",\"High\",\"Medium\",\"High\",\"Medium\",\"High\",\"Low\",\"High\",\"Medium\",\"High\",\"Medium\",\"High\",\"Low\",\"Low\",\"Medium\",\"Medium\",\"High\",\"Medium\",\"Medium\",\"Medium\",\"High\",\"High\",\"High\",\"High\",\"High\",\"Medium\",\"High\",\"Medium\",\"High\",\"High\",\"Medium\",\"Medium\",\"Medium\",\"Medium\",\"Medium\",\"High\",\"High\",\"Medium\",\"Low\",\"High\",\"Medium\",\"Medium\",\"High\",\"Medium\",\"Low\",\"High\",\"High\",\"High\",\"Medium\",\"Medium\",\"Medium\",\"High\",\"Medium\",\"Low\",\"High\",\"Medium\",\"Low\",\"Medium\",\"Medium\",\"Medium\",\"Low\",\"Low\",\"High\",\"Medium\",\"High\",\"Medium\",\"Medium\",\"Medium\",\"High\",\"Medium\",\"Medium\",\"Medium\",\"High\",\"Medium\",\"Medium\",\"High\",\"Medium\",\"Medium\",\"High\",\"Medium\",\"Medium\",\"Medium\",\"Medium\",\"Medium\",\"Medium\",\"Medium\",\"High\",\"Low\",\"Medium\",\"Medium\",\"Medium\",\"Medium\",\"Medium\",\"Medium\",\"High\",\"High\",\"Medium\",\"Medium\",\"Medium\",\"Low\",\"Medium\",\"High\",\"High\",\"Medium\",\"Medium\",\"Medium\",\"Low\",\"High\",\"Medium\",\"Low\",\"Medium\",\"Medium\",\"Medium\",\"High\",\"Medium\",\"Medium\",\"High\",\"Medium\",\"Medium\",\"Low\",\"Medium\",\"Low\",\"Medium\",\"Low\",\"Medium\",\"Low\",\"Medium\",\"Medium\",\"Medium\",\"High\",\"Medium\",\"Medium\",\"Medium\",\"Medium\",\"Medium\",\"Medium\",\"Medium\",\"Medium\",\"Medium\",\"Medium\",\"Medium\",\"Medium\",\"High\",\"Medium\",\"High\",\"Medium\",\"Low\",\"Low\",\"Medium\",\"Low\",\"Medium\",\"High\",\"Medium\",\"Medium\",\"Medium\",\"Medium\",\"Low\",\"Medium\",\"Medium\",\"High\",\"Medium\",\"Low\",\"Low\",\"Low\",\"Medium\",\"High\",\"Medium\",\"Medium\",\"Medium\",\"Medium\",\"High\",\"Medium\",\"Medium\",\"Low\",\"Medium\",\"Medium\",\"Low\",\"Medium\",\"High\",\"High\",\"Medium\",\"Medium\",\"Low\",\"Medium\",\"High\",\"Medium\",\"High\",\"Medium\",\"High\",\"Medium\",\"Low\",\"Medium\",\"Low\",\"Low\",\"High\",\"Medium\",\"High\",\"Medium\",\"High\",\"Low\",\"Medium\",\"Medium\",\"Low\",\"Medium\",\"Low\",\"High\",\"High\",\"High\",\"Medium\",\"Medium\",\"Medium\",\"Medium\",\"Low\",\"High\",\"Medium\",\"Medium\",\"Medium\",\"Medium\",\"Low\",\"Medium\",\"High\",\"Medium\",\"High\",\"High\",\"Low\",\"Low\",\"Medium\",\"Medium\",\"Medium\",\"High\",\"High\",\"Low\",\"High\",\"Medium\",\"High\",\"High\",\"Medium\",\"Low\",\"Low\",\"Medium\",\"Low\",\"Medium\",\"High\",\"High\",\"Medium\",\"Low\",\"Medium\",\"Medium\",\"Low\",\"Medium\",\"Medium\",\"High\",\"Medium\",\"Medium\",\"Medium\",\"Medium\",\"Low\",\"High\",\"Medium\",\"Medium\",\"Low\",\"Medium\",\"Medium\",\"Medium\",\"Low\",\"High\"],\"xaxis\":\"x\",\"yaxis\":\"y\",\"type\":\"histogram\"}],                        {\"template\":{\"data\":{\"histogram2dcontour\":[{\"type\":\"histogram2dcontour\",\"colorbar\":{\"outlinewidth\":0,\"ticks\":\"\"},\"colorscale\":[[0.0,\"#0d0887\"],[0.1111111111111111,\"#46039f\"],[0.2222222222222222,\"#7201a8\"],[0.3333333333333333,\"#9c179e\"],[0.4444444444444444,\"#bd3786\"],[0.5555555555555556,\"#d8576b\"],[0.6666666666666666,\"#ed7953\"],[0.7777777777777778,\"#fb9f3a\"],[0.8888888888888888,\"#fdca26\"],[1.0,\"#f0f921\"]]}],\"choropleth\":[{\"type\":\"choropleth\",\"colorbar\":{\"outlinewidth\":0,\"ticks\":\"\"}}],\"histogram2d\":[{\"type\":\"histogram2d\",\"colorbar\":{\"outlinewidth\":0,\"ticks\":\"\"},\"colorscale\":[[0.0,\"#0d0887\"],[0.1111111111111111,\"#46039f\"],[0.2222222222222222,\"#7201a8\"],[0.3333333333333333,\"#9c179e\"],[0.4444444444444444,\"#bd3786\"],[0.5555555555555556,\"#d8576b\"],[0.6666666666666666,\"#ed7953\"],[0.7777777777777778,\"#fb9f3a\"],[0.8888888888888888,\"#fdca26\"],[1.0,\"#f0f921\"]]}],\"heatmap\":[{\"type\":\"heatmap\",\"colorbar\":{\"outlinewidth\":0,\"ticks\":\"\"},\"colorscale\":[[0.0,\"#0d0887\"],[0.1111111111111111,\"#46039f\"],[0.2222222222222222,\"#7201a8\"],[0.3333333333333333,\"#9c179e\"],[0.4444444444444444,\"#bd3786\"],[0.5555555555555556,\"#d8576b\"],[0.6666666666666666,\"#ed7953\"],[0.7777777777777778,\"#fb9f3a\"],[0.8888888888888888,\"#fdca26\"],[1.0,\"#f0f921\"]]}],\"heatmapgl\":[{\"type\":\"heatmapgl\",\"colorbar\":{\"outlinewidth\":0,\"ticks\":\"\"},\"colorscale\":[[0.0,\"#0d0887\"],[0.1111111111111111,\"#46039f\"],[0.2222222222222222,\"#7201a8\"],[0.3333333333333333,\"#9c179e\"],[0.4444444444444444,\"#bd3786\"],[0.5555555555555556,\"#d8576b\"],[0.6666666666666666,\"#ed7953\"],[0.7777777777777778,\"#fb9f3a\"],[0.8888888888888888,\"#fdca26\"],[1.0,\"#f0f921\"]]}],\"contourcarpet\":[{\"type\":\"contourcarpet\",\"colorbar\":{\"outlinewidth\":0,\"ticks\":\"\"}}],\"contour\":[{\"type\":\"contour\",\"colorbar\":{\"outlinewidth\":0,\"ticks\":\"\"},\"colorscale\":[[0.0,\"#0d0887\"],[0.1111111111111111,\"#46039f\"],[0.2222222222222222,\"#7201a8\"],[0.3333333333333333,\"#9c179e\"],[0.4444444444444444,\"#bd3786\"],[0.5555555555555556,\"#d8576b\"],[0.6666666666666666,\"#ed7953\"],[0.7777777777777778,\"#fb9f3a\"],[0.8888888888888888,\"#fdca26\"],[1.0,\"#f0f921\"]]}],\"surface\":[{\"type\":\"surface\",\"colorbar\":{\"outlinewidth\":0,\"ticks\":\"\"},\"colorscale\":[[0.0,\"#0d0887\"],[0.1111111111111111,\"#46039f\"],[0.2222222222222222,\"#7201a8\"],[0.3333333333333333,\"#9c179e\"],[0.4444444444444444,\"#bd3786\"],[0.5555555555555556,\"#d8576b\"],[0.6666666666666666,\"#ed7953\"],[0.7777777777777778,\"#fb9f3a\"],[0.8888888888888888,\"#fdca26\"],[1.0,\"#f0f921\"]]}],\"mesh3d\":[{\"type\":\"mesh3d\",\"colorbar\":{\"outlinewidth\":0,\"ticks\":\"\"}}],\"scatter\":[{\"fillpattern\":{\"fillmode\":\"overlay\",\"size\":10,\"solidity\":0.2},\"type\":\"scatter\"}],\"parcoords\":[{\"type\":\"parcoords\",\"line\":{\"colorbar\":{\"outlinewidth\":0,\"ticks\":\"\"}}}],\"scatterpolargl\":[{\"type\":\"scatterpolargl\",\"marker\":{\"colorbar\":{\"outlinewidth\":0,\"ticks\":\"\"}}}],\"bar\":[{\"error_x\":{\"color\":\"#2a3f5f\"},\"error_y\":{\"color\":\"#2a3f5f\"},\"marker\":{\"line\":{\"color\":\"#E5ECF6\",\"width\":0.5},\"pattern\":{\"fillmode\":\"overlay\",\"size\":10,\"solidity\":0.2}},\"type\":\"bar\"}],\"scattergeo\":[{\"type\":\"scattergeo\",\"marker\":{\"colorbar\":{\"outlinewidth\":0,\"ticks\":\"\"}}}],\"scatterpolar\":[{\"type\":\"scatterpolar\",\"marker\":{\"colorbar\":{\"outlinewidth\":0,\"ticks\":\"\"}}}],\"histogram\":[{\"marker\":{\"pattern\":{\"fillmode\":\"overlay\",\"size\":10,\"solidity\":0.2}},\"type\":\"histogram\"}],\"scattergl\":[{\"type\":\"scattergl\",\"marker\":{\"colorbar\":{\"outlinewidth\":0,\"ticks\":\"\"}}}],\"scatter3d\":[{\"type\":\"scatter3d\",\"line\":{\"colorbar\":{\"outlinewidth\":0,\"ticks\":\"\"}},\"marker\":{\"colorbar\":{\"outlinewidth\":0,\"ticks\":\"\"}}}],\"scattermapbox\":[{\"type\":\"scattermapbox\",\"marker\":{\"colorbar\":{\"outlinewidth\":0,\"ticks\":\"\"}}}],\"scatterternary\":[{\"type\":\"scatterternary\",\"marker\":{\"colorbar\":{\"outlinewidth\":0,\"ticks\":\"\"}}}],\"scattercarpet\":[{\"type\":\"scattercarpet\",\"marker\":{\"colorbar\":{\"outlinewidth\":0,\"ticks\":\"\"}}}],\"carpet\":[{\"aaxis\":{\"endlinecolor\":\"#2a3f5f\",\"gridcolor\":\"white\",\"linecolor\":\"white\",\"minorgridcolor\":\"white\",\"startlinecolor\":\"#2a3f5f\"},\"baxis\":{\"endlinecolor\":\"#2a3f5f\",\"gridcolor\":\"white\",\"linecolor\":\"white\",\"minorgridcolor\":\"white\",\"startlinecolor\":\"#2a3f5f\"},\"type\":\"carpet\"}],\"table\":[{\"cells\":{\"fill\":{\"color\":\"#EBF0F8\"},\"line\":{\"color\":\"white\"}},\"header\":{\"fill\":{\"color\":\"#C8D4E3\"},\"line\":{\"color\":\"white\"}},\"type\":\"table\"}],\"barpolar\":[{\"marker\":{\"line\":{\"color\":\"#E5ECF6\",\"width\":0.5},\"pattern\":{\"fillmode\":\"overlay\",\"size\":10,\"solidity\":0.2}},\"type\":\"barpolar\"}],\"pie\":[{\"automargin\":true,\"type\":\"pie\"}]},\"layout\":{\"autotypenumbers\":\"strict\",\"colorway\":[\"#636efa\",\"#EF553B\",\"#00cc96\",\"#ab63fa\",\"#FFA15A\",\"#19d3f3\",\"#FF6692\",\"#B6E880\",\"#FF97FF\",\"#FECB52\"],\"font\":{\"color\":\"#2a3f5f\"},\"hovermode\":\"closest\",\"hoverlabel\":{\"align\":\"left\"},\"paper_bgcolor\":\"white\",\"plot_bgcolor\":\"#E5ECF6\",\"polar\":{\"bgcolor\":\"#E5ECF6\",\"angularaxis\":{\"gridcolor\":\"white\",\"linecolor\":\"white\",\"ticks\":\"\"},\"radialaxis\":{\"gridcolor\":\"white\",\"linecolor\":\"white\",\"ticks\":\"\"}},\"ternary\":{\"bgcolor\":\"#E5ECF6\",\"aaxis\":{\"gridcolor\":\"white\",\"linecolor\":\"white\",\"ticks\":\"\"},\"baxis\":{\"gridcolor\":\"white\",\"linecolor\":\"white\",\"ticks\":\"\"},\"caxis\":{\"gridcolor\":\"white\",\"linecolor\":\"white\",\"ticks\":\"\"}},\"coloraxis\":{\"colorbar\":{\"outlinewidth\":0,\"ticks\":\"\"}},\"colorscale\":{\"sequential\":[[0.0,\"#0d0887\"],[0.1111111111111111,\"#46039f\"],[0.2222222222222222,\"#7201a8\"],[0.3333333333333333,\"#9c179e\"],[0.4444444444444444,\"#bd3786\"],[0.5555555555555556,\"#d8576b\"],[0.6666666666666666,\"#ed7953\"],[0.7777777777777778,\"#fb9f3a\"],[0.8888888888888888,\"#fdca26\"],[1.0,\"#f0f921\"]],\"sequentialminus\":[[0.0,\"#0d0887\"],[0.1111111111111111,\"#46039f\"],[0.2222222222222222,\"#7201a8\"],[0.3333333333333333,\"#9c179e\"],[0.4444444444444444,\"#bd3786\"],[0.5555555555555556,\"#d8576b\"],[0.6666666666666666,\"#ed7953\"],[0.7777777777777778,\"#fb9f3a\"],[0.8888888888888888,\"#fdca26\"],[1.0,\"#f0f921\"]],\"diverging\":[[0,\"#8e0152\"],[0.1,\"#c51b7d\"],[0.2,\"#de77ae\"],[0.3,\"#f1b6da\"],[0.4,\"#fde0ef\"],[0.5,\"#f7f7f7\"],[0.6,\"#e6f5d0\"],[0.7,\"#b8e186\"],[0.8,\"#7fbc41\"],[0.9,\"#4d9221\"],[1,\"#276419\"]]},\"xaxis\":{\"gridcolor\":\"white\",\"linecolor\":\"white\",\"ticks\":\"\",\"title\":{\"standoff\":15},\"zerolinecolor\":\"white\",\"automargin\":true,\"zerolinewidth\":2},\"yaxis\":{\"gridcolor\":\"white\",\"linecolor\":\"white\",\"ticks\":\"\",\"title\":{\"standoff\":15},\"zerolinecolor\":\"white\",\"automargin\":true,\"zerolinewidth\":2},\"scene\":{\"xaxis\":{\"backgroundcolor\":\"#E5ECF6\",\"gridcolor\":\"white\",\"linecolor\":\"white\",\"showbackground\":true,\"ticks\":\"\",\"zerolinecolor\":\"white\",\"gridwidth\":2},\"yaxis\":{\"backgroundcolor\":\"#E5ECF6\",\"gridcolor\":\"white\",\"linecolor\":\"white\",\"showbackground\":true,\"ticks\":\"\",\"zerolinecolor\":\"white\",\"gridwidth\":2},\"zaxis\":{\"backgroundcolor\":\"#E5ECF6\",\"gridcolor\":\"white\",\"linecolor\":\"white\",\"showbackground\":true,\"ticks\":\"\",\"zerolinecolor\":\"white\",\"gridwidth\":2}},\"shapedefaults\":{\"line\":{\"color\":\"#2a3f5f\"}},\"annotationdefaults\":{\"arrowcolor\":\"#2a3f5f\",\"arrowhead\":0,\"arrowwidth\":1},\"geo\":{\"bgcolor\":\"white\",\"landcolor\":\"#E5ECF6\",\"subunitcolor\":\"white\",\"showland\":true,\"showlakes\":true,\"lakecolor\":\"white\"},\"title\":{\"x\":0.05},\"mapbox\":{\"style\":\"light\"}}},\"xaxis\":{\"anchor\":\"y\",\"domain\":[0.0,1.0],\"title\":{\"text\":\"price range category\"}},\"yaxis\":{\"anchor\":\"x\",\"domain\":[0.0,1.0],\"title\":{\"text\":\"count\"}},\"legend\":{\"tracegroupgap\":0},\"title\":{\"text\":\"Price range category by count(High: Price>1000, Medium: price>=500 & price<=1000, Low: price<500)\",\"x\":0.5},\"barmode\":\"relative\"},                        {\"responsive\": true}                    ).then(function(){\n",
       "                            \n",
       "var gd = document.getElementById('2172123b-6d14-4eac-8b92-c2df3f281d6e');\n",
       "var x = new MutationObserver(function (mutations, observer) {{\n",
       "        var display = window.getComputedStyle(gd).display;\n",
       "        if (!display || display === 'none') {{\n",
       "            console.log([gd, 'removed!']);\n",
       "            Plotly.purge(gd);\n",
       "            observer.disconnect();\n",
       "        }}\n",
       "}});\n",
       "\n",
       "// Listen for the removal of the full notebook cells\n",
       "var notebookContainer = gd.closest('#notebook-container');\n",
       "if (notebookContainer) {{\n",
       "    x.observe(notebookContainer, {childList: true});\n",
       "}}\n",
       "\n",
       "// Listen for the clearing of the current output cell\n",
       "var outputEl = gd.closest('.output');\n",
       "if (outputEl) {{\n",
       "    x.observe(outputEl, {childList: true});\n",
       "}}\n",
       "\n",
       "                        })                };                });            </script>        </div>"
      ]
     },
     "metadata": {},
     "output_type": "display_data"
    }
   ],
   "source": [
    "fig = px.histogram(df, x='price range category', \n",
    "                   title='Price range category by count(High: Price>1000, Medium: price>=500 & price<=1000, Low: price<500)')\n",
    "fig.update_layout(title_x=0.5)\n",
    "fig.show()"
   ]
  },
  {
   "cell_type": "code",
   "execution_count": 78,
   "id": "01563177",
   "metadata": {},
   "outputs": [
    {
     "data": {
      "application/vnd.plotly.v1+json": {
       "config": {
        "plotlyServerURL": "https://plot.ly"
       },
       "data": [
        {
         "hovertemplate": "Dining_Review_Count=%{x}<br>Dining_Rating=%{y}<extra></extra>",
         "legendgroup": "",
         "marker": {
          "color": "#636efa",
          "symbol": "circle"
         },
         "mode": "markers",
         "name": "",
         "orientation": "v",
         "showlegend": false,
         "type": "scatter",
         "x": [
          819,
          560,
          1203,
          231,
          207,
          1244,
          53,
          2991,
          180,
          3710,
          486,
          0,
          2289,
          7426,
          505,
          8503,
          346,
          3773,
          4494,
          32600,
          1060,
          0,
          3561,
          10900,
          4632,
          1168,
          217,
          38100,
          56,
          2136,
          3621,
          143,
          128,
          4309,
          556,
          5059,
          148,
          3964,
          291,
          14500,
          95,
          1700,
          4357,
          244,
          137,
          4968,
          6584,
          512,
          4902,
          13500,
          674,
          292,
          4522,
          2273,
          3966,
          4459,
          1261,
          794,
          715,
          6687,
          6641,
          6180,
          372,
          12100,
          350,
          2907,
          210,
          4743,
          341,
          16500,
          77,
          3660,
          11400,
          2485,
          958,
          5978,
          2481,
          76,
          3566,
          7523,
          659,
          10800,
          3489,
          1364,
          1728,
          6341,
          8318,
          8294,
          18300,
          2008,
          17500,
          6274,
          4961,
          3616,
          11900,
          5765,
          21200,
          4349,
          449,
          6567,
          2868,
          2394,
          1319,
          6315,
          6341,
          1261,
          1139,
          796,
          1454,
          4118,
          162,
          1137,
          2862,
          1200,
          1760,
          2523,
          2078,
          805,
          707,
          7465,
          410,
          2007,
          4761,
          269,
          2329,
          310,
          488,
          976,
          1892,
          511,
          3671,
          2759,
          20200,
          779,
          5256,
          347,
          4346,
          728,
          8477,
          2908,
          1736,
          1129,
          5704,
          520,
          5999,
          478,
          645,
          712,
          16200,
          1151,
          573,
          4706,
          5422,
          527,
          239,
          16200,
          9471,
          3961,
          876,
          4414,
          1387,
          462,
          315,
          9622,
          415,
          77,
          6089,
          7939,
          8757,
          10500,
          3442,
          3658,
          2327,
          151,
          5270,
          1550,
          295,
          790,
          6638,
          1392,
          3025,
          1603,
          1850,
          3822,
          1409,
          9195,
          1649,
          1069,
          7118,
          142,
          311,
          11600,
          1923,
          400,
          389,
          7191,
          3091,
          3243,
          7524,
          827,
          86,
          626,
          7188,
          384,
          215,
          7095,
          1539,
          3136,
          2571,
          954,
          874,
          201,
          2927,
          5905,
          24,
          8202,
          1743,
          1402,
          68,
          4418,
          5797,
          1805,
          28,
          3963,
          106,
          2572,
          4699,
          1017,
          910,
          425,
          301,
          341,
          4959,
          1920,
          1522,
          572,
          718,
          3056,
          75,
          2565,
          1145,
          302,
          3605,
          1335,
          117,
          133,
          1089,
          975,
          81,
          841,
          1862,
          2527,
          32,
          707,
          1179,
          7,
          693,
          3183,
          1758,
          955,
          799,
          2030,
          2591,
          711,
          2500,
          7582,
          282,
          32,
          1141,
          115,
          285,
          388,
          934,
          192,
          1593,
          1523,
          1618,
          4010,
          2998,
          295,
          2490,
          197,
          845,
          4125,
          835,
          1045,
          48,
          3375,
          327,
          216,
          1105,
          292,
          240,
          4349,
          75,
          815,
          3878,
          1212,
          128,
          313,
          3417,
          118,
          1456,
          79,
          1210,
          338,
          3274,
          3614,
          150,
          390,
          457,
          219,
          3206,
          181,
          2633,
          444,
          916,
          5026,
          465,
          1621,
          804,
          3984,
          35,
          2302,
          433,
          2162,
          1024,
          989,
          109,
          925,
          42,
          787,
          486,
          1642,
          102,
          7971,
          433,
          168,
          866,
          518,
          7240,
          1558,
          2143,
          3342,
          1976,
          1048,
          183,
          1278,
          2105,
          27,
          55,
          786,
          40,
          4706,
          147,
          1829,
          1241,
          225,
          1301,
          153,
          79,
          146,
          1444,
          966,
          683,
          38,
          225,
          767,
          4020,
          2782,
          27,
          4499,
          1060,
          152,
          1800,
          623,
          241,
          4076,
          619,
          53,
          303,
          852,
          645,
          2360,
          73,
          274,
          2565,
          459,
          1710,
          206,
          540,
          12,
          2746,
          1251,
          75,
          114,
          1681,
          621,
          55,
          3674,
          25,
          191,
          293,
          477,
          76,
          1404,
          172,
          500,
          1200,
          27,
          221,
          25,
          653,
          2549,
          39,
          30,
          20,
          7,
          190,
          3495,
          2099,
          4976,
          2887,
          45,
          3669,
          13,
          1813,
          141,
          176,
          554,
          458,
          2413,
          2207,
          760,
          498,
          478,
          1369,
          218,
          64,
          275,
          226,
          333,
          2768,
          927,
          2187,
          1555,
          1206,
          113,
          1066,
          1313,
          212,
          151,
          4551,
          917,
          2555,
          35,
          1963,
          3338,
          1218,
          28,
          276,
          5769,
          1277,
          669,
          65,
          15,
          3078,
          385,
          1423,
          333,
          683,
          189,
          947,
          37,
          156,
          1325,
          2321,
          454,
          37,
          714,
          1210,
          155,
          933,
          804,
          3471,
          219,
          78,
          4853,
          1053,
          711,
          168,
          153,
          498,
          1366,
          1283,
          94,
          777,
          202,
          637,
          52,
          648
         ],
         "xaxis": "x",
         "y": [
          4.5,
          4.7,
          4.5,
          4.1,
          4.4,
          4.2,
          4,
          4.2,
          4,
          4.2,
          4.1,
          0,
          4.4,
          4.3,
          4.4,
          4.2,
          4.4,
          3.9,
          4.2,
          4.5,
          4,
          0,
          4.3,
          4.6,
          4.4,
          4.3,
          4.2,
          4.6,
          4.1,
          4.4,
          4.1,
          0,
          3.9,
          4.1,
          4.5,
          4.4,
          4.5,
          3.9,
          4.5,
          4.5,
          4,
          4.3,
          4.2,
          4.2,
          4.5,
          4.3,
          4.5,
          3.9,
          4.3,
          4.2,
          4.7,
          4.1,
          3.8,
          4.3,
          4.6,
          4.1,
          3.9,
          4.3,
          4.3,
          4.3,
          4,
          4.3,
          4,
          4.4,
          4.1,
          4.2,
          4.4,
          4.4,
          4.3,
          4.9,
          4.2,
          4.4,
          4.5,
          4.5,
          4.3,
          4.5,
          4.5,
          4.4,
          4.5,
          4.3,
          4.5,
          4.4,
          4.2,
          4.4,
          4.2,
          4.4,
          4.3,
          4.6,
          4.2,
          4.5,
          4.5,
          4.4,
          4.5,
          4.3,
          4.5,
          4.3,
          4.5,
          4.3,
          4.4,
          4.2,
          4.2,
          4.3,
          4.2,
          4.4,
          4.4,
          4.1,
          4.3,
          4.3,
          4.4,
          4.8,
          4.2,
          4.4,
          4.1,
          4.2,
          4.2,
          4.3,
          4.4,
          4,
          4.6,
          4.4,
          4.2,
          4.4,
          4.5,
          4.5,
          4.5,
          4.5,
          4.2,
          4,
          4.3,
          4.2,
          4.9,
          4.2,
          4.5,
          4,
          4.2,
          4.3,
          4.3,
          4.6,
          4.3,
          4.1,
          4.3,
          4.1,
          4.2,
          4.5,
          4.3,
          4.4,
          4.3,
          4.1,
          4.5,
          4.5,
          4.3,
          4.3,
          4.3,
          4.5,
          4.5,
          4.5,
          4.6,
          4,
          4,
          4.2,
          4.1,
          4.4,
          4.5,
          4.3,
          4.3,
          3.9,
          4.4,
          4.8,
          4.4,
          4.3,
          4.4,
          4.4,
          4.4,
          4.5,
          4.3,
          4.4,
          4.4,
          4.1,
          4.3,
          4.8,
          4.2,
          4.1,
          4.5,
          4.3,
          4.4,
          4.3,
          4.4,
          4.2,
          4.4,
          3.3,
          4.5,
          4.5,
          4.2,
          4.2,
          4.3,
          4.7,
          4.2,
          4.2,
          4.3,
          4.2,
          4,
          4.4,
          4.3,
          4.5,
          0,
          4.2,
          4.4,
          3.9,
          3.9,
          4.3,
          4.4,
          4.1,
          4.2,
          4.1,
          3.8,
          4.4,
          4.5,
          4.3,
          0,
          4.4,
          4.4,
          4.2,
          3.5,
          4.3,
          4.5,
          4.5,
          4.3,
          4.6,
          4.2,
          4.7,
          4.3,
          4.3,
          4.1,
          4.4,
          4.4,
          4.3,
          4,
          4.6,
          4.1,
          3.7,
          4.2,
          4.3,
          4.4,
          4.3,
          4.2,
          0,
          4.5,
          4.2,
          3.7,
          4.4,
          4.3,
          4.4,
          4.2,
          4.5,
          4,
          3.9,
          4.4,
          4.3,
          4.4,
          4.2,
          4.2,
          4.5,
          4,
          4.2,
          4.3,
          4.1,
          4.2,
          0,
          4.2,
          3.4,
          3.8,
          4.3,
          4.2,
          4.1,
          4,
          3.9,
          4.3,
          4.2,
          4.3,
          4.2,
          4.3,
          4.5,
          4.3,
          4.3,
          4.3,
          4,
          4.4,
          4.5,
          4.5,
          3.9,
          4.2,
          3.4,
          4.2,
          4.1,
          3.6,
          4.8,
          4.5,
          4.2,
          4,
          4.1,
          4.2,
          4.1,
          4.2,
          4.2,
          4.9,
          4.2,
          4.4,
          4.1,
          4.3,
          4.3,
          4.6,
          4.3,
          4.1,
          4.3,
          4.3,
          4.3,
          4,
          4.4,
          4.1,
          4.3,
          4.5,
          4.1,
          4,
          4.2,
          4.3,
          3.8,
          4.4,
          4.6,
          4.4,
          4.7,
          0,
          4.1,
          4.1,
          4.1,
          4,
          4.4,
          3.9,
          4.4,
          4.3,
          4.4,
          4.3,
          3.9,
          4.1,
          3.9,
          3.8,
          3.6,
          4.5,
          4.1,
          4.6,
          4,
          4.2,
          4,
          3.8,
          4.4,
          4.9,
          3.5,
          3.9,
          4.5,
          4.2,
          4.1,
          4.3,
          0,
          3.9,
          4.9,
          4.3,
          3.5,
          4.6,
          4,
          4.1,
          4.3,
          3.4,
          4.5,
          4,
          4.1,
          4.5,
          4.3,
          4.5,
          4,
          3.9,
          3.9,
          4.5,
          4.4,
          4.3,
          4.4,
          3.5,
          4.8,
          4.1,
          4.5,
          4.4,
          4.3,
          4.4,
          3.6,
          4.2,
          4.2,
          4.2,
          4.5,
          3.9,
          4.1,
          4.1,
          4.3,
          3.6,
          4.3,
          4.5,
          4,
          4.2,
          4,
          3.5,
          3.9,
          3.8,
          4,
          3.9,
          3.7,
          4.2,
          4.3,
          3.5,
          0,
          4.1,
          3.6,
          4.4,
          4.3,
          4.2,
          4.2,
          4.3,
          3.8,
          4.2,
          3.8,
          3.5,
          4.3,
          3.9,
          4.5,
          4.2,
          4.1,
          3.7,
          3.8,
          3.8,
          4.2,
          3.8,
          3.9,
          4.2,
          4.4,
          4.6,
          4.1,
          4.1,
          4.1,
          4,
          4.2,
          4.3,
          4.2,
          4.1,
          4.4,
          4.3,
          4.3,
          4.4,
          3.4,
          4,
          4,
          4.3,
          4.4,
          4.9,
          3.8,
          4.2,
          4.2,
          4.3,
          4.2,
          4.4,
          3.9,
          4.2,
          4.2,
          4.2,
          4.2,
          4.5,
          4.5,
          4,
          4.4,
          4,
          4.1,
          4.2,
          4.3,
          4,
          4.2,
          4.3,
          3.9,
          3.9,
          3.8,
          4.2,
          4,
          4.2,
          4.2,
          4.1,
          3.6,
          4,
          4.1,
          4.2,
          4.3,
          4,
          3.5,
          3.9,
          4.3,
          4.1,
          4.1,
          4.6
         ],
         "yaxis": "y"
        }
       ],
       "layout": {
        "legend": {
         "tracegroupgap": 0
        },
        "template": {
         "data": {
          "bar": [
           {
            "error_x": {
             "color": "#2a3f5f"
            },
            "error_y": {
             "color": "#2a3f5f"
            },
            "marker": {
             "line": {
              "color": "#E5ECF6",
              "width": 0.5
             },
             "pattern": {
              "fillmode": "overlay",
              "size": 10,
              "solidity": 0.2
             }
            },
            "type": "bar"
           }
          ],
          "barpolar": [
           {
            "marker": {
             "line": {
              "color": "#E5ECF6",
              "width": 0.5
             },
             "pattern": {
              "fillmode": "overlay",
              "size": 10,
              "solidity": 0.2
             }
            },
            "type": "barpolar"
           }
          ],
          "carpet": [
           {
            "aaxis": {
             "endlinecolor": "#2a3f5f",
             "gridcolor": "white",
             "linecolor": "white",
             "minorgridcolor": "white",
             "startlinecolor": "#2a3f5f"
            },
            "baxis": {
             "endlinecolor": "#2a3f5f",
             "gridcolor": "white",
             "linecolor": "white",
             "minorgridcolor": "white",
             "startlinecolor": "#2a3f5f"
            },
            "type": "carpet"
           }
          ],
          "choropleth": [
           {
            "colorbar": {
             "outlinewidth": 0,
             "ticks": ""
            },
            "type": "choropleth"
           }
          ],
          "contour": [
           {
            "colorbar": {
             "outlinewidth": 0,
             "ticks": ""
            },
            "colorscale": [
             [
              0,
              "#0d0887"
             ],
             [
              0.1111111111111111,
              "#46039f"
             ],
             [
              0.2222222222222222,
              "#7201a8"
             ],
             [
              0.3333333333333333,
              "#9c179e"
             ],
             [
              0.4444444444444444,
              "#bd3786"
             ],
             [
              0.5555555555555556,
              "#d8576b"
             ],
             [
              0.6666666666666666,
              "#ed7953"
             ],
             [
              0.7777777777777778,
              "#fb9f3a"
             ],
             [
              0.8888888888888888,
              "#fdca26"
             ],
             [
              1,
              "#f0f921"
             ]
            ],
            "type": "contour"
           }
          ],
          "contourcarpet": [
           {
            "colorbar": {
             "outlinewidth": 0,
             "ticks": ""
            },
            "type": "contourcarpet"
           }
          ],
          "heatmap": [
           {
            "colorbar": {
             "outlinewidth": 0,
             "ticks": ""
            },
            "colorscale": [
             [
              0,
              "#0d0887"
             ],
             [
              0.1111111111111111,
              "#46039f"
             ],
             [
              0.2222222222222222,
              "#7201a8"
             ],
             [
              0.3333333333333333,
              "#9c179e"
             ],
             [
              0.4444444444444444,
              "#bd3786"
             ],
             [
              0.5555555555555556,
              "#d8576b"
             ],
             [
              0.6666666666666666,
              "#ed7953"
             ],
             [
              0.7777777777777778,
              "#fb9f3a"
             ],
             [
              0.8888888888888888,
              "#fdca26"
             ],
             [
              1,
              "#f0f921"
             ]
            ],
            "type": "heatmap"
           }
          ],
          "heatmapgl": [
           {
            "colorbar": {
             "outlinewidth": 0,
             "ticks": ""
            },
            "colorscale": [
             [
              0,
              "#0d0887"
             ],
             [
              0.1111111111111111,
              "#46039f"
             ],
             [
              0.2222222222222222,
              "#7201a8"
             ],
             [
              0.3333333333333333,
              "#9c179e"
             ],
             [
              0.4444444444444444,
              "#bd3786"
             ],
             [
              0.5555555555555556,
              "#d8576b"
             ],
             [
              0.6666666666666666,
              "#ed7953"
             ],
             [
              0.7777777777777778,
              "#fb9f3a"
             ],
             [
              0.8888888888888888,
              "#fdca26"
             ],
             [
              1,
              "#f0f921"
             ]
            ],
            "type": "heatmapgl"
           }
          ],
          "histogram": [
           {
            "marker": {
             "pattern": {
              "fillmode": "overlay",
              "size": 10,
              "solidity": 0.2
             }
            },
            "type": "histogram"
           }
          ],
          "histogram2d": [
           {
            "colorbar": {
             "outlinewidth": 0,
             "ticks": ""
            },
            "colorscale": [
             [
              0,
              "#0d0887"
             ],
             [
              0.1111111111111111,
              "#46039f"
             ],
             [
              0.2222222222222222,
              "#7201a8"
             ],
             [
              0.3333333333333333,
              "#9c179e"
             ],
             [
              0.4444444444444444,
              "#bd3786"
             ],
             [
              0.5555555555555556,
              "#d8576b"
             ],
             [
              0.6666666666666666,
              "#ed7953"
             ],
             [
              0.7777777777777778,
              "#fb9f3a"
             ],
             [
              0.8888888888888888,
              "#fdca26"
             ],
             [
              1,
              "#f0f921"
             ]
            ],
            "type": "histogram2d"
           }
          ],
          "histogram2dcontour": [
           {
            "colorbar": {
             "outlinewidth": 0,
             "ticks": ""
            },
            "colorscale": [
             [
              0,
              "#0d0887"
             ],
             [
              0.1111111111111111,
              "#46039f"
             ],
             [
              0.2222222222222222,
              "#7201a8"
             ],
             [
              0.3333333333333333,
              "#9c179e"
             ],
             [
              0.4444444444444444,
              "#bd3786"
             ],
             [
              0.5555555555555556,
              "#d8576b"
             ],
             [
              0.6666666666666666,
              "#ed7953"
             ],
             [
              0.7777777777777778,
              "#fb9f3a"
             ],
             [
              0.8888888888888888,
              "#fdca26"
             ],
             [
              1,
              "#f0f921"
             ]
            ],
            "type": "histogram2dcontour"
           }
          ],
          "mesh3d": [
           {
            "colorbar": {
             "outlinewidth": 0,
             "ticks": ""
            },
            "type": "mesh3d"
           }
          ],
          "parcoords": [
           {
            "line": {
             "colorbar": {
              "outlinewidth": 0,
              "ticks": ""
             }
            },
            "type": "parcoords"
           }
          ],
          "pie": [
           {
            "automargin": true,
            "type": "pie"
           }
          ],
          "scatter": [
           {
            "fillpattern": {
             "fillmode": "overlay",
             "size": 10,
             "solidity": 0.2
            },
            "type": "scatter"
           }
          ],
          "scatter3d": [
           {
            "line": {
             "colorbar": {
              "outlinewidth": 0,
              "ticks": ""
             }
            },
            "marker": {
             "colorbar": {
              "outlinewidth": 0,
              "ticks": ""
             }
            },
            "type": "scatter3d"
           }
          ],
          "scattercarpet": [
           {
            "marker": {
             "colorbar": {
              "outlinewidth": 0,
              "ticks": ""
             }
            },
            "type": "scattercarpet"
           }
          ],
          "scattergeo": [
           {
            "marker": {
             "colorbar": {
              "outlinewidth": 0,
              "ticks": ""
             }
            },
            "type": "scattergeo"
           }
          ],
          "scattergl": [
           {
            "marker": {
             "colorbar": {
              "outlinewidth": 0,
              "ticks": ""
             }
            },
            "type": "scattergl"
           }
          ],
          "scattermapbox": [
           {
            "marker": {
             "colorbar": {
              "outlinewidth": 0,
              "ticks": ""
             }
            },
            "type": "scattermapbox"
           }
          ],
          "scatterpolar": [
           {
            "marker": {
             "colorbar": {
              "outlinewidth": 0,
              "ticks": ""
             }
            },
            "type": "scatterpolar"
           }
          ],
          "scatterpolargl": [
           {
            "marker": {
             "colorbar": {
              "outlinewidth": 0,
              "ticks": ""
             }
            },
            "type": "scatterpolargl"
           }
          ],
          "scatterternary": [
           {
            "marker": {
             "colorbar": {
              "outlinewidth": 0,
              "ticks": ""
             }
            },
            "type": "scatterternary"
           }
          ],
          "surface": [
           {
            "colorbar": {
             "outlinewidth": 0,
             "ticks": ""
            },
            "colorscale": [
             [
              0,
              "#0d0887"
             ],
             [
              0.1111111111111111,
              "#46039f"
             ],
             [
              0.2222222222222222,
              "#7201a8"
             ],
             [
              0.3333333333333333,
              "#9c179e"
             ],
             [
              0.4444444444444444,
              "#bd3786"
             ],
             [
              0.5555555555555556,
              "#d8576b"
             ],
             [
              0.6666666666666666,
              "#ed7953"
             ],
             [
              0.7777777777777778,
              "#fb9f3a"
             ],
             [
              0.8888888888888888,
              "#fdca26"
             ],
             [
              1,
              "#f0f921"
             ]
            ],
            "type": "surface"
           }
          ],
          "table": [
           {
            "cells": {
             "fill": {
              "color": "#EBF0F8"
             },
             "line": {
              "color": "white"
             }
            },
            "header": {
             "fill": {
              "color": "#C8D4E3"
             },
             "line": {
              "color": "white"
             }
            },
            "type": "table"
           }
          ]
         },
         "layout": {
          "annotationdefaults": {
           "arrowcolor": "#2a3f5f",
           "arrowhead": 0,
           "arrowwidth": 1
          },
          "autotypenumbers": "strict",
          "coloraxis": {
           "colorbar": {
            "outlinewidth": 0,
            "ticks": ""
           }
          },
          "colorscale": {
           "diverging": [
            [
             0,
             "#8e0152"
            ],
            [
             0.1,
             "#c51b7d"
            ],
            [
             0.2,
             "#de77ae"
            ],
            [
             0.3,
             "#f1b6da"
            ],
            [
             0.4,
             "#fde0ef"
            ],
            [
             0.5,
             "#f7f7f7"
            ],
            [
             0.6,
             "#e6f5d0"
            ],
            [
             0.7,
             "#b8e186"
            ],
            [
             0.8,
             "#7fbc41"
            ],
            [
             0.9,
             "#4d9221"
            ],
            [
             1,
             "#276419"
            ]
           ],
           "sequential": [
            [
             0,
             "#0d0887"
            ],
            [
             0.1111111111111111,
             "#46039f"
            ],
            [
             0.2222222222222222,
             "#7201a8"
            ],
            [
             0.3333333333333333,
             "#9c179e"
            ],
            [
             0.4444444444444444,
             "#bd3786"
            ],
            [
             0.5555555555555556,
             "#d8576b"
            ],
            [
             0.6666666666666666,
             "#ed7953"
            ],
            [
             0.7777777777777778,
             "#fb9f3a"
            ],
            [
             0.8888888888888888,
             "#fdca26"
            ],
            [
             1,
             "#f0f921"
            ]
           ],
           "sequentialminus": [
            [
             0,
             "#0d0887"
            ],
            [
             0.1111111111111111,
             "#46039f"
            ],
            [
             0.2222222222222222,
             "#7201a8"
            ],
            [
             0.3333333333333333,
             "#9c179e"
            ],
            [
             0.4444444444444444,
             "#bd3786"
            ],
            [
             0.5555555555555556,
             "#d8576b"
            ],
            [
             0.6666666666666666,
             "#ed7953"
            ],
            [
             0.7777777777777778,
             "#fb9f3a"
            ],
            [
             0.8888888888888888,
             "#fdca26"
            ],
            [
             1,
             "#f0f921"
            ]
           ]
          },
          "colorway": [
           "#636efa",
           "#EF553B",
           "#00cc96",
           "#ab63fa",
           "#FFA15A",
           "#19d3f3",
           "#FF6692",
           "#B6E880",
           "#FF97FF",
           "#FECB52"
          ],
          "font": {
           "color": "#2a3f5f"
          },
          "geo": {
           "bgcolor": "white",
           "lakecolor": "white",
           "landcolor": "#E5ECF6",
           "showlakes": true,
           "showland": true,
           "subunitcolor": "white"
          },
          "hoverlabel": {
           "align": "left"
          },
          "hovermode": "closest",
          "mapbox": {
           "style": "light"
          },
          "paper_bgcolor": "white",
          "plot_bgcolor": "#E5ECF6",
          "polar": {
           "angularaxis": {
            "gridcolor": "white",
            "linecolor": "white",
            "ticks": ""
           },
           "bgcolor": "#E5ECF6",
           "radialaxis": {
            "gridcolor": "white",
            "linecolor": "white",
            "ticks": ""
           }
          },
          "scene": {
           "xaxis": {
            "backgroundcolor": "#E5ECF6",
            "gridcolor": "white",
            "gridwidth": 2,
            "linecolor": "white",
            "showbackground": true,
            "ticks": "",
            "zerolinecolor": "white"
           },
           "yaxis": {
            "backgroundcolor": "#E5ECF6",
            "gridcolor": "white",
            "gridwidth": 2,
            "linecolor": "white",
            "showbackground": true,
            "ticks": "",
            "zerolinecolor": "white"
           },
           "zaxis": {
            "backgroundcolor": "#E5ECF6",
            "gridcolor": "white",
            "gridwidth": 2,
            "linecolor": "white",
            "showbackground": true,
            "ticks": "",
            "zerolinecolor": "white"
           }
          },
          "shapedefaults": {
           "line": {
            "color": "#2a3f5f"
           }
          },
          "ternary": {
           "aaxis": {
            "gridcolor": "white",
            "linecolor": "white",
            "ticks": ""
           },
           "baxis": {
            "gridcolor": "white",
            "linecolor": "white",
            "ticks": ""
           },
           "bgcolor": "#E5ECF6",
           "caxis": {
            "gridcolor": "white",
            "linecolor": "white",
            "ticks": ""
           }
          },
          "title": {
           "x": 0.05
          },
          "xaxis": {
           "automargin": true,
           "gridcolor": "white",
           "linecolor": "white",
           "ticks": "",
           "title": {
            "standoff": 15
           },
           "zerolinecolor": "white",
           "zerolinewidth": 2
          },
          "yaxis": {
           "automargin": true,
           "gridcolor": "white",
           "linecolor": "white",
           "ticks": "",
           "title": {
            "standoff": 15
           },
           "zerolinecolor": "white",
           "zerolinewidth": 2
          }
         }
        },
        "title": {
         "text": "Dining Ratings vs. Dining Review Count",
         "x": 0.5
        },
        "xaxis": {
         "anchor": "y",
         "domain": [
          0,
          1
         ],
         "title": {
          "text": "Dining_Review_Count"
         }
        },
        "yaxis": {
         "anchor": "x",
         "domain": [
          0,
          1
         ],
         "title": {
          "text": "Dining_Rating"
         }
        }
       }
      },
      "text/html": [
       "<div>                            <div id=\"3f8dc495-0338-491b-bf2d-3d459af0bc67\" class=\"plotly-graph-div\" style=\"height:525px; width:100%;\"></div>            <script type=\"text/javascript\">                require([\"plotly\"], function(Plotly) {                    window.PLOTLYENV=window.PLOTLYENV || {};                                    if (document.getElementById(\"3f8dc495-0338-491b-bf2d-3d459af0bc67\")) {                    Plotly.newPlot(                        \"3f8dc495-0338-491b-bf2d-3d459af0bc67\",                        [{\"hovertemplate\":\"Dining_Review_Count=%{x}<br>Dining_Rating=%{y}<extra></extra>\",\"legendgroup\":\"\",\"marker\":{\"color\":\"#636efa\",\"symbol\":\"circle\"},\"mode\":\"markers\",\"name\":\"\",\"orientation\":\"v\",\"showlegend\":false,\"x\":[819,560,1203,231,207,1244,53,2991,180,3710,486,0,2289,7426,505,8503,346,3773,4494,32600,1060,0,3561,10900,4632,1168,217,38100,56,2136,3621,143,128,4309,556,5059,148,3964,291,14500,95,1700,4357,244,137,4968,6584,512,4902,13500,674,292,4522,2273,3966,4459,1261,794,715,6687,6641,6180,372,12100,350,2907,210,4743,341,16500,77,3660,11400,2485,958,5978,2481,76,3566,7523,659,10800,3489,1364,1728,6341,8318,8294,18300,2008,17500,6274,4961,3616,11900,5765,21200,4349,449,6567,2868,2394,1319,6315,6341,1261,1139,796,1454,4118,162,1137,2862,1200,1760,2523,2078,805,707,7465,410,2007,4761,269,2329,310,488,976,1892,511,3671,2759,20200,779,5256,347,4346,728,8477,2908,1736,1129,5704,520,5999,478,645,712,16200,1151,573,4706,5422,527,239,16200,9471,3961,876,4414,1387,462,315,9622,415,77,6089,7939,8757,10500,3442,3658,2327,151,5270,1550,295,790,6638,1392,3025,1603,1850,3822,1409,9195,1649,1069,7118,142,311,11600,1923,400,389,7191,3091,3243,7524,827,86,626,7188,384,215,7095,1539,3136,2571,954,874,201,2927,5905,24,8202,1743,1402,68,4418,5797,1805,28,3963,106,2572,4699,1017,910,425,301,341,4959,1920,1522,572,718,3056,75,2565,1145,302,3605,1335,117,133,1089,975,81,841,1862,2527,32,707,1179,7,693,3183,1758,955,799,2030,2591,711,2500,7582,282,32,1141,115,285,388,934,192,1593,1523,1618,4010,2998,295,2490,197,845,4125,835,1045,48,3375,327,216,1105,292,240,4349,75,815,3878,1212,128,313,3417,118,1456,79,1210,338,3274,3614,150,390,457,219,3206,181,2633,444,916,5026,465,1621,804,3984,35,2302,433,2162,1024,989,109,925,42,787,486,1642,102,7971,433,168,866,518,7240,1558,2143,3342,1976,1048,183,1278,2105,27,55,786,40,4706,147,1829,1241,225,1301,153,79,146,1444,966,683,38,225,767,4020,2782,27,4499,1060,152,1800,623,241,4076,619,53,303,852,645,2360,73,274,2565,459,1710,206,540,12,2746,1251,75,114,1681,621,55,3674,25,191,293,477,76,1404,172,500,1200,27,221,25,653,2549,39,30,20,7,190,3495,2099,4976,2887,45,3669,13,1813,141,176,554,458,2413,2207,760,498,478,1369,218,64,275,226,333,2768,927,2187,1555,1206,113,1066,1313,212,151,4551,917,2555,35,1963,3338,1218,28,276,5769,1277,669,65,15,3078,385,1423,333,683,189,947,37,156,1325,2321,454,37,714,1210,155,933,804,3471,219,78,4853,1053,711,168,153,498,1366,1283,94,777,202,637,52,648],\"xaxis\":\"x\",\"y\":[4.5,4.7,4.5,4.1,4.4,4.2,4.0,4.2,4.0,4.2,4.1,0.0,4.4,4.3,4.4,4.2,4.4,3.9,4.2,4.5,4.0,0.0,4.3,4.6,4.4,4.3,4.2,4.6,4.1,4.4,4.1,0.0,3.9,4.1,4.5,4.4,4.5,3.9,4.5,4.5,4.0,4.3,4.2,4.2,4.5,4.3,4.5,3.9,4.3,4.2,4.7,4.1,3.8,4.3,4.6,4.1,3.9,4.3,4.3,4.3,4.0,4.3,4.0,4.4,4.1,4.2,4.4,4.4,4.3,4.9,4.2,4.4,4.5,4.5,4.3,4.5,4.5,4.4,4.5,4.3,4.5,4.4,4.2,4.4,4.2,4.4,4.3,4.6,4.2,4.5,4.5,4.4,4.5,4.3,4.5,4.3,4.5,4.3,4.4,4.2,4.2,4.3,4.2,4.4,4.4,4.1,4.3,4.3,4.4,4.8,4.2,4.4,4.1,4.2,4.2,4.3,4.4,4.0,4.6,4.4,4.2,4.4,4.5,4.5,4.5,4.5,4.2,4.0,4.3,4.2,4.9,4.2,4.5,4.0,4.2,4.3,4.3,4.6,4.3,4.1,4.3,4.1,4.2,4.5,4.3,4.4,4.3,4.1,4.5,4.5,4.3,4.3,4.3,4.5,4.5,4.5,4.6,4.0,4.0,4.2,4.1,4.4,4.5,4.3,4.3,3.9,4.4,4.8,4.4,4.3,4.4,4.4,4.4,4.5,4.3,4.4,4.4,4.1,4.3,4.8,4.2,4.1,4.5,4.3,4.4,4.3,4.4,4.2,4.4,3.3,4.5,4.5,4.2,4.2,4.3,4.7,4.2,4.2,4.3,4.2,4.0,4.4,4.3,4.5,0.0,4.2,4.4,3.9,3.9,4.3,4.4,4.1,4.2,4.1,3.8,4.4,4.5,4.3,0.0,4.4,4.4,4.2,3.5,4.3,4.5,4.5,4.3,4.6,4.2,4.7,4.3,4.3,4.1,4.4,4.4,4.3,4.0,4.6,4.1,3.7,4.2,4.3,4.4,4.3,4.2,0.0,4.5,4.2,3.7,4.4,4.3,4.4,4.2,4.5,4.0,3.9,4.4,4.3,4.4,4.2,4.2,4.5,4.0,4.2,4.3,4.1,4.2,0.0,4.2,3.4,3.8,4.3,4.2,4.1,4.0,3.9,4.3,4.2,4.3,4.2,4.3,4.5,4.3,4.3,4.3,4.0,4.4,4.5,4.5,3.9,4.2,3.4,4.2,4.1,3.6,4.8,4.5,4.2,4.0,4.1,4.2,4.1,4.2,4.2,4.9,4.2,4.4,4.1,4.3,4.3,4.6,4.3,4.1,4.3,4.3,4.3,4.0,4.4,4.1,4.3,4.5,4.1,4.0,4.2,4.3,3.8,4.4,4.6,4.4,4.7,0.0,4.1,4.1,4.1,4.0,4.4,3.9,4.4,4.3,4.4,4.3,3.9,4.1,3.9,3.8,3.6,4.5,4.1,4.6,4.0,4.2,4.0,3.8,4.4,4.9,3.5,3.9,4.5,4.2,4.1,4.3,0.0,3.9,4.9,4.3,3.5,4.6,4.0,4.1,4.3,3.4,4.5,4.0,4.1,4.5,4.3,4.5,4.0,3.9,3.9,4.5,4.4,4.3,4.4,3.5,4.8,4.1,4.5,4.4,4.3,4.4,3.6,4.2,4.2,4.2,4.5,3.9,4.1,4.1,4.3,3.6,4.3,4.5,4.0,4.2,4.0,3.5,3.9,3.8,4.0,3.9,3.7,4.2,4.3,3.5,0.0,4.1,3.6,4.4,4.3,4.2,4.2,4.3,3.8,4.2,3.8,3.5,4.3,3.9,4.5,4.2,4.1,3.7,3.8,3.8,4.2,3.8,3.9,4.2,4.4,4.6,4.1,4.1,4.1,4.0,4.2,4.3,4.2,4.1,4.4,4.3,4.3,4.4,3.4,4.0,4.0,4.3,4.4,4.9,3.8,4.2,4.2,4.3,4.2,4.4,3.9,4.2,4.2,4.2,4.2,4.5,4.5,4.0,4.4,4.0,4.1,4.2,4.3,4.0,4.2,4.3,3.9,3.9,3.8,4.2,4.0,4.2,4.2,4.1,3.6,4.0,4.1,4.2,4.3,4.0,3.5,3.9,4.3,4.1,4.1,4.6],\"yaxis\":\"y\",\"type\":\"scatter\"}],                        {\"template\":{\"data\":{\"histogram2dcontour\":[{\"type\":\"histogram2dcontour\",\"colorbar\":{\"outlinewidth\":0,\"ticks\":\"\"},\"colorscale\":[[0.0,\"#0d0887\"],[0.1111111111111111,\"#46039f\"],[0.2222222222222222,\"#7201a8\"],[0.3333333333333333,\"#9c179e\"],[0.4444444444444444,\"#bd3786\"],[0.5555555555555556,\"#d8576b\"],[0.6666666666666666,\"#ed7953\"],[0.7777777777777778,\"#fb9f3a\"],[0.8888888888888888,\"#fdca26\"],[1.0,\"#f0f921\"]]}],\"choropleth\":[{\"type\":\"choropleth\",\"colorbar\":{\"outlinewidth\":0,\"ticks\":\"\"}}],\"histogram2d\":[{\"type\":\"histogram2d\",\"colorbar\":{\"outlinewidth\":0,\"ticks\":\"\"},\"colorscale\":[[0.0,\"#0d0887\"],[0.1111111111111111,\"#46039f\"],[0.2222222222222222,\"#7201a8\"],[0.3333333333333333,\"#9c179e\"],[0.4444444444444444,\"#bd3786\"],[0.5555555555555556,\"#d8576b\"],[0.6666666666666666,\"#ed7953\"],[0.7777777777777778,\"#fb9f3a\"],[0.8888888888888888,\"#fdca26\"],[1.0,\"#f0f921\"]]}],\"heatmap\":[{\"type\":\"heatmap\",\"colorbar\":{\"outlinewidth\":0,\"ticks\":\"\"},\"colorscale\":[[0.0,\"#0d0887\"],[0.1111111111111111,\"#46039f\"],[0.2222222222222222,\"#7201a8\"],[0.3333333333333333,\"#9c179e\"],[0.4444444444444444,\"#bd3786\"],[0.5555555555555556,\"#d8576b\"],[0.6666666666666666,\"#ed7953\"],[0.7777777777777778,\"#fb9f3a\"],[0.8888888888888888,\"#fdca26\"],[1.0,\"#f0f921\"]]}],\"heatmapgl\":[{\"type\":\"heatmapgl\",\"colorbar\":{\"outlinewidth\":0,\"ticks\":\"\"},\"colorscale\":[[0.0,\"#0d0887\"],[0.1111111111111111,\"#46039f\"],[0.2222222222222222,\"#7201a8\"],[0.3333333333333333,\"#9c179e\"],[0.4444444444444444,\"#bd3786\"],[0.5555555555555556,\"#d8576b\"],[0.6666666666666666,\"#ed7953\"],[0.7777777777777778,\"#fb9f3a\"],[0.8888888888888888,\"#fdca26\"],[1.0,\"#f0f921\"]]}],\"contourcarpet\":[{\"type\":\"contourcarpet\",\"colorbar\":{\"outlinewidth\":0,\"ticks\":\"\"}}],\"contour\":[{\"type\":\"contour\",\"colorbar\":{\"outlinewidth\":0,\"ticks\":\"\"},\"colorscale\":[[0.0,\"#0d0887\"],[0.1111111111111111,\"#46039f\"],[0.2222222222222222,\"#7201a8\"],[0.3333333333333333,\"#9c179e\"],[0.4444444444444444,\"#bd3786\"],[0.5555555555555556,\"#d8576b\"],[0.6666666666666666,\"#ed7953\"],[0.7777777777777778,\"#fb9f3a\"],[0.8888888888888888,\"#fdca26\"],[1.0,\"#f0f921\"]]}],\"surface\":[{\"type\":\"surface\",\"colorbar\":{\"outlinewidth\":0,\"ticks\":\"\"},\"colorscale\":[[0.0,\"#0d0887\"],[0.1111111111111111,\"#46039f\"],[0.2222222222222222,\"#7201a8\"],[0.3333333333333333,\"#9c179e\"],[0.4444444444444444,\"#bd3786\"],[0.5555555555555556,\"#d8576b\"],[0.6666666666666666,\"#ed7953\"],[0.7777777777777778,\"#fb9f3a\"],[0.8888888888888888,\"#fdca26\"],[1.0,\"#f0f921\"]]}],\"mesh3d\":[{\"type\":\"mesh3d\",\"colorbar\":{\"outlinewidth\":0,\"ticks\":\"\"}}],\"scatter\":[{\"fillpattern\":{\"fillmode\":\"overlay\",\"size\":10,\"solidity\":0.2},\"type\":\"scatter\"}],\"parcoords\":[{\"type\":\"parcoords\",\"line\":{\"colorbar\":{\"outlinewidth\":0,\"ticks\":\"\"}}}],\"scatterpolargl\":[{\"type\":\"scatterpolargl\",\"marker\":{\"colorbar\":{\"outlinewidth\":0,\"ticks\":\"\"}}}],\"bar\":[{\"error_x\":{\"color\":\"#2a3f5f\"},\"error_y\":{\"color\":\"#2a3f5f\"},\"marker\":{\"line\":{\"color\":\"#E5ECF6\",\"width\":0.5},\"pattern\":{\"fillmode\":\"overlay\",\"size\":10,\"solidity\":0.2}},\"type\":\"bar\"}],\"scattergeo\":[{\"type\":\"scattergeo\",\"marker\":{\"colorbar\":{\"outlinewidth\":0,\"ticks\":\"\"}}}],\"scatterpolar\":[{\"type\":\"scatterpolar\",\"marker\":{\"colorbar\":{\"outlinewidth\":0,\"ticks\":\"\"}}}],\"histogram\":[{\"marker\":{\"pattern\":{\"fillmode\":\"overlay\",\"size\":10,\"solidity\":0.2}},\"type\":\"histogram\"}],\"scattergl\":[{\"type\":\"scattergl\",\"marker\":{\"colorbar\":{\"outlinewidth\":0,\"ticks\":\"\"}}}],\"scatter3d\":[{\"type\":\"scatter3d\",\"line\":{\"colorbar\":{\"outlinewidth\":0,\"ticks\":\"\"}},\"marker\":{\"colorbar\":{\"outlinewidth\":0,\"ticks\":\"\"}}}],\"scattermapbox\":[{\"type\":\"scattermapbox\",\"marker\":{\"colorbar\":{\"outlinewidth\":0,\"ticks\":\"\"}}}],\"scatterternary\":[{\"type\":\"scatterternary\",\"marker\":{\"colorbar\":{\"outlinewidth\":0,\"ticks\":\"\"}}}],\"scattercarpet\":[{\"type\":\"scattercarpet\",\"marker\":{\"colorbar\":{\"outlinewidth\":0,\"ticks\":\"\"}}}],\"carpet\":[{\"aaxis\":{\"endlinecolor\":\"#2a3f5f\",\"gridcolor\":\"white\",\"linecolor\":\"white\",\"minorgridcolor\":\"white\",\"startlinecolor\":\"#2a3f5f\"},\"baxis\":{\"endlinecolor\":\"#2a3f5f\",\"gridcolor\":\"white\",\"linecolor\":\"white\",\"minorgridcolor\":\"white\",\"startlinecolor\":\"#2a3f5f\"},\"type\":\"carpet\"}],\"table\":[{\"cells\":{\"fill\":{\"color\":\"#EBF0F8\"},\"line\":{\"color\":\"white\"}},\"header\":{\"fill\":{\"color\":\"#C8D4E3\"},\"line\":{\"color\":\"white\"}},\"type\":\"table\"}],\"barpolar\":[{\"marker\":{\"line\":{\"color\":\"#E5ECF6\",\"width\":0.5},\"pattern\":{\"fillmode\":\"overlay\",\"size\":10,\"solidity\":0.2}},\"type\":\"barpolar\"}],\"pie\":[{\"automargin\":true,\"type\":\"pie\"}]},\"layout\":{\"autotypenumbers\":\"strict\",\"colorway\":[\"#636efa\",\"#EF553B\",\"#00cc96\",\"#ab63fa\",\"#FFA15A\",\"#19d3f3\",\"#FF6692\",\"#B6E880\",\"#FF97FF\",\"#FECB52\"],\"font\":{\"color\":\"#2a3f5f\"},\"hovermode\":\"closest\",\"hoverlabel\":{\"align\":\"left\"},\"paper_bgcolor\":\"white\",\"plot_bgcolor\":\"#E5ECF6\",\"polar\":{\"bgcolor\":\"#E5ECF6\",\"angularaxis\":{\"gridcolor\":\"white\",\"linecolor\":\"white\",\"ticks\":\"\"},\"radialaxis\":{\"gridcolor\":\"white\",\"linecolor\":\"white\",\"ticks\":\"\"}},\"ternary\":{\"bgcolor\":\"#E5ECF6\",\"aaxis\":{\"gridcolor\":\"white\",\"linecolor\":\"white\",\"ticks\":\"\"},\"baxis\":{\"gridcolor\":\"white\",\"linecolor\":\"white\",\"ticks\":\"\"},\"caxis\":{\"gridcolor\":\"white\",\"linecolor\":\"white\",\"ticks\":\"\"}},\"coloraxis\":{\"colorbar\":{\"outlinewidth\":0,\"ticks\":\"\"}},\"colorscale\":{\"sequential\":[[0.0,\"#0d0887\"],[0.1111111111111111,\"#46039f\"],[0.2222222222222222,\"#7201a8\"],[0.3333333333333333,\"#9c179e\"],[0.4444444444444444,\"#bd3786\"],[0.5555555555555556,\"#d8576b\"],[0.6666666666666666,\"#ed7953\"],[0.7777777777777778,\"#fb9f3a\"],[0.8888888888888888,\"#fdca26\"],[1.0,\"#f0f921\"]],\"sequentialminus\":[[0.0,\"#0d0887\"],[0.1111111111111111,\"#46039f\"],[0.2222222222222222,\"#7201a8\"],[0.3333333333333333,\"#9c179e\"],[0.4444444444444444,\"#bd3786\"],[0.5555555555555556,\"#d8576b\"],[0.6666666666666666,\"#ed7953\"],[0.7777777777777778,\"#fb9f3a\"],[0.8888888888888888,\"#fdca26\"],[1.0,\"#f0f921\"]],\"diverging\":[[0,\"#8e0152\"],[0.1,\"#c51b7d\"],[0.2,\"#de77ae\"],[0.3,\"#f1b6da\"],[0.4,\"#fde0ef\"],[0.5,\"#f7f7f7\"],[0.6,\"#e6f5d0\"],[0.7,\"#b8e186\"],[0.8,\"#7fbc41\"],[0.9,\"#4d9221\"],[1,\"#276419\"]]},\"xaxis\":{\"gridcolor\":\"white\",\"linecolor\":\"white\",\"ticks\":\"\",\"title\":{\"standoff\":15},\"zerolinecolor\":\"white\",\"automargin\":true,\"zerolinewidth\":2},\"yaxis\":{\"gridcolor\":\"white\",\"linecolor\":\"white\",\"ticks\":\"\",\"title\":{\"standoff\":15},\"zerolinecolor\":\"white\",\"automargin\":true,\"zerolinewidth\":2},\"scene\":{\"xaxis\":{\"backgroundcolor\":\"#E5ECF6\",\"gridcolor\":\"white\",\"linecolor\":\"white\",\"showbackground\":true,\"ticks\":\"\",\"zerolinecolor\":\"white\",\"gridwidth\":2},\"yaxis\":{\"backgroundcolor\":\"#E5ECF6\",\"gridcolor\":\"white\",\"linecolor\":\"white\",\"showbackground\":true,\"ticks\":\"\",\"zerolinecolor\":\"white\",\"gridwidth\":2},\"zaxis\":{\"backgroundcolor\":\"#E5ECF6\",\"gridcolor\":\"white\",\"linecolor\":\"white\",\"showbackground\":true,\"ticks\":\"\",\"zerolinecolor\":\"white\",\"gridwidth\":2}},\"shapedefaults\":{\"line\":{\"color\":\"#2a3f5f\"}},\"annotationdefaults\":{\"arrowcolor\":\"#2a3f5f\",\"arrowhead\":0,\"arrowwidth\":1},\"geo\":{\"bgcolor\":\"white\",\"landcolor\":\"#E5ECF6\",\"subunitcolor\":\"white\",\"showland\":true,\"showlakes\":true,\"lakecolor\":\"white\"},\"title\":{\"x\":0.05},\"mapbox\":{\"style\":\"light\"}}},\"xaxis\":{\"anchor\":\"y\",\"domain\":[0.0,1.0],\"title\":{\"text\":\"Dining_Review_Count\"}},\"yaxis\":{\"anchor\":\"x\",\"domain\":[0.0,1.0],\"title\":{\"text\":\"Dining_Rating\"}},\"legend\":{\"tracegroupgap\":0},\"title\":{\"text\":\"Dining Ratings vs. Dining Review Count\",\"x\":0.5}},                        {\"responsive\": true}                    ).then(function(){\n",
       "                            \n",
       "var gd = document.getElementById('3f8dc495-0338-491b-bf2d-3d459af0bc67');\n",
       "var x = new MutationObserver(function (mutations, observer) {{\n",
       "        var display = window.getComputedStyle(gd).display;\n",
       "        if (!display || display === 'none') {{\n",
       "            console.log([gd, 'removed!']);\n",
       "            Plotly.purge(gd);\n",
       "            observer.disconnect();\n",
       "        }}\n",
       "}});\n",
       "\n",
       "// Listen for the removal of the full notebook cells\n",
       "var notebookContainer = gd.closest('#notebook-container');\n",
       "if (notebookContainer) {{\n",
       "    x.observe(notebookContainer, {childList: true});\n",
       "}}\n",
       "\n",
       "// Listen for the clearing of the current output cell\n",
       "var outputEl = gd.closest('.output');\n",
       "if (outputEl) {{\n",
       "    x.observe(outputEl, {childList: true});\n",
       "}}\n",
       "\n",
       "                        })                };                });            </script>        </div>"
      ]
     },
     "metadata": {},
     "output_type": "display_data"
    }
   ],
   "source": [
    "fig = px.scatter(df, x='Dining_Review_Count', y='Dining_Rating', \n",
    "                 title='Dining Ratings vs. Dining Review Count')\n",
    "fig.update_layout(title_x=0.5)\n",
    "fig.show()"
   ]
  },
  {
   "cell_type": "code",
   "execution_count": 131,
   "id": "ed01123e",
   "metadata": {},
   "outputs": [
    {
     "data": {
      "application/vnd.plotly.v1+json": {
       "config": {
        "plotlyServerURL": "https://plot.ly"
       },
       "data": [
        {
         "alignmentgroup": "True",
         "hovertemplate": "Total Review Count=%{x}<br>Area=%{y}<extra></extra>",
         "legendgroup": "",
         "marker": {
          "color": "#636efa"
         },
         "name": "",
         "notched": false,
         "offsetgroup": "",
         "orientation": "h",
         "showlegend": false,
         "type": "box",
         "x": [
          819,
          579,
          1229,
          231,
          207,
          1272,
          57,
          2991,
          181,
          3862,
          492,
          0,
          2356,
          9676,
          505,
          8503,
          346,
          3773,
          4494,
          32751,
          1202,
          0,
          3605,
          10973,
          4638,
          1168,
          217,
          65200,
          56,
          2136,
          3638,
          143,
          128,
          4319,
          566,
          5059,
          151,
          3964,
          291,
          15216,
          95,
          21286,
          6605,
          244,
          137,
          4987,
          10054,
          512,
          4944,
          14000,
          1109,
          292,
          4522,
          2273,
          3966,
          4530,
          1483,
          794,
          715,
          6687,
          6642,
          7901,
          592,
          12608,
          350,
          2938,
          211,
          8343,
          341,
          17573,
          77,
          3664,
          11811,
          2599,
          979,
          5979,
          5798,
          76,
          12585,
          7629,
          660,
          17699,
          3489,
          1440,
          1989,
          6869,
          8461,
          8608,
          18408,
          2008,
          18112,
          6395,
          6324,
          3617,
          13788,
          5798,
          21584,
          4376,
          449,
          6848,
          3132,
          2395,
          1319,
          6738,
          6643,
          1261,
          1164,
          796,
          1678,
          6164,
          163,
          1241,
          2987,
          12071,
          1839,
          2523,
          2078,
          839,
          1049,
          8334,
          410,
          2906,
          7222,
          269,
          3051,
          310,
          1199,
          1105,
          1892,
          511,
          4681,
          2884,
          20200,
          3700,
          5600,
          350,
          8289,
          1171,
          8869,
          3378,
          2432,
          1138,
          11310,
          813,
          6256,
          478,
          645,
          1358,
          19123,
          1272,
          585,
          5018,
          12297,
          580,
          239,
          17536,
          9619,
          4023,
          880,
          4784,
          1387,
          462,
          329,
          9643,
          433,
          2654,
          6890,
          7939,
          16916,
          11529,
          3575,
          3778,
          6477,
          168,
          5523,
          1969,
          297,
          790,
          9892,
          1769,
          3297,
          1624,
          1850,
          7449,
          1479,
          11396,
          1925,
          4410,
          12253,
          142,
          369,
          11633,
          6702,
          927,
          389,
          8652,
          3584,
          3656,
          9681,
          4594,
          2255,
          849,
          7366,
          916,
          215,
          7095,
          1696,
          5306,
          2639,
          954,
          3539,
          201,
          3106,
          7855,
          369,
          8202,
          2817,
          13302,
          68,
          4796,
          5797,
          5132,
          1039,
          3972,
          106,
          3338,
          5311,
          4570,
          910,
          881,
          321,
          785,
          4970,
          2670,
          1522,
          1446,
          718,
          5291,
          75,
          3161,
          1145,
          695,
          4078,
          1631,
          120,
          133,
          1192,
          1496,
          420,
          841,
          3413,
          2554,
          32,
          746,
          1191,
          7,
          695,
          4094,
          1922,
          955,
          800,
          2079,
          7513,
          860,
          2958,
          11545,
          309,
          32,
          1146,
          125,
          285,
          393,
          3912,
          554,
          1968,
          1527,
          2571,
          4040,
          7626,
          295,
          2638,
          201,
          845,
          4207,
          1049,
          1148,
          48,
          5730,
          402,
          221,
          1632,
          394,
          339,
          4349,
          75,
          4273,
          12242,
          1212,
          128,
          313,
          3532,
          118,
          1732,
          79,
          2049,
          375,
          4298,
          3944,
          226,
          475,
          631,
          228,
          3455,
          187,
          2643,
          611,
          968,
          5269,
          865,
          2110,
          830,
          3991,
          61,
          3892,
          5433,
          2934,
          1164,
          989,
          235,
          995,
          42,
          15787,
          510,
          1747,
          815,
          12674,
          433,
          171,
          911,
          629,
          10265,
          15658,
          2143,
          3389,
          9812,
          1575,
          230,
          1721,
          2863,
          27,
          56,
          900,
          165,
          6544,
          2087,
          2121,
          3364,
          225,
          7048,
          153,
          79,
          146,
          1475,
          2114,
          966,
          38,
          312,
          4265,
          7146,
          3687,
          27,
          10079,
          3370,
          159,
          2708,
          704,
          326,
          5095,
          645,
          53,
          303,
          2229,
          1083,
          13160,
          74,
          1940,
          2565,
          467,
          1851,
          247,
          650,
          1401,
          2943,
          1355,
          75,
          203,
          102981,
          1421,
          120,
          4309,
          25,
          216,
          311,
          536,
          107,
          1575,
          172,
          747,
          102000,
          30,
          230,
          25,
          2427,
          4923,
          39,
          30,
          20,
          120,
          753,
          3495,
          2107,
          5480,
          4091,
          45,
          4119,
          37,
          2359,
          201,
          314,
          560,
          466,
          2681,
          29007,
          760,
          9338,
          478,
          2116,
          988,
          64,
          369,
          226,
          347,
          2893,
          927,
          2660,
          2453,
          1206,
          135,
          1126,
          1313,
          240,
          151,
          6520,
          39217,
          3055,
          35,
          3720,
          4351,
          1218,
          170,
          294,
          22369,
          2167,
          1317,
          65,
          15,
          3167,
          385,
          1439,
          630,
          683,
          203,
          32347,
          37,
          161,
          1398,
          34721,
          457,
          37,
          1840,
          2134,
          158,
          1553,
          46004,
          3563,
          7327,
          78,
          7311,
          2115,
          8177,
          174,
          1697,
          533,
          11766,
          1288,
          125,
          1013,
          366,
          638,
          56,
          648
         ],
         "x0": " ",
         "xaxis": "x",
         "y": [
          "UB City",
          "Lavelle Road",
          "Koramangala 7th Block",
          "Cunningham Road",
          "Forum Rex Walk",
          "Church Street",
          "Indiranagar",
          "The Chancery Pavilion",
          "Forum Rex Walk",
          "UB City",
          "Koramangala 5th Block",
          "Chanapatna",
          "Indiranagar",
          "Marathahalli",
          "St. Marks Road",
          "Hennur",
          "Garuda Mall",
          "Varthur Main Road",
          "MG Road",
          "Marathahalli",
          "The Leela Palace",
          "Chanapatna",
          "Malleshwaram",
          "Sarjapur Road",
          "Gilly's Redefined",
          "Seegehalli",
          "Church Street",
          "Sarjapur Road",
          "Brigade Road",
          "Jayanagar",
          "Building 105",
          "St. Marks Road",
          "St. Marks Road",
          "Koramangala 6th Block",
          "JP Nagar",
          "Whitefield",
          "Indiranagar",
          "Indiranagar",
          "Brigade Road",
          "Koramangala 6th Block",
          "Indiranagar",
          "JP Nagar",
          "Shanti Nagar",
          "Hilton Bengaluru Embassy Manyata Business Park",
          "Richmond Road",
          "RMZ Azure",
          "Indiranagar",
          "Lavelle Road",
          "Indiranagar",
          "Sarjapur Road",
          "Koramangala 5th Block",
          "Church Street",
          "Brigade Road",
          "Bannerghatta Road",
          "JP Nagar",
          "Whitefield",
          "Hilton Bangalore Embassy GolfLinks",
          "Bellandur",
          "Koramangala 6th Block",
          "Sheraton Grand Bangalore",
          "Indiranagar",
          "Sarjapur Road",
          "Jayanagar",
          "BTM",
          "The Leela Palace",
          "Bommanahalli",
          "Koramangala 5th Block",
          "Sarjapur Road",
          "Koramangala 5th Block",
          "Indiranagar",
          "Brigade Road",
          "Jayanagar",
          "Indiranagar",
          "Sheraton Grand Bangalore",
          "Koramangala 7th Block",
          "JP Nagar",
          "JP Nagar",
          "Indiranagar",
          "Indiranagar",
          "JP Nagar",
          "Indiranagar",
          "Whitefield",
          "JP Nagar",
          "Hennur",
          "St. Marks Road",
          "Sarjapur Road",
          "Indiranagar",
          "St. Marks Road",
          "Kadubeesanahalli",
          "Forum Rex Walk",
          "HSR",
          "Kalyan Nagar",
          "Sarjapur Road",
          "Brookefield",
          "JP Nagar",
          "Sarjapur Road",
          "HSR",
          "Indiranagar",
          "Church Street",
          "Nexus Shantiniketan",
          "JW Marriott Bengaluru",
          "Yelahanka",
          "JP Nagar",
          "JP Nagar",
          "KR Puram",
          "The Den",
          "JP Nagar",
          "Kalyan Nagar",
          "1 Sobha",
          "Indiranagar",
          "Radisson Bangalore City Centre",
          "Mahadevapura",
          "Indiranagar",
          "Koramangala 5th Block",
          "Sahakara Nagar",
          "Marathahalli",
          "New BEL Road",
          "Bhartiya Mall of Bengaluru",
          "Forum Rex Walk",
          "Koramangala 5th Block",
          "JP Nagar",
          "Old Airport Road",
          "JP Nagar",
          "Majestic",
          "Hebbal",
          "Bannerghatta Road",
          "Koramangala 8th Block",
          "JP Nagar",
          "Kadubeesanahalli",
          "1 MG Road Mall",
          "Indiranagar",
          "HSR",
          "Brigade Road",
          "Indiranagar",
          "HSR",
          "Koramangala 5th Block",
          "Nexus Shantiniketan",
          "HSR",
          "Sarjapur Road",
          "Koramangala 7th Block",
          "Phoenix Marketcity Bangalore",
          "Koramangala 4th Block",
          "Sahakara Nagar",
          "Indiranagar",
          "Barton Centre",
          "Lulu Mall",
          "New BEL Road",
          "Sarjapur Road",
          "Marathahalli",
          "MG Road",
          "Bhartiya Mall of Bengaluru",
          "New BEL Road",
          "Marathahalli",
          "HSR",
          "Hebbal",
          "HSR",
          "Brigade Road",
          "Marathahalli",
          "Koramangala 7th Block",
          "Mantri Square",
          "Sheraton Grand Bangalore",
          "World Trade Center",
          "Phoenix Mall of Asia",
          "Marathahalli",
          "RMZ Ecoworld",
          "HSR",
          "JP Nagar",
          "Whitefield",
          "Koramangala 4th Block",
          "Orion Mall",
          "Bannerghatta Road",
          "Eva Mall",
          "Nexus Shantiniketan",
          "Old Airport Road",
          "Rajarajeshwari Nagar",
          "Indiranagar",
          "Koramangala 5th Block",
          "Banashankari",
          "Marathahalli",
          "Forum Falcon City Mall",
          "Bannerghatta Road",
          "Radisson Blu",
          "ITPL Main Road",
          "Sarjapur Road",
          "Livin Hub Hotel",
          "Marathahalli",
          "Indiranagar",
          "Jayanagar",
          "JP Nagar",
          "MG Road",
          "Whitefield",
          "Koramangala 7th Block",
          "Koramangala 5th Block",
          "Whitefield",
          "Brookefield",
          "Craftworks",
          "Marathahalli",
          "Bannerghatta Road",
          "Sarjapur Road",
          "Marathahalli",
          "1 Sobha",
          "JP Nagar",
          "Koramangala 5th Block",
          "Koramangala 5th Block",
          "Seegehalli",
          "Koramangala 7th Block",
          "Renaissance Hotel",
          "Koramangala 4th Block",
          "Indiranagar",
          "Sahakara Nagar",
          "Indiranagar",
          "Brigade Road",
          "RMZ Ecoworld",
          "Sarjapur Road",
          "Kumaraswamy Layout",
          "Brigade Road",
          "JP Nagar",
          "Bannerghatta Road",
          "Koramangala 4th Block",
          "Rajarajeshwari Nagar",
          "Brigade Road",
          "Indiranagar",
          "Koramangala 5th Block",
          "UB City",
          "Phoenix Mall of Asia",
          "Indiranagar",
          "Koramangala 8th Block",
          "Varthur Main Road",
          "Basaveshwara Nagar",
          "Sahakara Nagar",
          "Nagarbhavi",
          "Forum Falcon City Mall",
          "Indiranagar",
          "Indiranagar",
          "Esteem Mall",
          "Whitefield",
          "Conrad Bengaluru",
          "Nexus",
          "Forum Rex Walk",
          "Koramangala 1st Block",
          "JW Marriott Bengaluru",
          "Indiranagar",
          "1 MG Road Mall",
          "Nagarbhavi",
          "DoubleTree by Hilton",
          "Bommanahalli",
          "Sheraton Grand Bengaluru",
          "Whitefield",
          "Embassy Manyata Business Park",
          "Electronic City",
          "JP Nagar",
          "Richmond Road",
          "Indiranagar",
          "Royal Meenakshi Mall",
          "Goldfinch Hotel",
          "Navarathna Agrahara International Airport",
          "1 MG Road Mall",
          "UB City",
          "Yelahanka",
          "1 Sobha",
          "Whitefield",
          "Malleshwaram",
          "Phoenix Marketcity Bangalore",
          "DoubleTree Suites By Hilton",
          "Rajarajeshwari Nagar",
          "Indiranagar",
          "Sahakara Nagar",
          "JP Nagar",
          "BTM",
          "Koramangala 3rd Block",
          "Rajarajeshwari Nagar",
          "MG Road",
          "Koramangala 6th Block",
          "Phoenix Marketcity Bangalore",
          "UB City",
          "Koramangala 5th Block",
          "Marathahalli",
          "Lavelle Road",
          "Sarjapur Road",
          "Indiranagar",
          "Rajarajeshwari Nagar",
          "Hotel Country Inn",
          "The Leela Palace",
          "Phoenix Marketcity Bangalore",
          "Koramangala 5th Block",
          "Jayanagar",
          "Bellandur",
          "Koramangala 4th Block",
          "JP Nagar",
          "Holiday Inn",
          "Goldfinch Hotel",
          "New BEL Road",
          "HBR Layout",
          "Church Street",
          "Ibis Hebbal",
          "HSR",
          "Indiranagar",
          "Lavelle Road",
          "Indiranagar",
          "Kumaraswamy Layout",
          "Indiranagar",
          "Phoenix Mall of Asia",
          "Ulsoor",
          "RMZ Ecoworld",
          "Domlur",
          "HSR",
          "Indiranagar",
          "HSR",
          "Jakkur",
          "Nagawara",
          "Koramangala 5th Block",
          "Koramangala 5th Block",
          "The President Hotel",
          "Phoenix Mall of Asia",
          "Koramangala 5th Block",
          "Indiranagar",
          "Indiranagar",
          "JP Nagar",
          "JP Nagar",
          "Ulsoor",
          "Indiranagar",
          "Koramangala 5th Block",
          "Indiranagar",
          "JP Nagar",
          "JP Nagar",
          "Phoenix Marketcity Bangalore",
          "Jayanagar",
          "Brigade Road",
          "Kammanahalli",
          "Radisson Blu",
          "Nagawara",
          "Sarjapur Road",
          "JP Nagar",
          "Sarjapur Road",
          "JP Nagar",
          "Phoenix Marketcity Bangalore",
          "Sarjapur Road",
          "Holiday Inn",
          "Kalyan Nagar",
          "RMZ Infinity",
          "Electronic City",
          "HSR",
          "HSR",
          "Koramangala 5th Block",
          "Whitefield",
          "Bannerghatta Road",
          "Divyasree Technopark",
          "Koramangala 4th Block",
          "Indiranagar",
          "JP Nagar",
          "Indiranagar",
          "Courtyard by Marriott",
          "RMZ Ecoworld",
          "Lavelle Road",
          "HSR",
          "HSR",
          "Forum Neighbourhood Mall",
          "Jayanagar",
          "Sarjapur Road",
          "Koramangala 5th Block",
          "Koramangala 5th Block",
          "Phoenix Mall of Asia",
          "Indiranagar",
          "Craftworks",
          "Cunningham Road",
          "Yelahanka",
          "Forum Rex Walk",
          "HSR",
          "Indiranagar",
          "Kalyan Nagar",
          "St. Marks Road",
          "Indiranagar",
          "Marathahalli",
          "Phoenix Mall of Asia",
          "Indiranagar",
          "Koramangala 6th Block",
          "Phoenix Mall of Asia",
          "Indiranagar",
          "Malleshwaram",
          "Jayanagar",
          "Hebbal",
          "Indiranagar",
          "HSR",
          "Indiranagar",
          "Forum Rex Walk",
          "Richmond Town",
          "Residency Road",
          "BTM",
          "Jayanagar",
          "Hennur",
          "Hebbal",
          "Electronic City",
          "HSR",
          "Bellandur",
          "The Leela Bhartiya City",
          "Nagawara",
          "HSR",
          "HSR",
          "New BEL Road",
          "Electronic City",
          "Forum Falcon City Mall",
          "Cunningham Road",
          "Sankey Road",
          "New BEL Road",
          "Electronic City",
          "Phoenix Marketcity Bangalore",
          "Indiranagar",
          "Royal Orchid Central",
          "Indiranagar",
          "Bannerghatta Road",
          "Bellandur",
          "BTM",
          "Indiranagar",
          "HSR",
          "Koramangala 6th Block",
          "Lavelle Road",
          "Kanakapura Road",
          "RT Nagar",
          "Brigade Road",
          "The Paul Bangalore",
          "JP Nagar",
          "Whitefield",
          "Bannerghatta Road",
          "Church Street",
          "Barton Centre",
          "Bommanahalli",
          "MG Road",
          "Indiranagar",
          "HSR",
          "MG Road",
          "Ascendas Park Square",
          "VR Bengaluru",
          "JP Nagar",
          "The Chancery Pavilion",
          "Embassy Manyata Business Park",
          "Whitefield",
          "JP Nagar",
          "ITPL Main Road",
          "Marathahalli",
          "Koramangala 5th Block",
          "Hilton Bangalore Embassy GolfLinks",
          "Indiranagar",
          "Church Street",
          "Koramangala 3rd Block",
          "Jayanagar",
          "Vega City",
          "Sarjapur Road",
          "Jayanagar",
          "The Ritz-Carlton",
          "Brigade Road",
          "Garuda Mall",
          "Kalyan Nagar",
          "BluPetal Hotel",
          "Koramangala 7th Block",
          "Jayanagar",
          "Electronic City",
          "HSR",
          "Church Street",
          "The Oberoi",
          "JP Nagar",
          "JP Nagar",
          "HSR",
          "Hotel Southern Star",
          "Sarjapur Road",
          "Indiranagar",
          "Kalyan Nagar",
          "Koramangala 6th Block",
          "Courtyard by Marriott",
          "Hotel Southern Star",
          "The Leela Bhartiya City",
          "Bommanahalli",
          "HSR",
          "Koramangala 5th Block",
          "Indiranagar",
          "JP Nagar",
          "HSR",
          "Residency Road",
          "ITC Gardenia",
          "Koramangala 8th Block",
          "Kalyan Nagar",
          "Cunningham Road",
          "Koramangala 5th Block",
          "Cunningham Road",
          "BTM",
          "Koramangala 5th Block",
          "HSR",
          "Varthur Main Road",
          "Electronic City",
          "Indiranagar",
          "Shubh Enclave",
          "Jayanagar",
          "Ascendas Park Square",
          "Koramangala 4th Block",
          "Electronic City",
          "Basavanagudi",
          "Indiranagar",
          "Aloft Bengaluru Cessna Business Park",
          "Citrine Hotel",
          "Koramangala 5th Block",
          "Electronic City",
          "MG Road"
         ],
         "y0": " ",
         "yaxis": "y"
        }
       ],
       "layout": {
        "boxmode": "group",
        "font": {
         "color": "black",
         "family": "Arial",
         "size": 12
        },
        "legend": {
         "tracegroupgap": 0
        },
        "plot_bgcolor": "lightblue",
        "template": {
         "data": {
          "bar": [
           {
            "error_x": {
             "color": "#2a3f5f"
            },
            "error_y": {
             "color": "#2a3f5f"
            },
            "marker": {
             "line": {
              "color": "#E5ECF6",
              "width": 0.5
             },
             "pattern": {
              "fillmode": "overlay",
              "size": 10,
              "solidity": 0.2
             }
            },
            "type": "bar"
           }
          ],
          "barpolar": [
           {
            "marker": {
             "line": {
              "color": "#E5ECF6",
              "width": 0.5
             },
             "pattern": {
              "fillmode": "overlay",
              "size": 10,
              "solidity": 0.2
             }
            },
            "type": "barpolar"
           }
          ],
          "carpet": [
           {
            "aaxis": {
             "endlinecolor": "#2a3f5f",
             "gridcolor": "white",
             "linecolor": "white",
             "minorgridcolor": "white",
             "startlinecolor": "#2a3f5f"
            },
            "baxis": {
             "endlinecolor": "#2a3f5f",
             "gridcolor": "white",
             "linecolor": "white",
             "minorgridcolor": "white",
             "startlinecolor": "#2a3f5f"
            },
            "type": "carpet"
           }
          ],
          "choropleth": [
           {
            "colorbar": {
             "outlinewidth": 0,
             "ticks": ""
            },
            "type": "choropleth"
           }
          ],
          "contour": [
           {
            "colorbar": {
             "outlinewidth": 0,
             "ticks": ""
            },
            "colorscale": [
             [
              0,
              "#0d0887"
             ],
             [
              0.1111111111111111,
              "#46039f"
             ],
             [
              0.2222222222222222,
              "#7201a8"
             ],
             [
              0.3333333333333333,
              "#9c179e"
             ],
             [
              0.4444444444444444,
              "#bd3786"
             ],
             [
              0.5555555555555556,
              "#d8576b"
             ],
             [
              0.6666666666666666,
              "#ed7953"
             ],
             [
              0.7777777777777778,
              "#fb9f3a"
             ],
             [
              0.8888888888888888,
              "#fdca26"
             ],
             [
              1,
              "#f0f921"
             ]
            ],
            "type": "contour"
           }
          ],
          "contourcarpet": [
           {
            "colorbar": {
             "outlinewidth": 0,
             "ticks": ""
            },
            "type": "contourcarpet"
           }
          ],
          "heatmap": [
           {
            "colorbar": {
             "outlinewidth": 0,
             "ticks": ""
            },
            "colorscale": [
             [
              0,
              "#0d0887"
             ],
             [
              0.1111111111111111,
              "#46039f"
             ],
             [
              0.2222222222222222,
              "#7201a8"
             ],
             [
              0.3333333333333333,
              "#9c179e"
             ],
             [
              0.4444444444444444,
              "#bd3786"
             ],
             [
              0.5555555555555556,
              "#d8576b"
             ],
             [
              0.6666666666666666,
              "#ed7953"
             ],
             [
              0.7777777777777778,
              "#fb9f3a"
             ],
             [
              0.8888888888888888,
              "#fdca26"
             ],
             [
              1,
              "#f0f921"
             ]
            ],
            "type": "heatmap"
           }
          ],
          "heatmapgl": [
           {
            "colorbar": {
             "outlinewidth": 0,
             "ticks": ""
            },
            "colorscale": [
             [
              0,
              "#0d0887"
             ],
             [
              0.1111111111111111,
              "#46039f"
             ],
             [
              0.2222222222222222,
              "#7201a8"
             ],
             [
              0.3333333333333333,
              "#9c179e"
             ],
             [
              0.4444444444444444,
              "#bd3786"
             ],
             [
              0.5555555555555556,
              "#d8576b"
             ],
             [
              0.6666666666666666,
              "#ed7953"
             ],
             [
              0.7777777777777778,
              "#fb9f3a"
             ],
             [
              0.8888888888888888,
              "#fdca26"
             ],
             [
              1,
              "#f0f921"
             ]
            ],
            "type": "heatmapgl"
           }
          ],
          "histogram": [
           {
            "marker": {
             "pattern": {
              "fillmode": "overlay",
              "size": 10,
              "solidity": 0.2
             }
            },
            "type": "histogram"
           }
          ],
          "histogram2d": [
           {
            "colorbar": {
             "outlinewidth": 0,
             "ticks": ""
            },
            "colorscale": [
             [
              0,
              "#0d0887"
             ],
             [
              0.1111111111111111,
              "#46039f"
             ],
             [
              0.2222222222222222,
              "#7201a8"
             ],
             [
              0.3333333333333333,
              "#9c179e"
             ],
             [
              0.4444444444444444,
              "#bd3786"
             ],
             [
              0.5555555555555556,
              "#d8576b"
             ],
             [
              0.6666666666666666,
              "#ed7953"
             ],
             [
              0.7777777777777778,
              "#fb9f3a"
             ],
             [
              0.8888888888888888,
              "#fdca26"
             ],
             [
              1,
              "#f0f921"
             ]
            ],
            "type": "histogram2d"
           }
          ],
          "histogram2dcontour": [
           {
            "colorbar": {
             "outlinewidth": 0,
             "ticks": ""
            },
            "colorscale": [
             [
              0,
              "#0d0887"
             ],
             [
              0.1111111111111111,
              "#46039f"
             ],
             [
              0.2222222222222222,
              "#7201a8"
             ],
             [
              0.3333333333333333,
              "#9c179e"
             ],
             [
              0.4444444444444444,
              "#bd3786"
             ],
             [
              0.5555555555555556,
              "#d8576b"
             ],
             [
              0.6666666666666666,
              "#ed7953"
             ],
             [
              0.7777777777777778,
              "#fb9f3a"
             ],
             [
              0.8888888888888888,
              "#fdca26"
             ],
             [
              1,
              "#f0f921"
             ]
            ],
            "type": "histogram2dcontour"
           }
          ],
          "mesh3d": [
           {
            "colorbar": {
             "outlinewidth": 0,
             "ticks": ""
            },
            "type": "mesh3d"
           }
          ],
          "parcoords": [
           {
            "line": {
             "colorbar": {
              "outlinewidth": 0,
              "ticks": ""
             }
            },
            "type": "parcoords"
           }
          ],
          "pie": [
           {
            "automargin": true,
            "type": "pie"
           }
          ],
          "scatter": [
           {
            "fillpattern": {
             "fillmode": "overlay",
             "size": 10,
             "solidity": 0.2
            },
            "type": "scatter"
           }
          ],
          "scatter3d": [
           {
            "line": {
             "colorbar": {
              "outlinewidth": 0,
              "ticks": ""
             }
            },
            "marker": {
             "colorbar": {
              "outlinewidth": 0,
              "ticks": ""
             }
            },
            "type": "scatter3d"
           }
          ],
          "scattercarpet": [
           {
            "marker": {
             "colorbar": {
              "outlinewidth": 0,
              "ticks": ""
             }
            },
            "type": "scattercarpet"
           }
          ],
          "scattergeo": [
           {
            "marker": {
             "colorbar": {
              "outlinewidth": 0,
              "ticks": ""
             }
            },
            "type": "scattergeo"
           }
          ],
          "scattergl": [
           {
            "marker": {
             "colorbar": {
              "outlinewidth": 0,
              "ticks": ""
             }
            },
            "type": "scattergl"
           }
          ],
          "scattermapbox": [
           {
            "marker": {
             "colorbar": {
              "outlinewidth": 0,
              "ticks": ""
             }
            },
            "type": "scattermapbox"
           }
          ],
          "scatterpolar": [
           {
            "marker": {
             "colorbar": {
              "outlinewidth": 0,
              "ticks": ""
             }
            },
            "type": "scatterpolar"
           }
          ],
          "scatterpolargl": [
           {
            "marker": {
             "colorbar": {
              "outlinewidth": 0,
              "ticks": ""
             }
            },
            "type": "scatterpolargl"
           }
          ],
          "scatterternary": [
           {
            "marker": {
             "colorbar": {
              "outlinewidth": 0,
              "ticks": ""
             }
            },
            "type": "scatterternary"
           }
          ],
          "surface": [
           {
            "colorbar": {
             "outlinewidth": 0,
             "ticks": ""
            },
            "colorscale": [
             [
              0,
              "#0d0887"
             ],
             [
              0.1111111111111111,
              "#46039f"
             ],
             [
              0.2222222222222222,
              "#7201a8"
             ],
             [
              0.3333333333333333,
              "#9c179e"
             ],
             [
              0.4444444444444444,
              "#bd3786"
             ],
             [
              0.5555555555555556,
              "#d8576b"
             ],
             [
              0.6666666666666666,
              "#ed7953"
             ],
             [
              0.7777777777777778,
              "#fb9f3a"
             ],
             [
              0.8888888888888888,
              "#fdca26"
             ],
             [
              1,
              "#f0f921"
             ]
            ],
            "type": "surface"
           }
          ],
          "table": [
           {
            "cells": {
             "fill": {
              "color": "#EBF0F8"
             },
             "line": {
              "color": "white"
             }
            },
            "header": {
             "fill": {
              "color": "#C8D4E3"
             },
             "line": {
              "color": "white"
             }
            },
            "type": "table"
           }
          ]
         },
         "layout": {
          "annotationdefaults": {
           "arrowcolor": "#2a3f5f",
           "arrowhead": 0,
           "arrowwidth": 1
          },
          "autotypenumbers": "strict",
          "coloraxis": {
           "colorbar": {
            "outlinewidth": 0,
            "ticks": ""
           }
          },
          "colorscale": {
           "diverging": [
            [
             0,
             "#8e0152"
            ],
            [
             0.1,
             "#c51b7d"
            ],
            [
             0.2,
             "#de77ae"
            ],
            [
             0.3,
             "#f1b6da"
            ],
            [
             0.4,
             "#fde0ef"
            ],
            [
             0.5,
             "#f7f7f7"
            ],
            [
             0.6,
             "#e6f5d0"
            ],
            [
             0.7,
             "#b8e186"
            ],
            [
             0.8,
             "#7fbc41"
            ],
            [
             0.9,
             "#4d9221"
            ],
            [
             1,
             "#276419"
            ]
           ],
           "sequential": [
            [
             0,
             "#0d0887"
            ],
            [
             0.1111111111111111,
             "#46039f"
            ],
            [
             0.2222222222222222,
             "#7201a8"
            ],
            [
             0.3333333333333333,
             "#9c179e"
            ],
            [
             0.4444444444444444,
             "#bd3786"
            ],
            [
             0.5555555555555556,
             "#d8576b"
            ],
            [
             0.6666666666666666,
             "#ed7953"
            ],
            [
             0.7777777777777778,
             "#fb9f3a"
            ],
            [
             0.8888888888888888,
             "#fdca26"
            ],
            [
             1,
             "#f0f921"
            ]
           ],
           "sequentialminus": [
            [
             0,
             "#0d0887"
            ],
            [
             0.1111111111111111,
             "#46039f"
            ],
            [
             0.2222222222222222,
             "#7201a8"
            ],
            [
             0.3333333333333333,
             "#9c179e"
            ],
            [
             0.4444444444444444,
             "#bd3786"
            ],
            [
             0.5555555555555556,
             "#d8576b"
            ],
            [
             0.6666666666666666,
             "#ed7953"
            ],
            [
             0.7777777777777778,
             "#fb9f3a"
            ],
            [
             0.8888888888888888,
             "#fdca26"
            ],
            [
             1,
             "#f0f921"
            ]
           ]
          },
          "colorway": [
           "#636efa",
           "#EF553B",
           "#00cc96",
           "#ab63fa",
           "#FFA15A",
           "#19d3f3",
           "#FF6692",
           "#B6E880",
           "#FF97FF",
           "#FECB52"
          ],
          "font": {
           "color": "#2a3f5f"
          },
          "geo": {
           "bgcolor": "white",
           "lakecolor": "white",
           "landcolor": "#E5ECF6",
           "showlakes": true,
           "showland": true,
           "subunitcolor": "white"
          },
          "hoverlabel": {
           "align": "left"
          },
          "hovermode": "closest",
          "mapbox": {
           "style": "light"
          },
          "paper_bgcolor": "white",
          "plot_bgcolor": "#E5ECF6",
          "polar": {
           "angularaxis": {
            "gridcolor": "white",
            "linecolor": "white",
            "ticks": ""
           },
           "bgcolor": "#E5ECF6",
           "radialaxis": {
            "gridcolor": "white",
            "linecolor": "white",
            "ticks": ""
           }
          },
          "scene": {
           "xaxis": {
            "backgroundcolor": "#E5ECF6",
            "gridcolor": "white",
            "gridwidth": 2,
            "linecolor": "white",
            "showbackground": true,
            "ticks": "",
            "zerolinecolor": "white"
           },
           "yaxis": {
            "backgroundcolor": "#E5ECF6",
            "gridcolor": "white",
            "gridwidth": 2,
            "linecolor": "white",
            "showbackground": true,
            "ticks": "",
            "zerolinecolor": "white"
           },
           "zaxis": {
            "backgroundcolor": "#E5ECF6",
            "gridcolor": "white",
            "gridwidth": 2,
            "linecolor": "white",
            "showbackground": true,
            "ticks": "",
            "zerolinecolor": "white"
           }
          },
          "shapedefaults": {
           "line": {
            "color": "#2a3f5f"
           }
          },
          "ternary": {
           "aaxis": {
            "gridcolor": "white",
            "linecolor": "white",
            "ticks": ""
           },
           "baxis": {
            "gridcolor": "white",
            "linecolor": "white",
            "ticks": ""
           },
           "bgcolor": "#E5ECF6",
           "caxis": {
            "gridcolor": "white",
            "linecolor": "white",
            "ticks": ""
           }
          },
          "title": {
           "x": 0.05
          },
          "xaxis": {
           "automargin": true,
           "gridcolor": "white",
           "linecolor": "white",
           "ticks": "",
           "title": {
            "standoff": 15
           },
           "zerolinecolor": "white",
           "zerolinewidth": 2
          },
          "yaxis": {
           "automargin": true,
           "gridcolor": "white",
           "linecolor": "white",
           "ticks": "",
           "title": {
            "standoff": 15
           },
           "zerolinecolor": "white",
           "zerolinewidth": 2
          }
         }
        },
        "title": {
         "text": "Rating Distribution by Location",
         "x": 0.5
        },
        "xaxis": {
         "anchor": "y",
         "domain": [
          0,
          1
         ],
         "tickfont": {
          "size": 10
         },
         "title": {
          "text": "Total Review Count"
         }
        },
        "yaxis": {
         "anchor": "x",
         "domain": [
          0,
          1
         ],
         "gridcolor": "darkgray",
         "title": {
          "text": "Area"
         }
        }
       }
      },
      "text/html": [
       "<div>                            <div id=\"6362ec2b-30a8-4380-92d4-1c433ffcc6c2\" class=\"plotly-graph-div\" style=\"height:525px; width:100%;\"></div>            <script type=\"text/javascript\">                require([\"plotly\"], function(Plotly) {                    window.PLOTLYENV=window.PLOTLYENV || {};                                    if (document.getElementById(\"6362ec2b-30a8-4380-92d4-1c433ffcc6c2\")) {                    Plotly.newPlot(                        \"6362ec2b-30a8-4380-92d4-1c433ffcc6c2\",                        [{\"alignmentgroup\":\"True\",\"hovertemplate\":\"Total Review Count=%{x}<br>Area=%{y}<extra></extra>\",\"legendgroup\":\"\",\"marker\":{\"color\":\"#636efa\"},\"name\":\"\",\"notched\":false,\"offsetgroup\":\"\",\"orientation\":\"h\",\"showlegend\":false,\"x\":[819,579,1229,231,207,1272,57,2991,181,3862,492,0,2356,9676,505,8503,346,3773,4494,32751,1202,0,3605,10973,4638,1168,217,65200,56,2136,3638,143,128,4319,566,5059,151,3964,291,15216,95,21286,6605,244,137,4987,10054,512,4944,14000,1109,292,4522,2273,3966,4530,1483,794,715,6687,6642,7901,592,12608,350,2938,211,8343,341,17573,77,3664,11811,2599,979,5979,5798,76,12585,7629,660,17699,3489,1440,1989,6869,8461,8608,18408,2008,18112,6395,6324,3617,13788,5798,21584,4376,449,6848,3132,2395,1319,6738,6643,1261,1164,796,1678,6164,163,1241,2987,12071,1839,2523,2078,839,1049,8334,410,2906,7222,269,3051,310,1199,1105,1892,511,4681,2884,20200,3700,5600,350,8289,1171,8869,3378,2432,1138,11310,813,6256,478,645,1358,19123,1272,585,5018,12297,580,239,17536,9619,4023,880,4784,1387,462,329,9643,433,2654,6890,7939,16916,11529,3575,3778,6477,168,5523,1969,297,790,9892,1769,3297,1624,1850,7449,1479,11396,1925,4410,12253,142,369,11633,6702,927,389,8652,3584,3656,9681,4594,2255,849,7366,916,215,7095,1696,5306,2639,954,3539,201,3106,7855,369,8202,2817,13302,68,4796,5797,5132,1039,3972,106,3338,5311,4570,910,881,321,785,4970,2670,1522,1446,718,5291,75,3161,1145,695,4078,1631,120,133,1192,1496,420,841,3413,2554,32,746,1191,7,695,4094,1922,955,800,2079,7513,860,2958,11545,309,32,1146,125,285,393,3912,554,1968,1527,2571,4040,7626,295,2638,201,845,4207,1049,1148,48,5730,402,221,1632,394,339,4349,75,4273,12242,1212,128,313,3532,118,1732,79,2049,375,4298,3944,226,475,631,228,3455,187,2643,611,968,5269,865,2110,830,3991,61,3892,5433,2934,1164,989,235,995,42,15787,510,1747,815,12674,433,171,911,629,10265,15658,2143,3389,9812,1575,230,1721,2863,27,56,900,165,6544,2087,2121,3364,225,7048,153,79,146,1475,2114,966,38,312,4265,7146,3687,27,10079,3370,159,2708,704,326,5095,645,53,303,2229,1083,13160,74,1940,2565,467,1851,247,650,1401,2943,1355,75,203,102981,1421,120,4309,25,216,311,536,107,1575,172,747,102000,30,230,25,2427,4923,39,30,20,120,753,3495,2107,5480,4091,45,4119,37,2359,201,314,560,466,2681,29007,760,9338,478,2116,988,64,369,226,347,2893,927,2660,2453,1206,135,1126,1313,240,151,6520,39217,3055,35,3720,4351,1218,170,294,22369,2167,1317,65,15,3167,385,1439,630,683,203,32347,37,161,1398,34721,457,37,1840,2134,158,1553,46004,3563,7327,78,7311,2115,8177,174,1697,533,11766,1288,125,1013,366,638,56,648],\"x0\":\" \",\"xaxis\":\"x\",\"y\":[\"UB City\",\"Lavelle Road\",\"Koramangala 7th Block\",\"Cunningham Road\",\"Forum Rex Walk\",\"Church Street\",\"Indiranagar\",\"The Chancery Pavilion\",\"Forum Rex Walk\",\"UB City\",\"Koramangala 5th Block\",\"Chanapatna\",\"Indiranagar\",\"Marathahalli\",\"St. Marks Road\",\"Hennur\",\"Garuda Mall\",\"Varthur Main Road\",\"MG Road\",\"Marathahalli\",\"The Leela Palace\",\"Chanapatna\",\"Malleshwaram\",\"Sarjapur Road\",\"Gilly's Redefined\",\"Seegehalli\",\"Church Street\",\"Sarjapur Road\",\"Brigade Road\",\"Jayanagar\",\"Building 105\",\"St. Marks Road\",\"St. Marks Road\",\"Koramangala 6th Block\",\"JP Nagar\",\"Whitefield\",\"Indiranagar\",\"Indiranagar\",\"Brigade Road\",\"Koramangala 6th Block\",\"Indiranagar\",\"JP Nagar\",\"Shanti Nagar\",\"Hilton Bengaluru Embassy Manyata Business Park\",\"Richmond Road\",\"RMZ Azure\",\"Indiranagar\",\"Lavelle Road\",\"Indiranagar\",\"Sarjapur Road\",\"Koramangala 5th Block\",\"Church Street\",\"Brigade Road\",\"Bannerghatta Road\",\"JP Nagar\",\"Whitefield\",\"Hilton Bangalore Embassy GolfLinks\",\"Bellandur\",\"Koramangala 6th Block\",\"Sheraton Grand Bangalore\",\"Indiranagar\",\"Sarjapur Road\",\"Jayanagar\",\"BTM\",\"The Leela Palace\",\"Bommanahalli\",\"Koramangala 5th Block\",\"Sarjapur Road\",\"Koramangala 5th Block\",\"Indiranagar\",\"Brigade Road\",\"Jayanagar\",\"Indiranagar\",\"Sheraton Grand Bangalore\",\"Koramangala 7th Block\",\"JP Nagar\",\"JP Nagar\",\"Indiranagar\",\"Indiranagar\",\"JP Nagar\",\"Indiranagar\",\"Whitefield\",\"JP Nagar\",\"Hennur\",\"St. Marks Road\",\"Sarjapur Road\",\"Indiranagar\",\"St. Marks Road\",\"Kadubeesanahalli\",\"Forum Rex Walk\",\"HSR\",\"Kalyan Nagar\",\"Sarjapur Road\",\"Brookefield\",\"JP Nagar\",\"Sarjapur Road\",\"HSR\",\"Indiranagar\",\"Church Street\",\"Nexus Shantiniketan\",\"JW Marriott Bengaluru\",\"Yelahanka\",\"JP Nagar\",\"JP Nagar\",\"KR Puram\",\"The Den\",\"JP Nagar\",\"Kalyan Nagar\",\"1 Sobha\",\"Indiranagar\",\"Radisson Bangalore City Centre\",\"Mahadevapura\",\"Indiranagar\",\"Koramangala 5th Block\",\"Sahakara Nagar\",\"Marathahalli\",\"New BEL Road\",\"Bhartiya Mall of Bengaluru\",\"Forum Rex Walk\",\"Koramangala 5th Block\",\"JP Nagar\",\"Old Airport Road\",\"JP Nagar\",\"Majestic\",\"Hebbal\",\"Bannerghatta Road\",\"Koramangala 8th Block\",\"JP Nagar\",\"Kadubeesanahalli\",\"1 MG Road Mall\",\"Indiranagar\",\"HSR\",\"Brigade Road\",\"Indiranagar\",\"HSR\",\"Koramangala 5th Block\",\"Nexus Shantiniketan\",\"HSR\",\"Sarjapur Road\",\"Koramangala 7th Block\",\"Phoenix Marketcity Bangalore\",\"Koramangala 4th Block\",\"Sahakara Nagar\",\"Indiranagar\",\"Barton Centre\",\"Lulu Mall\",\"New BEL Road\",\"Sarjapur Road\",\"Marathahalli\",\"MG Road\",\"Bhartiya Mall of Bengaluru\",\"New BEL Road\",\"Marathahalli\",\"HSR\",\"Hebbal\",\"HSR\",\"Brigade Road\",\"Marathahalli\",\"Koramangala 7th Block\",\"Mantri Square\",\"Sheraton Grand Bangalore\",\"World Trade Center\",\"Phoenix Mall of Asia\",\"Marathahalli\",\"RMZ Ecoworld\",\"HSR\",\"JP Nagar\",\"Whitefield\",\"Koramangala 4th Block\",\"Orion Mall\",\"Bannerghatta Road\",\"Eva Mall\",\"Nexus Shantiniketan\",\"Old Airport Road\",\"Rajarajeshwari Nagar\",\"Indiranagar\",\"Koramangala 5th Block\",\"Banashankari\",\"Marathahalli\",\"Forum Falcon City Mall\",\"Bannerghatta Road\",\"Radisson Blu\",\"ITPL Main Road\",\"Sarjapur Road\",\"Livin Hub Hotel\",\"Marathahalli\",\"Indiranagar\",\"Jayanagar\",\"JP Nagar\",\"MG Road\",\"Whitefield\",\"Koramangala 7th Block\",\"Koramangala 5th Block\",\"Whitefield\",\"Brookefield\",\"Craftworks\",\"Marathahalli\",\"Bannerghatta Road\",\"Sarjapur Road\",\"Marathahalli\",\"1 Sobha\",\"JP Nagar\",\"Koramangala 5th Block\",\"Koramangala 5th Block\",\"Seegehalli\",\"Koramangala 7th Block\",\"Renaissance Hotel\",\"Koramangala 4th Block\",\"Indiranagar\",\"Sahakara Nagar\",\"Indiranagar\",\"Brigade Road\",\"RMZ Ecoworld\",\"Sarjapur Road\",\"Kumaraswamy Layout\",\"Brigade Road\",\"JP Nagar\",\"Bannerghatta Road\",\"Koramangala 4th Block\",\"Rajarajeshwari Nagar\",\"Brigade Road\",\"Indiranagar\",\"Koramangala 5th Block\",\"UB City\",\"Phoenix Mall of Asia\",\"Indiranagar\",\"Koramangala 8th Block\",\"Varthur Main Road\",\"Basaveshwara Nagar\",\"Sahakara Nagar\",\"Nagarbhavi\",\"Forum Falcon City Mall\",\"Indiranagar\",\"Indiranagar\",\"Esteem Mall\",\"Whitefield\",\"Conrad Bengaluru\",\"Nexus\",\"Forum Rex Walk\",\"Koramangala 1st Block\",\"JW Marriott Bengaluru\",\"Indiranagar\",\"1 MG Road Mall\",\"Nagarbhavi\",\"DoubleTree by Hilton\",\"Bommanahalli\",\"Sheraton Grand Bengaluru\",\"Whitefield\",\"Embassy Manyata Business Park\",\"Electronic City\",\"JP Nagar\",\"Richmond Road\",\"Indiranagar\",\"Royal Meenakshi Mall\",\"Goldfinch Hotel\",\"Navarathna Agrahara International Airport\",\"1 MG Road Mall\",\"UB City\",\"Yelahanka\",\"1 Sobha\",\"Whitefield\",\"Malleshwaram\",\"Phoenix Marketcity Bangalore\",\"DoubleTree Suites By Hilton\",\"Rajarajeshwari Nagar\",\"Indiranagar\",\"Sahakara Nagar\",\"JP Nagar\",\"BTM\",\"Koramangala 3rd Block\",\"Rajarajeshwari Nagar\",\"MG Road\",\"Koramangala 6th Block\",\"Phoenix Marketcity Bangalore\",\"UB City\",\"Koramangala 5th Block\",\"Marathahalli\",\"Lavelle Road\",\"Sarjapur Road\",\"Indiranagar\",\"Rajarajeshwari Nagar\",\"Hotel Country Inn\",\"The Leela Palace\",\"Phoenix Marketcity Bangalore\",\"Koramangala 5th Block\",\"Jayanagar\",\"Bellandur\",\"Koramangala 4th Block\",\"JP Nagar\",\"Holiday Inn\",\"Goldfinch Hotel\",\"New BEL Road\",\"HBR Layout\",\"Church Street\",\"Ibis Hebbal\",\"HSR\",\"Indiranagar\",\"Lavelle Road\",\"Indiranagar\",\"Kumaraswamy Layout\",\"Indiranagar\",\"Phoenix Mall of Asia\",\"Ulsoor\",\"RMZ Ecoworld\",\"Domlur\",\"HSR\",\"Indiranagar\",\"HSR\",\"Jakkur\",\"Nagawara\",\"Koramangala 5th Block\",\"Koramangala 5th Block\",\"The President Hotel\",\"Phoenix Mall of Asia\",\"Koramangala 5th Block\",\"Indiranagar\",\"Indiranagar\",\"JP Nagar\",\"JP Nagar\",\"Ulsoor\",\"Indiranagar\",\"Koramangala 5th Block\",\"Indiranagar\",\"JP Nagar\",\"JP Nagar\",\"Phoenix Marketcity Bangalore\",\"Jayanagar\",\"Brigade Road\",\"Kammanahalli\",\"Radisson Blu\",\"Nagawara\",\"Sarjapur Road\",\"JP Nagar\",\"Sarjapur Road\",\"JP Nagar\",\"Phoenix Marketcity Bangalore\",\"Sarjapur Road\",\"Holiday Inn\",\"Kalyan Nagar\",\"RMZ Infinity\",\"Electronic City\",\"HSR\",\"HSR\",\"Koramangala 5th Block\",\"Whitefield\",\"Bannerghatta Road\",\"Divyasree Technopark\",\"Koramangala 4th Block\",\"Indiranagar\",\"JP Nagar\",\"Indiranagar\",\"Courtyard by Marriott\",\"RMZ Ecoworld\",\"Lavelle Road\",\"HSR\",\"HSR\",\"Forum Neighbourhood Mall\",\"Jayanagar\",\"Sarjapur Road\",\"Koramangala 5th Block\",\"Koramangala 5th Block\",\"Phoenix Mall of Asia\",\"Indiranagar\",\"Craftworks\",\"Cunningham Road\",\"Yelahanka\",\"Forum Rex Walk\",\"HSR\",\"Indiranagar\",\"Kalyan Nagar\",\"St. Marks Road\",\"Indiranagar\",\"Marathahalli\",\"Phoenix Mall of Asia\",\"Indiranagar\",\"Koramangala 6th Block\",\"Phoenix Mall of Asia\",\"Indiranagar\",\"Malleshwaram\",\"Jayanagar\",\"Hebbal\",\"Indiranagar\",\"HSR\",\"Indiranagar\",\"Forum Rex Walk\",\"Richmond Town\",\"Residency Road\",\"BTM\",\"Jayanagar\",\"Hennur\",\"Hebbal\",\"Electronic City\",\"HSR\",\"Bellandur\",\"The Leela Bhartiya City\",\"Nagawara\",\"HSR\",\"HSR\",\"New BEL Road\",\"Electronic City\",\"Forum Falcon City Mall\",\"Cunningham Road\",\"Sankey Road\",\"New BEL Road\",\"Electronic City\",\"Phoenix Marketcity Bangalore\",\"Indiranagar\",\"Royal Orchid Central\",\"Indiranagar\",\"Bannerghatta Road\",\"Bellandur\",\"BTM\",\"Indiranagar\",\"HSR\",\"Koramangala 6th Block\",\"Lavelle Road\",\"Kanakapura Road\",\"RT Nagar\",\"Brigade Road\",\"The Paul Bangalore\",\"JP Nagar\",\"Whitefield\",\"Bannerghatta Road\",\"Church Street\",\"Barton Centre\",\"Bommanahalli\",\"MG Road\",\"Indiranagar\",\"HSR\",\"MG Road\",\"Ascendas Park Square\",\"VR Bengaluru\",\"JP Nagar\",\"The Chancery Pavilion\",\"Embassy Manyata Business Park\",\"Whitefield\",\"JP Nagar\",\"ITPL Main Road\",\"Marathahalli\",\"Koramangala 5th Block\",\"Hilton Bangalore Embassy GolfLinks\",\"Indiranagar\",\"Church Street\",\"Koramangala 3rd Block\",\"Jayanagar\",\"Vega City\",\"Sarjapur Road\",\"Jayanagar\",\"The Ritz-Carlton\",\"Brigade Road\",\"Garuda Mall\",\"Kalyan Nagar\",\"BluPetal Hotel\",\"Koramangala 7th Block\",\"Jayanagar\",\"Electronic City\",\"HSR\",\"Church Street\",\"The Oberoi\",\"JP Nagar\",\"JP Nagar\",\"HSR\",\"Hotel Southern Star\",\"Sarjapur Road\",\"Indiranagar\",\"Kalyan Nagar\",\"Koramangala 6th Block\",\"Courtyard by Marriott\",\"Hotel Southern Star\",\"The Leela Bhartiya City\",\"Bommanahalli\",\"HSR\",\"Koramangala 5th Block\",\"Indiranagar\",\"JP Nagar\",\"HSR\",\"Residency Road\",\"ITC Gardenia\",\"Koramangala 8th Block\",\"Kalyan Nagar\",\"Cunningham Road\",\"Koramangala 5th Block\",\"Cunningham Road\",\"BTM\",\"Koramangala 5th Block\",\"HSR\",\"Varthur Main Road\",\"Electronic City\",\"Indiranagar\",\"Shubh Enclave\",\"Jayanagar\",\"Ascendas Park Square\",\"Koramangala 4th Block\",\"Electronic City\",\"Basavanagudi\",\"Indiranagar\",\"Aloft Bengaluru Cessna Business Park\",\"Citrine Hotel\",\"Koramangala 5th Block\",\"Electronic City\",\"MG Road\"],\"y0\":\" \",\"yaxis\":\"y\",\"type\":\"box\"}],                        {\"template\":{\"data\":{\"histogram2dcontour\":[{\"type\":\"histogram2dcontour\",\"colorbar\":{\"outlinewidth\":0,\"ticks\":\"\"},\"colorscale\":[[0.0,\"#0d0887\"],[0.1111111111111111,\"#46039f\"],[0.2222222222222222,\"#7201a8\"],[0.3333333333333333,\"#9c179e\"],[0.4444444444444444,\"#bd3786\"],[0.5555555555555556,\"#d8576b\"],[0.6666666666666666,\"#ed7953\"],[0.7777777777777778,\"#fb9f3a\"],[0.8888888888888888,\"#fdca26\"],[1.0,\"#f0f921\"]]}],\"choropleth\":[{\"type\":\"choropleth\",\"colorbar\":{\"outlinewidth\":0,\"ticks\":\"\"}}],\"histogram2d\":[{\"type\":\"histogram2d\",\"colorbar\":{\"outlinewidth\":0,\"ticks\":\"\"},\"colorscale\":[[0.0,\"#0d0887\"],[0.1111111111111111,\"#46039f\"],[0.2222222222222222,\"#7201a8\"],[0.3333333333333333,\"#9c179e\"],[0.4444444444444444,\"#bd3786\"],[0.5555555555555556,\"#d8576b\"],[0.6666666666666666,\"#ed7953\"],[0.7777777777777778,\"#fb9f3a\"],[0.8888888888888888,\"#fdca26\"],[1.0,\"#f0f921\"]]}],\"heatmap\":[{\"type\":\"heatmap\",\"colorbar\":{\"outlinewidth\":0,\"ticks\":\"\"},\"colorscale\":[[0.0,\"#0d0887\"],[0.1111111111111111,\"#46039f\"],[0.2222222222222222,\"#7201a8\"],[0.3333333333333333,\"#9c179e\"],[0.4444444444444444,\"#bd3786\"],[0.5555555555555556,\"#d8576b\"],[0.6666666666666666,\"#ed7953\"],[0.7777777777777778,\"#fb9f3a\"],[0.8888888888888888,\"#fdca26\"],[1.0,\"#f0f921\"]]}],\"heatmapgl\":[{\"type\":\"heatmapgl\",\"colorbar\":{\"outlinewidth\":0,\"ticks\":\"\"},\"colorscale\":[[0.0,\"#0d0887\"],[0.1111111111111111,\"#46039f\"],[0.2222222222222222,\"#7201a8\"],[0.3333333333333333,\"#9c179e\"],[0.4444444444444444,\"#bd3786\"],[0.5555555555555556,\"#d8576b\"],[0.6666666666666666,\"#ed7953\"],[0.7777777777777778,\"#fb9f3a\"],[0.8888888888888888,\"#fdca26\"],[1.0,\"#f0f921\"]]}],\"contourcarpet\":[{\"type\":\"contourcarpet\",\"colorbar\":{\"outlinewidth\":0,\"ticks\":\"\"}}],\"contour\":[{\"type\":\"contour\",\"colorbar\":{\"outlinewidth\":0,\"ticks\":\"\"},\"colorscale\":[[0.0,\"#0d0887\"],[0.1111111111111111,\"#46039f\"],[0.2222222222222222,\"#7201a8\"],[0.3333333333333333,\"#9c179e\"],[0.4444444444444444,\"#bd3786\"],[0.5555555555555556,\"#d8576b\"],[0.6666666666666666,\"#ed7953\"],[0.7777777777777778,\"#fb9f3a\"],[0.8888888888888888,\"#fdca26\"],[1.0,\"#f0f921\"]]}],\"surface\":[{\"type\":\"surface\",\"colorbar\":{\"outlinewidth\":0,\"ticks\":\"\"},\"colorscale\":[[0.0,\"#0d0887\"],[0.1111111111111111,\"#46039f\"],[0.2222222222222222,\"#7201a8\"],[0.3333333333333333,\"#9c179e\"],[0.4444444444444444,\"#bd3786\"],[0.5555555555555556,\"#d8576b\"],[0.6666666666666666,\"#ed7953\"],[0.7777777777777778,\"#fb9f3a\"],[0.8888888888888888,\"#fdca26\"],[1.0,\"#f0f921\"]]}],\"mesh3d\":[{\"type\":\"mesh3d\",\"colorbar\":{\"outlinewidth\":0,\"ticks\":\"\"}}],\"scatter\":[{\"fillpattern\":{\"fillmode\":\"overlay\",\"size\":10,\"solidity\":0.2},\"type\":\"scatter\"}],\"parcoords\":[{\"type\":\"parcoords\",\"line\":{\"colorbar\":{\"outlinewidth\":0,\"ticks\":\"\"}}}],\"scatterpolargl\":[{\"type\":\"scatterpolargl\",\"marker\":{\"colorbar\":{\"outlinewidth\":0,\"ticks\":\"\"}}}],\"bar\":[{\"error_x\":{\"color\":\"#2a3f5f\"},\"error_y\":{\"color\":\"#2a3f5f\"},\"marker\":{\"line\":{\"color\":\"#E5ECF6\",\"width\":0.5},\"pattern\":{\"fillmode\":\"overlay\",\"size\":10,\"solidity\":0.2}},\"type\":\"bar\"}],\"scattergeo\":[{\"type\":\"scattergeo\",\"marker\":{\"colorbar\":{\"outlinewidth\":0,\"ticks\":\"\"}}}],\"scatterpolar\":[{\"type\":\"scatterpolar\",\"marker\":{\"colorbar\":{\"outlinewidth\":0,\"ticks\":\"\"}}}],\"histogram\":[{\"marker\":{\"pattern\":{\"fillmode\":\"overlay\",\"size\":10,\"solidity\":0.2}},\"type\":\"histogram\"}],\"scattergl\":[{\"type\":\"scattergl\",\"marker\":{\"colorbar\":{\"outlinewidth\":0,\"ticks\":\"\"}}}],\"scatter3d\":[{\"type\":\"scatter3d\",\"line\":{\"colorbar\":{\"outlinewidth\":0,\"ticks\":\"\"}},\"marker\":{\"colorbar\":{\"outlinewidth\":0,\"ticks\":\"\"}}}],\"scattermapbox\":[{\"type\":\"scattermapbox\",\"marker\":{\"colorbar\":{\"outlinewidth\":0,\"ticks\":\"\"}}}],\"scatterternary\":[{\"type\":\"scatterternary\",\"marker\":{\"colorbar\":{\"outlinewidth\":0,\"ticks\":\"\"}}}],\"scattercarpet\":[{\"type\":\"scattercarpet\",\"marker\":{\"colorbar\":{\"outlinewidth\":0,\"ticks\":\"\"}}}],\"carpet\":[{\"aaxis\":{\"endlinecolor\":\"#2a3f5f\",\"gridcolor\":\"white\",\"linecolor\":\"white\",\"minorgridcolor\":\"white\",\"startlinecolor\":\"#2a3f5f\"},\"baxis\":{\"endlinecolor\":\"#2a3f5f\",\"gridcolor\":\"white\",\"linecolor\":\"white\",\"minorgridcolor\":\"white\",\"startlinecolor\":\"#2a3f5f\"},\"type\":\"carpet\"}],\"table\":[{\"cells\":{\"fill\":{\"color\":\"#EBF0F8\"},\"line\":{\"color\":\"white\"}},\"header\":{\"fill\":{\"color\":\"#C8D4E3\"},\"line\":{\"color\":\"white\"}},\"type\":\"table\"}],\"barpolar\":[{\"marker\":{\"line\":{\"color\":\"#E5ECF6\",\"width\":0.5},\"pattern\":{\"fillmode\":\"overlay\",\"size\":10,\"solidity\":0.2}},\"type\":\"barpolar\"}],\"pie\":[{\"automargin\":true,\"type\":\"pie\"}]},\"layout\":{\"autotypenumbers\":\"strict\",\"colorway\":[\"#636efa\",\"#EF553B\",\"#00cc96\",\"#ab63fa\",\"#FFA15A\",\"#19d3f3\",\"#FF6692\",\"#B6E880\",\"#FF97FF\",\"#FECB52\"],\"font\":{\"color\":\"#2a3f5f\"},\"hovermode\":\"closest\",\"hoverlabel\":{\"align\":\"left\"},\"paper_bgcolor\":\"white\",\"plot_bgcolor\":\"#E5ECF6\",\"polar\":{\"bgcolor\":\"#E5ECF6\",\"angularaxis\":{\"gridcolor\":\"white\",\"linecolor\":\"white\",\"ticks\":\"\"},\"radialaxis\":{\"gridcolor\":\"white\",\"linecolor\":\"white\",\"ticks\":\"\"}},\"ternary\":{\"bgcolor\":\"#E5ECF6\",\"aaxis\":{\"gridcolor\":\"white\",\"linecolor\":\"white\",\"ticks\":\"\"},\"baxis\":{\"gridcolor\":\"white\",\"linecolor\":\"white\",\"ticks\":\"\"},\"caxis\":{\"gridcolor\":\"white\",\"linecolor\":\"white\",\"ticks\":\"\"}},\"coloraxis\":{\"colorbar\":{\"outlinewidth\":0,\"ticks\":\"\"}},\"colorscale\":{\"sequential\":[[0.0,\"#0d0887\"],[0.1111111111111111,\"#46039f\"],[0.2222222222222222,\"#7201a8\"],[0.3333333333333333,\"#9c179e\"],[0.4444444444444444,\"#bd3786\"],[0.5555555555555556,\"#d8576b\"],[0.6666666666666666,\"#ed7953\"],[0.7777777777777778,\"#fb9f3a\"],[0.8888888888888888,\"#fdca26\"],[1.0,\"#f0f921\"]],\"sequentialminus\":[[0.0,\"#0d0887\"],[0.1111111111111111,\"#46039f\"],[0.2222222222222222,\"#7201a8\"],[0.3333333333333333,\"#9c179e\"],[0.4444444444444444,\"#bd3786\"],[0.5555555555555556,\"#d8576b\"],[0.6666666666666666,\"#ed7953\"],[0.7777777777777778,\"#fb9f3a\"],[0.8888888888888888,\"#fdca26\"],[1.0,\"#f0f921\"]],\"diverging\":[[0,\"#8e0152\"],[0.1,\"#c51b7d\"],[0.2,\"#de77ae\"],[0.3,\"#f1b6da\"],[0.4,\"#fde0ef\"],[0.5,\"#f7f7f7\"],[0.6,\"#e6f5d0\"],[0.7,\"#b8e186\"],[0.8,\"#7fbc41\"],[0.9,\"#4d9221\"],[1,\"#276419\"]]},\"xaxis\":{\"gridcolor\":\"white\",\"linecolor\":\"white\",\"ticks\":\"\",\"title\":{\"standoff\":15},\"zerolinecolor\":\"white\",\"automargin\":true,\"zerolinewidth\":2},\"yaxis\":{\"gridcolor\":\"white\",\"linecolor\":\"white\",\"ticks\":\"\",\"title\":{\"standoff\":15},\"zerolinecolor\":\"white\",\"automargin\":true,\"zerolinewidth\":2},\"scene\":{\"xaxis\":{\"backgroundcolor\":\"#E5ECF6\",\"gridcolor\":\"white\",\"linecolor\":\"white\",\"showbackground\":true,\"ticks\":\"\",\"zerolinecolor\":\"white\",\"gridwidth\":2},\"yaxis\":{\"backgroundcolor\":\"#E5ECF6\",\"gridcolor\":\"white\",\"linecolor\":\"white\",\"showbackground\":true,\"ticks\":\"\",\"zerolinecolor\":\"white\",\"gridwidth\":2},\"zaxis\":{\"backgroundcolor\":\"#E5ECF6\",\"gridcolor\":\"white\",\"linecolor\":\"white\",\"showbackground\":true,\"ticks\":\"\",\"zerolinecolor\":\"white\",\"gridwidth\":2}},\"shapedefaults\":{\"line\":{\"color\":\"#2a3f5f\"}},\"annotationdefaults\":{\"arrowcolor\":\"#2a3f5f\",\"arrowhead\":0,\"arrowwidth\":1},\"geo\":{\"bgcolor\":\"white\",\"landcolor\":\"#E5ECF6\",\"subunitcolor\":\"white\",\"showland\":true,\"showlakes\":true,\"lakecolor\":\"white\"},\"title\":{\"x\":0.05},\"mapbox\":{\"style\":\"light\"}}},\"xaxis\":{\"anchor\":\"y\",\"domain\":[0.0,1.0],\"title\":{\"text\":\"Total Review Count\"},\"tickfont\":{\"size\":10}},\"yaxis\":{\"anchor\":\"x\",\"domain\":[0.0,1.0],\"title\":{\"text\":\"Area\"},\"gridcolor\":\"darkgray\"},\"legend\":{\"tracegroupgap\":0},\"title\":{\"text\":\"Rating Distribution by Location\",\"x\":0.5},\"boxmode\":\"group\",\"font\":{\"family\":\"Arial\",\"size\":12,\"color\":\"black\"},\"plot_bgcolor\":\"lightblue\"},                        {\"responsive\": true}                    ).then(function(){\n",
       "                            \n",
       "var gd = document.getElementById('6362ec2b-30a8-4380-92d4-1c433ffcc6c2');\n",
       "var x = new MutationObserver(function (mutations, observer) {{\n",
       "        var display = window.getComputedStyle(gd).display;\n",
       "        if (!display || display === 'none') {{\n",
       "            console.log([gd, 'removed!']);\n",
       "            Plotly.purge(gd);\n",
       "            observer.disconnect();\n",
       "        }}\n",
       "}});\n",
       "\n",
       "// Listen for the removal of the full notebook cells\n",
       "var notebookContainer = gd.closest('#notebook-container');\n",
       "if (notebookContainer) {{\n",
       "    x.observe(notebookContainer, {childList: true});\n",
       "}}\n",
       "\n",
       "// Listen for the clearing of the current output cell\n",
       "var outputEl = gd.closest('.output');\n",
       "if (outputEl) {{\n",
       "    x.observe(outputEl, {childList: true});\n",
       "}}\n",
       "\n",
       "                        })                };                });            </script>        </div>"
      ]
     },
     "metadata": {},
     "output_type": "display_data"
    }
   ],
   "source": [
    "fig = px.box(df, y='Area', x='Total Review Count', \n",
    "             title='Rating Distribution by Location')\n",
    "fig.update_layout(title={ \n",
    "                 'x': 0.5},  \n",
    "                  font=dict(family='Arial', size=12, color='black'),  \n",
    "                  xaxis=dict(tickfont=dict(size=10)),  \n",
    "                  yaxis=dict(gridcolor='darkgray'),  \n",
    "                  plot_bgcolor='lightblue' ) \n",
    "\n",
    "fig.show()"
   ]
  },
  {
   "cell_type": "code",
   "execution_count": 121,
   "id": "8b7d3c75",
   "metadata": {},
   "outputs": [
    {
     "data": {
      "application/vnd.plotly.v1+json": {
       "config": {
        "plotlyServerURL": "https://plot.ly"
       },
       "data": [
        {
         "hovertemplate": "index=%{x}<br>Popularity score=%{y}<extra></extra>",
         "legendgroup": "",
         "line": {
          "color": "darkorange",
          "dash": "solid"
         },
         "marker": {
          "color": "darkblue",
          "size": 8,
          "symbol": "circle"
         },
         "mode": "lines+markers",
         "name": "",
         "orientation": "v",
         "showlegend": false,
         "type": "scatter",
         "x": [
          0,
          1,
          2,
          3,
          4,
          5,
          6,
          7,
          8,
          9,
          10,
          11,
          12,
          13,
          14,
          15,
          16,
          17,
          18,
          19,
          20,
          21,
          22,
          23,
          24,
          25,
          26,
          27,
          28,
          29,
          30,
          31,
          32,
          33,
          34,
          35,
          36,
          37,
          38,
          39,
          40,
          41,
          42,
          43,
          44,
          45,
          46,
          47,
          48,
          49,
          50,
          51,
          52,
          53,
          54,
          55,
          56,
          57,
          58,
          59,
          60,
          61,
          62,
          63,
          64,
          65,
          66,
          67,
          68,
          69,
          70,
          71,
          72,
          73,
          74,
          75,
          76,
          77,
          78,
          79,
          80,
          81,
          82,
          83,
          84,
          85,
          86,
          87,
          88,
          89,
          90,
          91,
          92,
          93,
          94,
          95,
          96,
          97,
          98,
          99,
          100,
          101,
          102,
          103,
          104,
          105,
          106,
          107,
          108,
          109,
          110,
          111,
          112,
          113,
          114,
          115,
          116,
          117,
          118,
          119,
          120,
          121,
          122,
          123,
          124,
          125,
          126,
          127,
          128,
          129,
          130,
          131,
          132,
          133,
          134,
          135,
          136,
          137,
          138,
          139,
          140,
          141,
          142,
          143,
          144,
          145,
          146,
          147,
          148,
          149,
          150,
          151,
          152,
          153,
          154,
          155,
          156,
          157,
          158,
          159,
          160,
          161,
          162,
          163,
          164,
          165,
          166,
          167,
          168,
          169,
          170,
          171,
          172,
          173,
          174,
          175,
          176,
          177,
          178,
          179,
          180,
          181,
          182,
          183,
          184,
          185,
          186,
          187,
          188,
          189,
          190,
          191,
          192,
          193,
          194,
          195,
          196,
          197,
          198,
          199,
          200,
          201,
          202,
          203,
          204,
          205,
          206,
          207,
          208,
          209,
          210,
          211,
          212,
          213,
          214,
          215,
          216,
          217,
          218,
          219,
          220,
          221,
          222,
          223,
          224,
          225,
          226,
          227,
          228,
          229,
          230,
          231,
          232,
          233,
          234,
          235,
          236,
          237,
          238,
          239,
          240,
          241,
          242,
          243,
          244,
          245,
          246,
          247,
          248,
          249,
          250,
          251,
          252,
          253,
          254,
          255,
          256,
          257,
          258,
          259,
          260,
          261,
          262,
          263,
          264,
          265,
          266,
          267,
          268,
          269,
          270,
          271,
          272,
          273,
          274,
          275,
          276,
          277,
          278,
          279,
          280,
          281,
          282,
          283,
          284,
          285,
          286,
          287,
          288,
          289,
          290,
          291,
          292,
          293,
          294,
          295,
          296,
          297,
          298,
          299,
          300,
          301,
          302,
          303,
          304,
          305,
          306,
          307,
          308,
          309,
          310,
          311,
          312,
          313,
          314,
          315,
          316,
          317,
          318,
          319,
          320,
          321,
          322,
          323,
          324,
          325,
          326,
          327,
          328,
          329,
          330,
          331,
          332,
          333,
          334,
          335,
          336,
          337,
          338,
          339,
          340,
          341,
          342,
          343,
          344,
          345,
          346,
          347,
          348,
          349,
          350,
          351,
          352,
          353,
          354,
          355,
          356,
          357,
          358,
          359,
          360,
          361,
          362,
          363,
          364,
          365,
          366,
          367,
          368,
          369,
          370,
          371,
          372,
          373,
          374,
          375,
          376,
          377,
          378,
          379,
          380,
          381,
          382,
          383,
          384,
          385,
          386,
          387,
          388,
          389,
          390,
          391,
          392,
          393,
          394,
          395,
          396,
          397,
          398,
          399,
          400,
          401,
          402,
          403,
          404,
          405,
          406,
          407,
          408,
          409,
          410,
          411,
          412,
          413,
          414,
          415,
          416,
          417,
          418,
          419,
          420,
          421,
          422,
          423,
          424,
          425,
          426,
          427,
          428,
          429,
          430,
          431,
          432,
          433,
          434,
          435,
          436,
          437,
          438,
          439,
          440,
          441,
          442,
          443,
          444,
          445,
          446,
          447,
          448,
          449,
          450,
          451,
          452,
          453,
          454,
          455,
          456,
          457,
          458,
          459,
          460,
          461,
          462,
          463,
          464,
          465,
          466,
          467,
          468,
          469,
          470,
          471,
          472,
          473,
          474,
          475,
          476,
          477,
          478,
          479,
          480,
          481,
          482,
          483,
          484,
          485,
          486,
          487,
          488,
          489,
          490,
          491,
          492,
          493,
          494,
          495,
          496,
          497,
          498,
          499,
          500
         ],
         "xaxis": "x",
         "y": [
          3686.5,
          2722.3,
          5531.5,
          948.1,
          911.8,
          5343.4,
          229,
          12563.2,
          725,
          16221.4,
          2018.2,
          1,
          10367.4,
          41607.8,
          2223,
          35713.6,
          1523.4,
          14715.7,
          18875.8,
          147380.5,
          4809,
          1,
          15502.5,
          50476.8,
          20408.2,
          5023.4,
          912.4,
          299921,
          230.6,
          9399.4,
          14916.8,
          1,
          500.2,
          17708.9,
          2548,
          22260.6,
          680.5,
          15460.6,
          1310.5,
          68473,
          381,
          91530.8,
          27742,
          1025.8,
          617.5,
          21445.1,
          45244,
          1997.8,
          21260.2,
          58801,
          5213.3,
          1198.2,
          17184.6,
          9774.9,
          18244.6,
          18574,
          5784.7,
          3415.2,
          3075.5,
          28755.1,
          26569,
          33975.3,
          2369,
          55476.2,
          1436,
          12340.6,
          929.4,
          36710.2,
          1467.3,
          86108.7,
          324.4,
          16122.6,
          53150.5,
          11696.5,
          4210.7,
          26906.5,
          26092,
          335.4,
          56633.5,
          32805.7,
          2971,
          77876.6,
          14654.8,
          6337,
          8354.8,
          30224.6,
          36383.3,
          39597.8,
          77314.6,
          9037,
          81505,
          28139,
          28459,
          15554.1,
          62047,
          24932.4,
          97129,
          18817.8,
          1976.6,
          28762.6,
          13155.4,
          10299.5,
          5540.8,
          29648.2,
          29230.2,
          5171.1,
          5006.2,
          3423.8,
          7384.2,
          29588.2,
          685.6,
          5461.4,
          12247.7,
          50699.2,
          7724.8,
          10849.9,
          9144.2,
          3357,
          4826.4,
          36670.6,
          1723,
          12787.4,
          32500,
          1211.5,
          13730.5,
          1396,
          5036.8,
          4421,
          8136.6,
          2147.2,
          22937.9,
          12113.8,
          90901,
          14801,
          23521,
          1506,
          35643.7,
          5387.6,
          38137.7,
          13850.8,
          10458.6,
          4666.8,
          47503,
          3659.5,
          26901.8,
          2104.2,
          2774.5,
          5568.8,
          86054.5,
          5725,
          2516.5,
          21578.4,
          52878.1,
          2611,
          1076.5,
          78913,
          44248.4,
          16093,
          3521,
          20093.8,
          5687.7,
          2033.8,
          1481.5,
          41465.9,
          1862.9,
          10351.6,
          30317,
          38108.2,
          74431.4,
          49575.7,
          15731,
          16624.2,
          28499.8,
          757,
          23749.9,
          8664.6,
          1307.8,
          3240,
          42536.6,
          8492.2,
          13848.4,
          6659.4,
          8326,
          32031.7,
          6508.6,
          49003.8,
          8471,
          18523,
          53914.2,
          469.6,
          1661.5,
          52349.5,
          28149.4,
          3894.4,
          1673.7,
          40665.4,
          15053.8,
          15356.2,
          41629.3,
          19295.8,
          9021,
          3736.6,
          31674.8,
          4123,
          1,
          29800,
          7463.4,
          20694.4,
          10293.1,
          4103.2,
          15572.6,
          825.1,
          13046.2,
          32206.5,
          1403.2,
          36089.8,
          12677.5,
          57199.6,
          1,
          21103.4,
          25507.8,
          21555.4,
          3637.5,
          17080.6,
          478,
          15022,
          22838.3,
          21023,
          3823,
          4141.7,
          1381.3,
          3376.5,
          20378,
          11749,
          6697.8,
          6218.8,
          2873,
          24339.6,
          308.5,
          11696.7,
          4810,
          2989.5,
          17944.2,
          7014.3,
          505,
          1,
          5365,
          6284.2,
          1555,
          3701.4,
          14676.9,
          11238.6,
          135.4,
          3358,
          4765,
          28.3,
          3059,
          17605.2,
          8457.8,
          4012,
          3361,
          9356.5,
          30053,
          3613,
          12720.4,
          47335.5,
          1298.8,
          1,
          4814.2,
          426,
          1084,
          1690.9,
          16431.4,
          2272.4,
          7873,
          5956.3,
          11056.3,
          16969,
          32792.8,
          1240,
          11344.4,
          905.5,
          3634.5,
          18091.1,
          4511.7,
          4593,
          212.2,
          25786,
          1810,
          862.9,
          6855.4,
          1340.6,
          1424.8,
          17831.9,
          271,
          20511.4,
          55090,
          5091.4,
          513,
          1284.3,
          14835.4,
          484.8,
          7275.4,
          332.8,
          10041.1,
          1576,
          18912.2,
          16171.4,
          972.8,
          2043.5,
          2903.6,
          981.4,
          14166.5,
          805.1,
          11365.9,
          2628.3,
          3873,
          23184.6,
          3547.5,
          9074,
          3736,
          16364.1,
          245,
          16347.4,
          23362.9,
          11150.2,
          5122.6,
          4550.4,
          1035,
          4677.5,
          1,
          64727.7,
          2092,
          7163.7,
          3261,
          55766.6,
          1689.7,
          753.4,
          3918.3,
          2768.6,
          44140.5,
          61067.2,
          8787.3,
          13218.1,
          37286.6,
          5671,
          1036,
          7057.1,
          13170.8,
          109,
          236.2,
          3601,
          628,
          28794.6,
          10227.3,
          7424.5,
          13120.6,
          1013.5,
          29602.6,
          628.3,
          340.7,
          1,
          5753.5,
          10359.6,
          4154.8,
          134,
          1436.2,
          17061,
          29299.6,
          15855.1,
          92.8,
          45356.5,
          13481,
          652.9,
          12187,
          3028.2,
          1468,
          20381,
          2516.5,
          207.7,
          1364.5,
          9808.6,
          4657.9,
          57905,
          260,
          9313,
          10517.5,
          2102.5,
          8145.4,
          1063.1,
          2861,
          5044.6,
          12361.6,
          5692,
          316,
          914.5,
          401626.9,
          5827.1,
          493,
          18529.7,
          91,
          929.8,
          1400.5,
          2145,
          450.4,
          6301,
          603,
          2914.3,
          387601,
          121,
          898,
          93.5,
          10194.4,
          21169.9,
          137.5,
          1,
          83,
          433,
          3314.2,
          15029.5,
          8850.4,
          23017,
          17592.3,
          172,
          17300.8,
          141.6,
          8257.5,
          865.3,
          1225.6,
          2521,
          1958.2,
          10993.1,
          107326.9,
          2889,
          35485.4,
          2008.6,
          8041.8,
          3854.2,
          269.8,
          1624.6,
          1040.6,
          1423.7,
          11862.3,
          3801.7,
          10641,
          10303.6,
          5186.8,
          568,
          4617.6,
          5778.2,
          1033,
          650.3,
          28689,
          133338.8,
          12221,
          141,
          15997,
          19145.4,
          5969.2,
          647,
          1235.8,
          93950.8,
          9319.1,
          5532.4,
          287,
          59.5,
          13302.4,
          1618,
          6044.8,
          2647,
          3074.5,
          914.5,
          129389,
          163.8,
          645,
          5732.8,
          145829.2,
          1966.1,
          149,
          7729,
          9177.2,
          617.2,
          6057.7,
          174816.2,
          14965.6,
          29309,
          328.6,
          30707.2,
          8672.5,
          29438.2,
          697,
          6958.7,
          2239.6,
          50594.8,
          5153,
          438.5,
          3951.7,
          1574.8,
          2616.8,
          230.6,
          2981.8
         ],
         "yaxis": "y"
        }
       ],
       "layout": {
        "legend": {
         "tracegroupgap": 0
        },
        "paper_bgcolor": "white",
        "plot_bgcolor": "lightblue",
        "template": {
         "data": {
          "bar": [
           {
            "error_x": {
             "color": "#2a3f5f"
            },
            "error_y": {
             "color": "#2a3f5f"
            },
            "marker": {
             "line": {
              "color": "#E5ECF6",
              "width": 0.5
             },
             "pattern": {
              "fillmode": "overlay",
              "size": 10,
              "solidity": 0.2
             }
            },
            "type": "bar"
           }
          ],
          "barpolar": [
           {
            "marker": {
             "line": {
              "color": "#E5ECF6",
              "width": 0.5
             },
             "pattern": {
              "fillmode": "overlay",
              "size": 10,
              "solidity": 0.2
             }
            },
            "type": "barpolar"
           }
          ],
          "carpet": [
           {
            "aaxis": {
             "endlinecolor": "#2a3f5f",
             "gridcolor": "white",
             "linecolor": "white",
             "minorgridcolor": "white",
             "startlinecolor": "#2a3f5f"
            },
            "baxis": {
             "endlinecolor": "#2a3f5f",
             "gridcolor": "white",
             "linecolor": "white",
             "minorgridcolor": "white",
             "startlinecolor": "#2a3f5f"
            },
            "type": "carpet"
           }
          ],
          "choropleth": [
           {
            "colorbar": {
             "outlinewidth": 0,
             "ticks": ""
            },
            "type": "choropleth"
           }
          ],
          "contour": [
           {
            "colorbar": {
             "outlinewidth": 0,
             "ticks": ""
            },
            "colorscale": [
             [
              0,
              "#0d0887"
             ],
             [
              0.1111111111111111,
              "#46039f"
             ],
             [
              0.2222222222222222,
              "#7201a8"
             ],
             [
              0.3333333333333333,
              "#9c179e"
             ],
             [
              0.4444444444444444,
              "#bd3786"
             ],
             [
              0.5555555555555556,
              "#d8576b"
             ],
             [
              0.6666666666666666,
              "#ed7953"
             ],
             [
              0.7777777777777778,
              "#fb9f3a"
             ],
             [
              0.8888888888888888,
              "#fdca26"
             ],
             [
              1,
              "#f0f921"
             ]
            ],
            "type": "contour"
           }
          ],
          "contourcarpet": [
           {
            "colorbar": {
             "outlinewidth": 0,
             "ticks": ""
            },
            "type": "contourcarpet"
           }
          ],
          "heatmap": [
           {
            "colorbar": {
             "outlinewidth": 0,
             "ticks": ""
            },
            "colorscale": [
             [
              0,
              "#0d0887"
             ],
             [
              0.1111111111111111,
              "#46039f"
             ],
             [
              0.2222222222222222,
              "#7201a8"
             ],
             [
              0.3333333333333333,
              "#9c179e"
             ],
             [
              0.4444444444444444,
              "#bd3786"
             ],
             [
              0.5555555555555556,
              "#d8576b"
             ],
             [
              0.6666666666666666,
              "#ed7953"
             ],
             [
              0.7777777777777778,
              "#fb9f3a"
             ],
             [
              0.8888888888888888,
              "#fdca26"
             ],
             [
              1,
              "#f0f921"
             ]
            ],
            "type": "heatmap"
           }
          ],
          "heatmapgl": [
           {
            "colorbar": {
             "outlinewidth": 0,
             "ticks": ""
            },
            "colorscale": [
             [
              0,
              "#0d0887"
             ],
             [
              0.1111111111111111,
              "#46039f"
             ],
             [
              0.2222222222222222,
              "#7201a8"
             ],
             [
              0.3333333333333333,
              "#9c179e"
             ],
             [
              0.4444444444444444,
              "#bd3786"
             ],
             [
              0.5555555555555556,
              "#d8576b"
             ],
             [
              0.6666666666666666,
              "#ed7953"
             ],
             [
              0.7777777777777778,
              "#fb9f3a"
             ],
             [
              0.8888888888888888,
              "#fdca26"
             ],
             [
              1,
              "#f0f921"
             ]
            ],
            "type": "heatmapgl"
           }
          ],
          "histogram": [
           {
            "marker": {
             "pattern": {
              "fillmode": "overlay",
              "size": 10,
              "solidity": 0.2
             }
            },
            "type": "histogram"
           }
          ],
          "histogram2d": [
           {
            "colorbar": {
             "outlinewidth": 0,
             "ticks": ""
            },
            "colorscale": [
             [
              0,
              "#0d0887"
             ],
             [
              0.1111111111111111,
              "#46039f"
             ],
             [
              0.2222222222222222,
              "#7201a8"
             ],
             [
              0.3333333333333333,
              "#9c179e"
             ],
             [
              0.4444444444444444,
              "#bd3786"
             ],
             [
              0.5555555555555556,
              "#d8576b"
             ],
             [
              0.6666666666666666,
              "#ed7953"
             ],
             [
              0.7777777777777778,
              "#fb9f3a"
             ],
             [
              0.8888888888888888,
              "#fdca26"
             ],
             [
              1,
              "#f0f921"
             ]
            ],
            "type": "histogram2d"
           }
          ],
          "histogram2dcontour": [
           {
            "colorbar": {
             "outlinewidth": 0,
             "ticks": ""
            },
            "colorscale": [
             [
              0,
              "#0d0887"
             ],
             [
              0.1111111111111111,
              "#46039f"
             ],
             [
              0.2222222222222222,
              "#7201a8"
             ],
             [
              0.3333333333333333,
              "#9c179e"
             ],
             [
              0.4444444444444444,
              "#bd3786"
             ],
             [
              0.5555555555555556,
              "#d8576b"
             ],
             [
              0.6666666666666666,
              "#ed7953"
             ],
             [
              0.7777777777777778,
              "#fb9f3a"
             ],
             [
              0.8888888888888888,
              "#fdca26"
             ],
             [
              1,
              "#f0f921"
             ]
            ],
            "type": "histogram2dcontour"
           }
          ],
          "mesh3d": [
           {
            "colorbar": {
             "outlinewidth": 0,
             "ticks": ""
            },
            "type": "mesh3d"
           }
          ],
          "parcoords": [
           {
            "line": {
             "colorbar": {
              "outlinewidth": 0,
              "ticks": ""
             }
            },
            "type": "parcoords"
           }
          ],
          "pie": [
           {
            "automargin": true,
            "type": "pie"
           }
          ],
          "scatter": [
           {
            "fillpattern": {
             "fillmode": "overlay",
             "size": 10,
             "solidity": 0.2
            },
            "type": "scatter"
           }
          ],
          "scatter3d": [
           {
            "line": {
             "colorbar": {
              "outlinewidth": 0,
              "ticks": ""
             }
            },
            "marker": {
             "colorbar": {
              "outlinewidth": 0,
              "ticks": ""
             }
            },
            "type": "scatter3d"
           }
          ],
          "scattercarpet": [
           {
            "marker": {
             "colorbar": {
              "outlinewidth": 0,
              "ticks": ""
             }
            },
            "type": "scattercarpet"
           }
          ],
          "scattergeo": [
           {
            "marker": {
             "colorbar": {
              "outlinewidth": 0,
              "ticks": ""
             }
            },
            "type": "scattergeo"
           }
          ],
          "scattergl": [
           {
            "marker": {
             "colorbar": {
              "outlinewidth": 0,
              "ticks": ""
             }
            },
            "type": "scattergl"
           }
          ],
          "scattermapbox": [
           {
            "marker": {
             "colorbar": {
              "outlinewidth": 0,
              "ticks": ""
             }
            },
            "type": "scattermapbox"
           }
          ],
          "scatterpolar": [
           {
            "marker": {
             "colorbar": {
              "outlinewidth": 0,
              "ticks": ""
             }
            },
            "type": "scatterpolar"
           }
          ],
          "scatterpolargl": [
           {
            "marker": {
             "colorbar": {
              "outlinewidth": 0,
              "ticks": ""
             }
            },
            "type": "scatterpolargl"
           }
          ],
          "scatterternary": [
           {
            "marker": {
             "colorbar": {
              "outlinewidth": 0,
              "ticks": ""
             }
            },
            "type": "scatterternary"
           }
          ],
          "surface": [
           {
            "colorbar": {
             "outlinewidth": 0,
             "ticks": ""
            },
            "colorscale": [
             [
              0,
              "#0d0887"
             ],
             [
              0.1111111111111111,
              "#46039f"
             ],
             [
              0.2222222222222222,
              "#7201a8"
             ],
             [
              0.3333333333333333,
              "#9c179e"
             ],
             [
              0.4444444444444444,
              "#bd3786"
             ],
             [
              0.5555555555555556,
              "#d8576b"
             ],
             [
              0.6666666666666666,
              "#ed7953"
             ],
             [
              0.7777777777777778,
              "#fb9f3a"
             ],
             [
              0.8888888888888888,
              "#fdca26"
             ],
             [
              1,
              "#f0f921"
             ]
            ],
            "type": "surface"
           }
          ],
          "table": [
           {
            "cells": {
             "fill": {
              "color": "#EBF0F8"
             },
             "line": {
              "color": "white"
             }
            },
            "header": {
             "fill": {
              "color": "#C8D4E3"
             },
             "line": {
              "color": "white"
             }
            },
            "type": "table"
           }
          ]
         },
         "layout": {
          "annotationdefaults": {
           "arrowcolor": "#2a3f5f",
           "arrowhead": 0,
           "arrowwidth": 1
          },
          "autotypenumbers": "strict",
          "coloraxis": {
           "colorbar": {
            "outlinewidth": 0,
            "ticks": ""
           }
          },
          "colorscale": {
           "diverging": [
            [
             0,
             "#8e0152"
            ],
            [
             0.1,
             "#c51b7d"
            ],
            [
             0.2,
             "#de77ae"
            ],
            [
             0.3,
             "#f1b6da"
            ],
            [
             0.4,
             "#fde0ef"
            ],
            [
             0.5,
             "#f7f7f7"
            ],
            [
             0.6,
             "#e6f5d0"
            ],
            [
             0.7,
             "#b8e186"
            ],
            [
             0.8,
             "#7fbc41"
            ],
            [
             0.9,
             "#4d9221"
            ],
            [
             1,
             "#276419"
            ]
           ],
           "sequential": [
            [
             0,
             "#0d0887"
            ],
            [
             0.1111111111111111,
             "#46039f"
            ],
            [
             0.2222222222222222,
             "#7201a8"
            ],
            [
             0.3333333333333333,
             "#9c179e"
            ],
            [
             0.4444444444444444,
             "#bd3786"
            ],
            [
             0.5555555555555556,
             "#d8576b"
            ],
            [
             0.6666666666666666,
             "#ed7953"
            ],
            [
             0.7777777777777778,
             "#fb9f3a"
            ],
            [
             0.8888888888888888,
             "#fdca26"
            ],
            [
             1,
             "#f0f921"
            ]
           ],
           "sequentialminus": [
            [
             0,
             "#0d0887"
            ],
            [
             0.1111111111111111,
             "#46039f"
            ],
            [
             0.2222222222222222,
             "#7201a8"
            ],
            [
             0.3333333333333333,
             "#9c179e"
            ],
            [
             0.4444444444444444,
             "#bd3786"
            ],
            [
             0.5555555555555556,
             "#d8576b"
            ],
            [
             0.6666666666666666,
             "#ed7953"
            ],
            [
             0.7777777777777778,
             "#fb9f3a"
            ],
            [
             0.8888888888888888,
             "#fdca26"
            ],
            [
             1,
             "#f0f921"
            ]
           ]
          },
          "colorway": [
           "#636efa",
           "#EF553B",
           "#00cc96",
           "#ab63fa",
           "#FFA15A",
           "#19d3f3",
           "#FF6692",
           "#B6E880",
           "#FF97FF",
           "#FECB52"
          ],
          "font": {
           "color": "#2a3f5f"
          },
          "geo": {
           "bgcolor": "white",
           "lakecolor": "white",
           "landcolor": "#E5ECF6",
           "showlakes": true,
           "showland": true,
           "subunitcolor": "white"
          },
          "hoverlabel": {
           "align": "left"
          },
          "hovermode": "closest",
          "mapbox": {
           "style": "light"
          },
          "paper_bgcolor": "white",
          "plot_bgcolor": "#E5ECF6",
          "polar": {
           "angularaxis": {
            "gridcolor": "white",
            "linecolor": "white",
            "ticks": ""
           },
           "bgcolor": "#E5ECF6",
           "radialaxis": {
            "gridcolor": "white",
            "linecolor": "white",
            "ticks": ""
           }
          },
          "scene": {
           "xaxis": {
            "backgroundcolor": "#E5ECF6",
            "gridcolor": "white",
            "gridwidth": 2,
            "linecolor": "white",
            "showbackground": true,
            "ticks": "",
            "zerolinecolor": "white"
           },
           "yaxis": {
            "backgroundcolor": "#E5ECF6",
            "gridcolor": "white",
            "gridwidth": 2,
            "linecolor": "white",
            "showbackground": true,
            "ticks": "",
            "zerolinecolor": "white"
           },
           "zaxis": {
            "backgroundcolor": "#E5ECF6",
            "gridcolor": "white",
            "gridwidth": 2,
            "linecolor": "white",
            "showbackground": true,
            "ticks": "",
            "zerolinecolor": "white"
           }
          },
          "shapedefaults": {
           "line": {
            "color": "#2a3f5f"
           }
          },
          "ternary": {
           "aaxis": {
            "gridcolor": "white",
            "linecolor": "white",
            "ticks": ""
           },
           "baxis": {
            "gridcolor": "white",
            "linecolor": "white",
            "ticks": ""
           },
           "bgcolor": "#E5ECF6",
           "caxis": {
            "gridcolor": "white",
            "linecolor": "white",
            "ticks": ""
           }
          },
          "title": {
           "x": 0.05
          },
          "xaxis": {
           "automargin": true,
           "gridcolor": "white",
           "linecolor": "white",
           "ticks": "",
           "title": {
            "standoff": 15
           },
           "zerolinecolor": "white",
           "zerolinewidth": 2
          },
          "yaxis": {
           "automargin": true,
           "gridcolor": "white",
           "linecolor": "white",
           "ticks": "",
           "title": {
            "standoff": 15
           },
           "zerolinecolor": "white",
           "zerolinewidth": 2
          }
         }
        },
        "title": {
         "text": "Popularity scores by index",
         "x": 0.5
        },
        "xaxis": {
         "anchor": "y",
         "domain": [
          0,
          1
         ],
         "title": {
          "text": "Index"
         }
        },
        "yaxis": {
         "anchor": "x",
         "domain": [
          0,
          1
         ],
         "gridcolor": "lightgray",
         "title": {
          "text": "Popularity Score"
         }
        }
       }
      },
      "text/html": [
       "<div>                            <div id=\"bf337151-e945-4ddf-bb11-5b3c3389d2ec\" class=\"plotly-graph-div\" style=\"height:525px; width:100%;\"></div>            <script type=\"text/javascript\">                require([\"plotly\"], function(Plotly) {                    window.PLOTLYENV=window.PLOTLYENV || {};                                    if (document.getElementById(\"bf337151-e945-4ddf-bb11-5b3c3389d2ec\")) {                    Plotly.newPlot(                        \"bf337151-e945-4ddf-bb11-5b3c3389d2ec\",                        [{\"hovertemplate\":\"index=%{x}<br>Popularity score=%{y}<extra></extra>\",\"legendgroup\":\"\",\"line\":{\"color\":\"darkorange\",\"dash\":\"solid\"},\"marker\":{\"symbol\":\"circle\",\"color\":\"darkblue\",\"size\":8},\"mode\":\"lines+markers\",\"name\":\"\",\"orientation\":\"v\",\"showlegend\":false,\"x\":[0,1,2,3,4,5,6,7,8,9,10,11,12,13,14,15,16,17,18,19,20,21,22,23,24,25,26,27,28,29,30,31,32,33,34,35,36,37,38,39,40,41,42,43,44,45,46,47,48,49,50,51,52,53,54,55,56,57,58,59,60,61,62,63,64,65,66,67,68,69,70,71,72,73,74,75,76,77,78,79,80,81,82,83,84,85,86,87,88,89,90,91,92,93,94,95,96,97,98,99,100,101,102,103,104,105,106,107,108,109,110,111,112,113,114,115,116,117,118,119,120,121,122,123,124,125,126,127,128,129,130,131,132,133,134,135,136,137,138,139,140,141,142,143,144,145,146,147,148,149,150,151,152,153,154,155,156,157,158,159,160,161,162,163,164,165,166,167,168,169,170,171,172,173,174,175,176,177,178,179,180,181,182,183,184,185,186,187,188,189,190,191,192,193,194,195,196,197,198,199,200,201,202,203,204,205,206,207,208,209,210,211,212,213,214,215,216,217,218,219,220,221,222,223,224,225,226,227,228,229,230,231,232,233,234,235,236,237,238,239,240,241,242,243,244,245,246,247,248,249,250,251,252,253,254,255,256,257,258,259,260,261,262,263,264,265,266,267,268,269,270,271,272,273,274,275,276,277,278,279,280,281,282,283,284,285,286,287,288,289,290,291,292,293,294,295,296,297,298,299,300,301,302,303,304,305,306,307,308,309,310,311,312,313,314,315,316,317,318,319,320,321,322,323,324,325,326,327,328,329,330,331,332,333,334,335,336,337,338,339,340,341,342,343,344,345,346,347,348,349,350,351,352,353,354,355,356,357,358,359,360,361,362,363,364,365,366,367,368,369,370,371,372,373,374,375,376,377,378,379,380,381,382,383,384,385,386,387,388,389,390,391,392,393,394,395,396,397,398,399,400,401,402,403,404,405,406,407,408,409,410,411,412,413,414,415,416,417,418,419,420,421,422,423,424,425,426,427,428,429,430,431,432,433,434,435,436,437,438,439,440,441,442,443,444,445,446,447,448,449,450,451,452,453,454,455,456,457,458,459,460,461,462,463,464,465,466,467,468,469,470,471,472,473,474,475,476,477,478,479,480,481,482,483,484,485,486,487,488,489,490,491,492,493,494,495,496,497,498,499,500],\"xaxis\":\"x\",\"y\":[3686.5,2722.3,5531.5,948.1,911.8,5343.4,229.0,12563.2,725.0,16221.4,2018.2,1.0,10367.4,41607.8,2223.0,35713.6,1523.4,14715.7,18875.8,147380.5,4809.0,1.0,15502.5,50476.8,20408.2,5023.4,912.4,299921.0,230.6,9399.4,14916.8,1.0,500.2,17708.9,2548.0,22260.6,680.5,15460.6,1310.5,68473.0,381.0,91530.8,27742.0,1025.8,617.5,21445.1,45244.0,1997.8,21260.2,58801.0,5213.3,1198.2,17184.6,9774.9,18244.6,18574.0,5784.7,3415.2,3075.5,28755.1,26569.0,33975.3,2369.0,55476.2,1436.0,12340.6,929.4,36710.2,1467.3,86108.7,324.4,16122.6,53150.5,11696.5,4210.7,26906.5,26092.0,335.4,56633.5,32805.7,2971.0,77876.6,14654.8,6337.0,8354.8,30224.6,36383.3,39597.8,77314.6,9037.0,81505.0,28139.0,28459.0,15554.1,62047.0,24932.4,97129.0,18817.8,1976.6,28762.6,13155.4,10299.5,5540.8,29648.2,29230.2,5171.1,5006.2,3423.8,7384.2,29588.2,685.6,5461.4,12247.7,50699.2,7724.8,10849.9,9144.2,3357.0,4826.4,36670.6,1723.0,12787.4,32500.0,1211.5,13730.5,1396.0,5036.8,4421.0,8136.6,2147.2,22937.9,12113.8,90901.0,14801.0,23521.0,1506.0,35643.7,5387.6,38137.7,13850.8,10458.6,4666.8,47503.0,3659.5,26901.8,2104.2,2774.5,5568.8,86054.5,5725.0,2516.5,21578.4,52878.1,2611.0,1076.5,78913.0,44248.4,16093.0,3521.0,20093.8,5687.7,2033.8,1481.5,41465.9,1862.9,10351.6,30317.0,38108.2,74431.4,49575.7,15731.0,16624.2,28499.8,757.0,23749.9,8664.6,1307.8,3240.0,42536.6,8492.2,13848.4,6659.4,8326.0,32031.7,6508.6,49003.8,8471.0,18523.0,53914.2,469.6,1661.5,52349.5,28149.4,3894.4,1673.7,40665.4,15053.8,15356.2,41629.3,19295.8,9021.0,3736.6,31674.8,4123.0,1.0,29800.0,7463.4,20694.4,10293.1,4103.2,15572.6,825.1,13046.2,32206.5,1403.2,36089.8,12677.5,57199.6,1.0,21103.4,25507.8,21555.4,3637.5,17080.6,478.0,15022.0,22838.3,21023.0,3823.0,4141.7,1381.3,3376.5,20378.0,11749.0,6697.8,6218.8,2873.0,24339.6,308.5,11696.7,4810.0,2989.5,17944.2,7014.3,505.0,1.0,5365.0,6284.2,1555.0,3701.4,14676.9,11238.6,135.4,3358.0,4765.0,28.3,3059.0,17605.2,8457.8,4012.0,3361.0,9356.5,30053.0,3613.0,12720.4,47335.5,1298.8,1.0,4814.2,426.0,1084.0,1690.9,16431.4,2272.4,7873.0,5956.3,11056.3,16969.0,32792.8,1240.0,11344.4,905.5,3634.5,18091.1,4511.7,4593.0,212.2,25786.0,1810.0,862.9,6855.4,1340.6,1424.8,17831.9,271.0,20511.4,55090.0,5091.4,513.0,1284.3,14835.4,484.8,7275.4,332.8,10041.1,1576.0,18912.2,16171.4,972.8,2043.5,2903.6,981.4,14166.5,805.1,11365.9,2628.3,3873.0,23184.6,3547.5,9074.0,3736.0,16364.1,245.0,16347.4,23362.9,11150.2,5122.6,4550.4,1035.0,4677.5,1.0,64727.7,2092.0,7163.7,3261.0,55766.6,1689.7,753.4,3918.3,2768.6,44140.5,61067.2,8787.3,13218.1,37286.6,5671.0,1036.0,7057.1,13170.8,109.0,236.2,3601.0,628.0,28794.6,10227.3,7424.5,13120.6,1013.5,29602.6,628.3,340.7,1.0,5753.5,10359.6,4154.8,134.0,1436.2,17061.0,29299.6,15855.1,92.8,45356.5,13481.0,652.9,12187.0,3028.2,1468.0,20381.0,2516.5,207.7,1364.5,9808.6,4657.9,57905.0,260.0,9313.0,10517.5,2102.5,8145.4,1063.1,2861.0,5044.6,12361.6,5692.0,316.0,914.5,401626.9,5827.1,493.0,18529.7,91.0,929.8,1400.5,2145.0,450.4,6301.0,603.0,2914.3,387601.0,121.0,898.0,93.5,10194.4,21169.9,137.5,1.0,83.0,433.0,3314.2,15029.5,8850.4,23017.0,17592.3,172.0,17300.8,141.6,8257.5,865.3,1225.6,2521.0,1958.2,10993.1,107326.9,2889.0,35485.4,2008.6,8041.8,3854.2,269.8,1624.6,1040.6,1423.7,11862.3,3801.7,10641.0,10303.6,5186.8,568.0,4617.6,5778.2,1033.0,650.3,28689.0,133338.8,12221.0,141.0,15997.0,19145.4,5969.2,647.0,1235.8,93950.8,9319.1,5532.4,287.0,59.5,13302.4,1618.0,6044.8,2647.0,3074.5,914.5,129389.0,163.8,645.0,5732.8,145829.2,1966.1,149.0,7729.0,9177.2,617.2,6057.7,174816.2,14965.6,29309.0,328.6,30707.2,8672.5,29438.2,697.0,6958.7,2239.6,50594.8,5153.0,438.5,3951.7,1574.8,2616.8,230.6,2981.8],\"yaxis\":\"y\",\"type\":\"scatter\"}],                        {\"template\":{\"data\":{\"histogram2dcontour\":[{\"type\":\"histogram2dcontour\",\"colorbar\":{\"outlinewidth\":0,\"ticks\":\"\"},\"colorscale\":[[0.0,\"#0d0887\"],[0.1111111111111111,\"#46039f\"],[0.2222222222222222,\"#7201a8\"],[0.3333333333333333,\"#9c179e\"],[0.4444444444444444,\"#bd3786\"],[0.5555555555555556,\"#d8576b\"],[0.6666666666666666,\"#ed7953\"],[0.7777777777777778,\"#fb9f3a\"],[0.8888888888888888,\"#fdca26\"],[1.0,\"#f0f921\"]]}],\"choropleth\":[{\"type\":\"choropleth\",\"colorbar\":{\"outlinewidth\":0,\"ticks\":\"\"}}],\"histogram2d\":[{\"type\":\"histogram2d\",\"colorbar\":{\"outlinewidth\":0,\"ticks\":\"\"},\"colorscale\":[[0.0,\"#0d0887\"],[0.1111111111111111,\"#46039f\"],[0.2222222222222222,\"#7201a8\"],[0.3333333333333333,\"#9c179e\"],[0.4444444444444444,\"#bd3786\"],[0.5555555555555556,\"#d8576b\"],[0.6666666666666666,\"#ed7953\"],[0.7777777777777778,\"#fb9f3a\"],[0.8888888888888888,\"#fdca26\"],[1.0,\"#f0f921\"]]}],\"heatmap\":[{\"type\":\"heatmap\",\"colorbar\":{\"outlinewidth\":0,\"ticks\":\"\"},\"colorscale\":[[0.0,\"#0d0887\"],[0.1111111111111111,\"#46039f\"],[0.2222222222222222,\"#7201a8\"],[0.3333333333333333,\"#9c179e\"],[0.4444444444444444,\"#bd3786\"],[0.5555555555555556,\"#d8576b\"],[0.6666666666666666,\"#ed7953\"],[0.7777777777777778,\"#fb9f3a\"],[0.8888888888888888,\"#fdca26\"],[1.0,\"#f0f921\"]]}],\"heatmapgl\":[{\"type\":\"heatmapgl\",\"colorbar\":{\"outlinewidth\":0,\"ticks\":\"\"},\"colorscale\":[[0.0,\"#0d0887\"],[0.1111111111111111,\"#46039f\"],[0.2222222222222222,\"#7201a8\"],[0.3333333333333333,\"#9c179e\"],[0.4444444444444444,\"#bd3786\"],[0.5555555555555556,\"#d8576b\"],[0.6666666666666666,\"#ed7953\"],[0.7777777777777778,\"#fb9f3a\"],[0.8888888888888888,\"#fdca26\"],[1.0,\"#f0f921\"]]}],\"contourcarpet\":[{\"type\":\"contourcarpet\",\"colorbar\":{\"outlinewidth\":0,\"ticks\":\"\"}}],\"contour\":[{\"type\":\"contour\",\"colorbar\":{\"outlinewidth\":0,\"ticks\":\"\"},\"colorscale\":[[0.0,\"#0d0887\"],[0.1111111111111111,\"#46039f\"],[0.2222222222222222,\"#7201a8\"],[0.3333333333333333,\"#9c179e\"],[0.4444444444444444,\"#bd3786\"],[0.5555555555555556,\"#d8576b\"],[0.6666666666666666,\"#ed7953\"],[0.7777777777777778,\"#fb9f3a\"],[0.8888888888888888,\"#fdca26\"],[1.0,\"#f0f921\"]]}],\"surface\":[{\"type\":\"surface\",\"colorbar\":{\"outlinewidth\":0,\"ticks\":\"\"},\"colorscale\":[[0.0,\"#0d0887\"],[0.1111111111111111,\"#46039f\"],[0.2222222222222222,\"#7201a8\"],[0.3333333333333333,\"#9c179e\"],[0.4444444444444444,\"#bd3786\"],[0.5555555555555556,\"#d8576b\"],[0.6666666666666666,\"#ed7953\"],[0.7777777777777778,\"#fb9f3a\"],[0.8888888888888888,\"#fdca26\"],[1.0,\"#f0f921\"]]}],\"mesh3d\":[{\"type\":\"mesh3d\",\"colorbar\":{\"outlinewidth\":0,\"ticks\":\"\"}}],\"scatter\":[{\"fillpattern\":{\"fillmode\":\"overlay\",\"size\":10,\"solidity\":0.2},\"type\":\"scatter\"}],\"parcoords\":[{\"type\":\"parcoords\",\"line\":{\"colorbar\":{\"outlinewidth\":0,\"ticks\":\"\"}}}],\"scatterpolargl\":[{\"type\":\"scatterpolargl\",\"marker\":{\"colorbar\":{\"outlinewidth\":0,\"ticks\":\"\"}}}],\"bar\":[{\"error_x\":{\"color\":\"#2a3f5f\"},\"error_y\":{\"color\":\"#2a3f5f\"},\"marker\":{\"line\":{\"color\":\"#E5ECF6\",\"width\":0.5},\"pattern\":{\"fillmode\":\"overlay\",\"size\":10,\"solidity\":0.2}},\"type\":\"bar\"}],\"scattergeo\":[{\"type\":\"scattergeo\",\"marker\":{\"colorbar\":{\"outlinewidth\":0,\"ticks\":\"\"}}}],\"scatterpolar\":[{\"type\":\"scatterpolar\",\"marker\":{\"colorbar\":{\"outlinewidth\":0,\"ticks\":\"\"}}}],\"histogram\":[{\"marker\":{\"pattern\":{\"fillmode\":\"overlay\",\"size\":10,\"solidity\":0.2}},\"type\":\"histogram\"}],\"scattergl\":[{\"type\":\"scattergl\",\"marker\":{\"colorbar\":{\"outlinewidth\":0,\"ticks\":\"\"}}}],\"scatter3d\":[{\"type\":\"scatter3d\",\"line\":{\"colorbar\":{\"outlinewidth\":0,\"ticks\":\"\"}},\"marker\":{\"colorbar\":{\"outlinewidth\":0,\"ticks\":\"\"}}}],\"scattermapbox\":[{\"type\":\"scattermapbox\",\"marker\":{\"colorbar\":{\"outlinewidth\":0,\"ticks\":\"\"}}}],\"scatterternary\":[{\"type\":\"scatterternary\",\"marker\":{\"colorbar\":{\"outlinewidth\":0,\"ticks\":\"\"}}}],\"scattercarpet\":[{\"type\":\"scattercarpet\",\"marker\":{\"colorbar\":{\"outlinewidth\":0,\"ticks\":\"\"}}}],\"carpet\":[{\"aaxis\":{\"endlinecolor\":\"#2a3f5f\",\"gridcolor\":\"white\",\"linecolor\":\"white\",\"minorgridcolor\":\"white\",\"startlinecolor\":\"#2a3f5f\"},\"baxis\":{\"endlinecolor\":\"#2a3f5f\",\"gridcolor\":\"white\",\"linecolor\":\"white\",\"minorgridcolor\":\"white\",\"startlinecolor\":\"#2a3f5f\"},\"type\":\"carpet\"}],\"table\":[{\"cells\":{\"fill\":{\"color\":\"#EBF0F8\"},\"line\":{\"color\":\"white\"}},\"header\":{\"fill\":{\"color\":\"#C8D4E3\"},\"line\":{\"color\":\"white\"}},\"type\":\"table\"}],\"barpolar\":[{\"marker\":{\"line\":{\"color\":\"#E5ECF6\",\"width\":0.5},\"pattern\":{\"fillmode\":\"overlay\",\"size\":10,\"solidity\":0.2}},\"type\":\"barpolar\"}],\"pie\":[{\"automargin\":true,\"type\":\"pie\"}]},\"layout\":{\"autotypenumbers\":\"strict\",\"colorway\":[\"#636efa\",\"#EF553B\",\"#00cc96\",\"#ab63fa\",\"#FFA15A\",\"#19d3f3\",\"#FF6692\",\"#B6E880\",\"#FF97FF\",\"#FECB52\"],\"font\":{\"color\":\"#2a3f5f\"},\"hovermode\":\"closest\",\"hoverlabel\":{\"align\":\"left\"},\"paper_bgcolor\":\"white\",\"plot_bgcolor\":\"#E5ECF6\",\"polar\":{\"bgcolor\":\"#E5ECF6\",\"angularaxis\":{\"gridcolor\":\"white\",\"linecolor\":\"white\",\"ticks\":\"\"},\"radialaxis\":{\"gridcolor\":\"white\",\"linecolor\":\"white\",\"ticks\":\"\"}},\"ternary\":{\"bgcolor\":\"#E5ECF6\",\"aaxis\":{\"gridcolor\":\"white\",\"linecolor\":\"white\",\"ticks\":\"\"},\"baxis\":{\"gridcolor\":\"white\",\"linecolor\":\"white\",\"ticks\":\"\"},\"caxis\":{\"gridcolor\":\"white\",\"linecolor\":\"white\",\"ticks\":\"\"}},\"coloraxis\":{\"colorbar\":{\"outlinewidth\":0,\"ticks\":\"\"}},\"colorscale\":{\"sequential\":[[0.0,\"#0d0887\"],[0.1111111111111111,\"#46039f\"],[0.2222222222222222,\"#7201a8\"],[0.3333333333333333,\"#9c179e\"],[0.4444444444444444,\"#bd3786\"],[0.5555555555555556,\"#d8576b\"],[0.6666666666666666,\"#ed7953\"],[0.7777777777777778,\"#fb9f3a\"],[0.8888888888888888,\"#fdca26\"],[1.0,\"#f0f921\"]],\"sequentialminus\":[[0.0,\"#0d0887\"],[0.1111111111111111,\"#46039f\"],[0.2222222222222222,\"#7201a8\"],[0.3333333333333333,\"#9c179e\"],[0.4444444444444444,\"#bd3786\"],[0.5555555555555556,\"#d8576b\"],[0.6666666666666666,\"#ed7953\"],[0.7777777777777778,\"#fb9f3a\"],[0.8888888888888888,\"#fdca26\"],[1.0,\"#f0f921\"]],\"diverging\":[[0,\"#8e0152\"],[0.1,\"#c51b7d\"],[0.2,\"#de77ae\"],[0.3,\"#f1b6da\"],[0.4,\"#fde0ef\"],[0.5,\"#f7f7f7\"],[0.6,\"#e6f5d0\"],[0.7,\"#b8e186\"],[0.8,\"#7fbc41\"],[0.9,\"#4d9221\"],[1,\"#276419\"]]},\"xaxis\":{\"gridcolor\":\"white\",\"linecolor\":\"white\",\"ticks\":\"\",\"title\":{\"standoff\":15},\"zerolinecolor\":\"white\",\"automargin\":true,\"zerolinewidth\":2},\"yaxis\":{\"gridcolor\":\"white\",\"linecolor\":\"white\",\"ticks\":\"\",\"title\":{\"standoff\":15},\"zerolinecolor\":\"white\",\"automargin\":true,\"zerolinewidth\":2},\"scene\":{\"xaxis\":{\"backgroundcolor\":\"#E5ECF6\",\"gridcolor\":\"white\",\"linecolor\":\"white\",\"showbackground\":true,\"ticks\":\"\",\"zerolinecolor\":\"white\",\"gridwidth\":2},\"yaxis\":{\"backgroundcolor\":\"#E5ECF6\",\"gridcolor\":\"white\",\"linecolor\":\"white\",\"showbackground\":true,\"ticks\":\"\",\"zerolinecolor\":\"white\",\"gridwidth\":2},\"zaxis\":{\"backgroundcolor\":\"#E5ECF6\",\"gridcolor\":\"white\",\"linecolor\":\"white\",\"showbackground\":true,\"ticks\":\"\",\"zerolinecolor\":\"white\",\"gridwidth\":2}},\"shapedefaults\":{\"line\":{\"color\":\"#2a3f5f\"}},\"annotationdefaults\":{\"arrowcolor\":\"#2a3f5f\",\"arrowhead\":0,\"arrowwidth\":1},\"geo\":{\"bgcolor\":\"white\",\"landcolor\":\"#E5ECF6\",\"subunitcolor\":\"white\",\"showland\":true,\"showlakes\":true,\"lakecolor\":\"white\"},\"title\":{\"x\":0.05},\"mapbox\":{\"style\":\"light\"}}},\"xaxis\":{\"anchor\":\"y\",\"domain\":[0.0,1.0],\"title\":{\"text\":\"Index\"}},\"yaxis\":{\"anchor\":\"x\",\"domain\":[0.0,1.0],\"title\":{\"text\":\"Popularity Score\"},\"gridcolor\":\"lightgray\"},\"legend\":{\"tracegroupgap\":0},\"title\":{\"text\":\"Popularity scores by index\",\"x\":0.5},\"plot_bgcolor\":\"lightblue\",\"paper_bgcolor\":\"white\"},                        {\"responsive\": true}                    ).then(function(){\n",
       "                            \n",
       "var gd = document.getElementById('bf337151-e945-4ddf-bb11-5b3c3389d2ec');\n",
       "var x = new MutationObserver(function (mutations, observer) {{\n",
       "        var display = window.getComputedStyle(gd).display;\n",
       "        if (!display || display === 'none') {{\n",
       "            console.log([gd, 'removed!']);\n",
       "            Plotly.purge(gd);\n",
       "            observer.disconnect();\n",
       "        }}\n",
       "}});\n",
       "\n",
       "// Listen for the removal of the full notebook cells\n",
       "var notebookContainer = gd.closest('#notebook-container');\n",
       "if (notebookContainer) {{\n",
       "    x.observe(notebookContainer, {childList: true});\n",
       "}}\n",
       "\n",
       "// Listen for the clearing of the current output cell\n",
       "var outputEl = gd.closest('.output');\n",
       "if (outputEl) {{\n",
       "    x.observe(outputEl, {childList: true});\n",
       "}}\n",
       "\n",
       "                        })                };                });            </script>        </div>"
      ]
     },
     "metadata": {},
     "output_type": "display_data"
    }
   ],
   "source": [
    "fig = px.line(df, x= df.index, y='Popularity score', \n",
    "              title='Popularity scores by index')\n",
    "fig.update_traces(line_color='darkorange', marker=dict(color='darkblue', size=8,), \n",
    "                  mode='lines+markers')  \n",
    "\n",
    "fig.update_layout(title_x=0.5, xaxis_title='Index', \n",
    "                  yaxis_title='Popularity Score', \n",
    "                  yaxis=dict(gridcolor='lightgray'), \n",
    "                  plot_bgcolor='lightblue',  \n",
    "                  paper_bgcolor='white')\n",
    "fig.show()"
   ]
  },
  {
   "cell_type": "code",
   "execution_count": 75,
   "id": "01144475",
   "metadata": {},
   "outputs": [
    {
     "data": {
      "application/vnd.plotly.v1+json": {
       "config": {
        "plotlyServerURL": "https://plot.ly"
       },
       "data": [
        {
         "domain": {
          "x": [
           0,
           1
          ],
          "y": [
           0,
           1
          ]
         },
         "hovertemplate": "Rating Category=%{label}<extra></extra>",
         "labels": [
          "Excellent",
          "Excellent",
          "Excellent",
          "Good",
          "Good",
          "Good",
          "Good",
          "Good",
          "Good",
          "Good",
          "Good",
          "Below Average",
          "Good",
          "Good",
          "Good",
          "Good",
          "Good",
          "Average",
          "Good",
          "Excellent",
          "Good",
          "Below Average",
          "Good",
          "Excellent",
          "Good",
          "Good",
          "Good",
          "Excellent",
          "Good",
          "Good",
          "Good",
          "Below Average",
          "Average",
          "Good",
          "Excellent",
          "Good",
          "Excellent",
          "Average",
          "Excellent",
          "Excellent",
          "Good",
          "Good",
          "Good",
          "Good",
          "Excellent",
          "Good",
          "Excellent",
          "Average",
          "Good",
          "Good",
          "Excellent",
          "Good",
          "Average",
          "Good",
          "Excellent",
          "Good",
          "Average",
          "Good",
          "Good",
          "Good",
          "Good",
          "Good",
          "Good",
          "Good",
          "Good",
          "Good",
          "Good",
          "Good",
          "Good",
          "Excellent",
          "Good",
          "Good",
          "Excellent",
          "Excellent",
          "Good",
          "Excellent",
          "Excellent",
          "Good",
          "Excellent",
          "Good",
          "Excellent",
          "Good",
          "Good",
          "Good",
          "Good",
          "Good",
          "Good",
          "Excellent",
          "Good",
          "Excellent",
          "Excellent",
          "Good",
          "Excellent",
          "Good",
          "Excellent",
          "Good",
          "Excellent",
          "Good",
          "Good",
          "Good",
          "Good",
          "Good",
          "Good",
          "Good",
          "Good",
          "Good",
          "Good",
          "Good",
          "Good",
          "Excellent",
          "Good",
          "Good",
          "Good",
          "Good",
          "Good",
          "Good",
          "Good",
          "Good",
          "Excellent",
          "Good",
          "Good",
          "Good",
          "Excellent",
          "Excellent",
          "Excellent",
          "Excellent",
          "Good",
          "Good",
          "Good",
          "Good",
          "Excellent",
          "Good",
          "Excellent",
          "Good",
          "Good",
          "Good",
          "Good",
          "Excellent",
          "Good",
          "Good",
          "Good",
          "Good",
          "Good",
          "Excellent",
          "Good",
          "Good",
          "Good",
          "Good",
          "Excellent",
          "Excellent",
          "Good",
          "Good",
          "Good",
          "Excellent",
          "Excellent",
          "Excellent",
          "Excellent",
          "Good",
          "Good",
          "Good",
          "Good",
          "Good",
          "Excellent",
          "Good",
          "Good",
          "Average",
          "Good",
          "Excellent",
          "Good",
          "Good",
          "Good",
          "Good",
          "Good",
          "Excellent",
          "Good",
          "Good",
          "Good",
          "Good",
          "Good",
          "Excellent",
          "Good",
          "Good",
          "Excellent",
          "Good",
          "Good",
          "Good",
          "Good",
          "Good",
          "Good",
          "Average",
          "Excellent",
          "Excellent",
          "Good",
          "Good",
          "Good",
          "Excellent",
          "Good",
          "Good",
          "Good",
          "Good",
          "Good",
          "Good",
          "Good",
          "Excellent",
          "Below Average",
          "Good",
          "Good",
          "Average",
          "Average",
          "Good",
          "Good",
          "Good",
          "Good",
          "Good",
          "Average",
          "Good",
          "Excellent",
          "Good",
          "Below Average",
          "Good",
          "Good",
          "Good",
          "Average",
          "Good",
          "Excellent",
          "Excellent",
          "Good",
          "Excellent",
          "Good",
          "Excellent",
          "Good",
          "Good",
          "Good",
          "Good",
          "Good",
          "Good",
          "Good",
          "Excellent",
          "Good",
          "Average",
          "Good",
          "Good",
          "Good",
          "Good",
          "Good",
          "Below Average",
          "Excellent",
          "Good",
          "Average",
          "Good",
          "Good",
          "Good",
          "Good",
          "Excellent",
          "Good",
          "Average",
          "Good",
          "Good",
          "Good",
          "Good",
          "Good",
          "Excellent",
          "Good",
          "Good",
          "Good",
          "Good",
          "Good",
          "Below Average",
          "Good",
          "Average",
          "Average",
          "Good",
          "Good",
          "Good",
          "Good",
          "Average",
          "Good",
          "Good",
          "Good",
          "Good",
          "Good",
          "Excellent",
          "Good",
          "Good",
          "Good",
          "Good",
          "Good",
          "Excellent",
          "Excellent",
          "Average",
          "Good",
          "Average",
          "Good",
          "Good",
          "Average",
          "Excellent",
          "Excellent",
          "Good",
          "Good",
          "Good",
          "Good",
          "Good",
          "Good",
          "Good",
          "Excellent",
          "Good",
          "Good",
          "Good",
          "Good",
          "Good",
          "Excellent",
          "Good",
          "Good",
          "Good",
          "Good",
          "Good",
          "Good",
          "Good",
          "Good",
          "Good",
          "Excellent",
          "Good",
          "Good",
          "Good",
          "Good",
          "Average",
          "Good",
          "Excellent",
          "Good",
          "Excellent",
          "Below Average",
          "Good",
          "Good",
          "Good",
          "Good",
          "Good",
          "Average",
          "Good",
          "Good",
          "Good",
          "Good",
          "Average",
          "Good",
          "Average",
          "Average",
          "Average",
          "Excellent",
          "Good",
          "Excellent",
          "Good",
          "Good",
          "Good",
          "Average",
          "Good",
          "Excellent",
          "Average",
          "Average",
          "Excellent",
          "Good",
          "Good",
          "Good",
          "Below Average",
          "Average",
          "Excellent",
          "Good",
          "Average",
          "Excellent",
          "Good",
          "Good",
          "Good",
          "Average",
          "Excellent",
          "Good",
          "Good",
          "Excellent",
          "Good",
          "Excellent",
          "Good",
          "Average",
          "Average",
          "Excellent",
          "Good",
          "Good",
          "Good",
          "Average",
          "Excellent",
          "Good",
          "Excellent",
          "Good",
          "Good",
          "Good",
          "Average",
          "Good",
          "Good",
          "Good",
          "Excellent",
          "Average",
          "Good",
          "Good",
          "Good",
          "Average",
          "Good",
          "Excellent",
          "Good",
          "Good",
          "Good",
          "Average",
          "Average",
          "Average",
          "Good",
          "Average",
          "Average",
          "Good",
          "Good",
          "Average",
          "Below Average",
          "Good",
          "Average",
          "Good",
          "Good",
          "Good",
          "Good",
          "Good",
          "Average",
          "Good",
          "Average",
          "Average",
          "Good",
          "Average",
          "Excellent",
          "Good",
          "Good",
          "Average",
          "Average",
          "Average",
          "Good",
          "Average",
          "Average",
          "Good",
          "Good",
          "Excellent",
          "Good",
          "Good",
          "Good",
          "Good",
          "Good",
          "Good",
          "Good",
          "Good",
          "Good",
          "Good",
          "Good",
          "Good",
          "Average",
          "Good",
          "Good",
          "Good",
          "Good",
          "Excellent",
          "Average",
          "Good",
          "Good",
          "Good",
          "Good",
          "Good",
          "Average",
          "Good",
          "Good",
          "Good",
          "Good",
          "Excellent",
          "Excellent",
          "Good",
          "Good",
          "Good",
          "Good",
          "Good",
          "Good",
          "Good",
          "Good",
          "Good",
          "Average",
          "Average",
          "Average",
          "Good",
          "Good",
          "Good",
          "Good",
          "Good",
          "Average",
          "Good",
          "Good",
          "Good",
          "Good",
          "Good",
          "Average",
          "Average",
          "Good",
          "Good",
          "Good",
          "Excellent"
         ],
         "legendgroup": "",
         "name": "",
         "showlegend": true,
         "type": "pie"
        }
       ],
       "layout": {
        "legend": {
         "tracegroupgap": 0
        },
        "template": {
         "data": {
          "bar": [
           {
            "error_x": {
             "color": "#2a3f5f"
            },
            "error_y": {
             "color": "#2a3f5f"
            },
            "marker": {
             "line": {
              "color": "#E5ECF6",
              "width": 0.5
             },
             "pattern": {
              "fillmode": "overlay",
              "size": 10,
              "solidity": 0.2
             }
            },
            "type": "bar"
           }
          ],
          "barpolar": [
           {
            "marker": {
             "line": {
              "color": "#E5ECF6",
              "width": 0.5
             },
             "pattern": {
              "fillmode": "overlay",
              "size": 10,
              "solidity": 0.2
             }
            },
            "type": "barpolar"
           }
          ],
          "carpet": [
           {
            "aaxis": {
             "endlinecolor": "#2a3f5f",
             "gridcolor": "white",
             "linecolor": "white",
             "minorgridcolor": "white",
             "startlinecolor": "#2a3f5f"
            },
            "baxis": {
             "endlinecolor": "#2a3f5f",
             "gridcolor": "white",
             "linecolor": "white",
             "minorgridcolor": "white",
             "startlinecolor": "#2a3f5f"
            },
            "type": "carpet"
           }
          ],
          "choropleth": [
           {
            "colorbar": {
             "outlinewidth": 0,
             "ticks": ""
            },
            "type": "choropleth"
           }
          ],
          "contour": [
           {
            "colorbar": {
             "outlinewidth": 0,
             "ticks": ""
            },
            "colorscale": [
             [
              0,
              "#0d0887"
             ],
             [
              0.1111111111111111,
              "#46039f"
             ],
             [
              0.2222222222222222,
              "#7201a8"
             ],
             [
              0.3333333333333333,
              "#9c179e"
             ],
             [
              0.4444444444444444,
              "#bd3786"
             ],
             [
              0.5555555555555556,
              "#d8576b"
             ],
             [
              0.6666666666666666,
              "#ed7953"
             ],
             [
              0.7777777777777778,
              "#fb9f3a"
             ],
             [
              0.8888888888888888,
              "#fdca26"
             ],
             [
              1,
              "#f0f921"
             ]
            ],
            "type": "contour"
           }
          ],
          "contourcarpet": [
           {
            "colorbar": {
             "outlinewidth": 0,
             "ticks": ""
            },
            "type": "contourcarpet"
           }
          ],
          "heatmap": [
           {
            "colorbar": {
             "outlinewidth": 0,
             "ticks": ""
            },
            "colorscale": [
             [
              0,
              "#0d0887"
             ],
             [
              0.1111111111111111,
              "#46039f"
             ],
             [
              0.2222222222222222,
              "#7201a8"
             ],
             [
              0.3333333333333333,
              "#9c179e"
             ],
             [
              0.4444444444444444,
              "#bd3786"
             ],
             [
              0.5555555555555556,
              "#d8576b"
             ],
             [
              0.6666666666666666,
              "#ed7953"
             ],
             [
              0.7777777777777778,
              "#fb9f3a"
             ],
             [
              0.8888888888888888,
              "#fdca26"
             ],
             [
              1,
              "#f0f921"
             ]
            ],
            "type": "heatmap"
           }
          ],
          "heatmapgl": [
           {
            "colorbar": {
             "outlinewidth": 0,
             "ticks": ""
            },
            "colorscale": [
             [
              0,
              "#0d0887"
             ],
             [
              0.1111111111111111,
              "#46039f"
             ],
             [
              0.2222222222222222,
              "#7201a8"
             ],
             [
              0.3333333333333333,
              "#9c179e"
             ],
             [
              0.4444444444444444,
              "#bd3786"
             ],
             [
              0.5555555555555556,
              "#d8576b"
             ],
             [
              0.6666666666666666,
              "#ed7953"
             ],
             [
              0.7777777777777778,
              "#fb9f3a"
             ],
             [
              0.8888888888888888,
              "#fdca26"
             ],
             [
              1,
              "#f0f921"
             ]
            ],
            "type": "heatmapgl"
           }
          ],
          "histogram": [
           {
            "marker": {
             "pattern": {
              "fillmode": "overlay",
              "size": 10,
              "solidity": 0.2
             }
            },
            "type": "histogram"
           }
          ],
          "histogram2d": [
           {
            "colorbar": {
             "outlinewidth": 0,
             "ticks": ""
            },
            "colorscale": [
             [
              0,
              "#0d0887"
             ],
             [
              0.1111111111111111,
              "#46039f"
             ],
             [
              0.2222222222222222,
              "#7201a8"
             ],
             [
              0.3333333333333333,
              "#9c179e"
             ],
             [
              0.4444444444444444,
              "#bd3786"
             ],
             [
              0.5555555555555556,
              "#d8576b"
             ],
             [
              0.6666666666666666,
              "#ed7953"
             ],
             [
              0.7777777777777778,
              "#fb9f3a"
             ],
             [
              0.8888888888888888,
              "#fdca26"
             ],
             [
              1,
              "#f0f921"
             ]
            ],
            "type": "histogram2d"
           }
          ],
          "histogram2dcontour": [
           {
            "colorbar": {
             "outlinewidth": 0,
             "ticks": ""
            },
            "colorscale": [
             [
              0,
              "#0d0887"
             ],
             [
              0.1111111111111111,
              "#46039f"
             ],
             [
              0.2222222222222222,
              "#7201a8"
             ],
             [
              0.3333333333333333,
              "#9c179e"
             ],
             [
              0.4444444444444444,
              "#bd3786"
             ],
             [
              0.5555555555555556,
              "#d8576b"
             ],
             [
              0.6666666666666666,
              "#ed7953"
             ],
             [
              0.7777777777777778,
              "#fb9f3a"
             ],
             [
              0.8888888888888888,
              "#fdca26"
             ],
             [
              1,
              "#f0f921"
             ]
            ],
            "type": "histogram2dcontour"
           }
          ],
          "mesh3d": [
           {
            "colorbar": {
             "outlinewidth": 0,
             "ticks": ""
            },
            "type": "mesh3d"
           }
          ],
          "parcoords": [
           {
            "line": {
             "colorbar": {
              "outlinewidth": 0,
              "ticks": ""
             }
            },
            "type": "parcoords"
           }
          ],
          "pie": [
           {
            "automargin": true,
            "type": "pie"
           }
          ],
          "scatter": [
           {
            "fillpattern": {
             "fillmode": "overlay",
             "size": 10,
             "solidity": 0.2
            },
            "type": "scatter"
           }
          ],
          "scatter3d": [
           {
            "line": {
             "colorbar": {
              "outlinewidth": 0,
              "ticks": ""
             }
            },
            "marker": {
             "colorbar": {
              "outlinewidth": 0,
              "ticks": ""
             }
            },
            "type": "scatter3d"
           }
          ],
          "scattercarpet": [
           {
            "marker": {
             "colorbar": {
              "outlinewidth": 0,
              "ticks": ""
             }
            },
            "type": "scattercarpet"
           }
          ],
          "scattergeo": [
           {
            "marker": {
             "colorbar": {
              "outlinewidth": 0,
              "ticks": ""
             }
            },
            "type": "scattergeo"
           }
          ],
          "scattergl": [
           {
            "marker": {
             "colorbar": {
              "outlinewidth": 0,
              "ticks": ""
             }
            },
            "type": "scattergl"
           }
          ],
          "scattermapbox": [
           {
            "marker": {
             "colorbar": {
              "outlinewidth": 0,
              "ticks": ""
             }
            },
            "type": "scattermapbox"
           }
          ],
          "scatterpolar": [
           {
            "marker": {
             "colorbar": {
              "outlinewidth": 0,
              "ticks": ""
             }
            },
            "type": "scatterpolar"
           }
          ],
          "scatterpolargl": [
           {
            "marker": {
             "colorbar": {
              "outlinewidth": 0,
              "ticks": ""
             }
            },
            "type": "scatterpolargl"
           }
          ],
          "scatterternary": [
           {
            "marker": {
             "colorbar": {
              "outlinewidth": 0,
              "ticks": ""
             }
            },
            "type": "scatterternary"
           }
          ],
          "surface": [
           {
            "colorbar": {
             "outlinewidth": 0,
             "ticks": ""
            },
            "colorscale": [
             [
              0,
              "#0d0887"
             ],
             [
              0.1111111111111111,
              "#46039f"
             ],
             [
              0.2222222222222222,
              "#7201a8"
             ],
             [
              0.3333333333333333,
              "#9c179e"
             ],
             [
              0.4444444444444444,
              "#bd3786"
             ],
             [
              0.5555555555555556,
              "#d8576b"
             ],
             [
              0.6666666666666666,
              "#ed7953"
             ],
             [
              0.7777777777777778,
              "#fb9f3a"
             ],
             [
              0.8888888888888888,
              "#fdca26"
             ],
             [
              1,
              "#f0f921"
             ]
            ],
            "type": "surface"
           }
          ],
          "table": [
           {
            "cells": {
             "fill": {
              "color": "#EBF0F8"
             },
             "line": {
              "color": "white"
             }
            },
            "header": {
             "fill": {
              "color": "#C8D4E3"
             },
             "line": {
              "color": "white"
             }
            },
            "type": "table"
           }
          ]
         },
         "layout": {
          "annotationdefaults": {
           "arrowcolor": "#2a3f5f",
           "arrowhead": 0,
           "arrowwidth": 1
          },
          "autotypenumbers": "strict",
          "coloraxis": {
           "colorbar": {
            "outlinewidth": 0,
            "ticks": ""
           }
          },
          "colorscale": {
           "diverging": [
            [
             0,
             "#8e0152"
            ],
            [
             0.1,
             "#c51b7d"
            ],
            [
             0.2,
             "#de77ae"
            ],
            [
             0.3,
             "#f1b6da"
            ],
            [
             0.4,
             "#fde0ef"
            ],
            [
             0.5,
             "#f7f7f7"
            ],
            [
             0.6,
             "#e6f5d0"
            ],
            [
             0.7,
             "#b8e186"
            ],
            [
             0.8,
             "#7fbc41"
            ],
            [
             0.9,
             "#4d9221"
            ],
            [
             1,
             "#276419"
            ]
           ],
           "sequential": [
            [
             0,
             "#0d0887"
            ],
            [
             0.1111111111111111,
             "#46039f"
            ],
            [
             0.2222222222222222,
             "#7201a8"
            ],
            [
             0.3333333333333333,
             "#9c179e"
            ],
            [
             0.4444444444444444,
             "#bd3786"
            ],
            [
             0.5555555555555556,
             "#d8576b"
            ],
            [
             0.6666666666666666,
             "#ed7953"
            ],
            [
             0.7777777777777778,
             "#fb9f3a"
            ],
            [
             0.8888888888888888,
             "#fdca26"
            ],
            [
             1,
             "#f0f921"
            ]
           ],
           "sequentialminus": [
            [
             0,
             "#0d0887"
            ],
            [
             0.1111111111111111,
             "#46039f"
            ],
            [
             0.2222222222222222,
             "#7201a8"
            ],
            [
             0.3333333333333333,
             "#9c179e"
            ],
            [
             0.4444444444444444,
             "#bd3786"
            ],
            [
             0.5555555555555556,
             "#d8576b"
            ],
            [
             0.6666666666666666,
             "#ed7953"
            ],
            [
             0.7777777777777778,
             "#fb9f3a"
            ],
            [
             0.8888888888888888,
             "#fdca26"
            ],
            [
             1,
             "#f0f921"
            ]
           ]
          },
          "colorway": [
           "#636efa",
           "#EF553B",
           "#00cc96",
           "#ab63fa",
           "#FFA15A",
           "#19d3f3",
           "#FF6692",
           "#B6E880",
           "#FF97FF",
           "#FECB52"
          ],
          "font": {
           "color": "#2a3f5f"
          },
          "geo": {
           "bgcolor": "white",
           "lakecolor": "white",
           "landcolor": "#E5ECF6",
           "showlakes": true,
           "showland": true,
           "subunitcolor": "white"
          },
          "hoverlabel": {
           "align": "left"
          },
          "hovermode": "closest",
          "mapbox": {
           "style": "light"
          },
          "paper_bgcolor": "white",
          "plot_bgcolor": "#E5ECF6",
          "polar": {
           "angularaxis": {
            "gridcolor": "white",
            "linecolor": "white",
            "ticks": ""
           },
           "bgcolor": "#E5ECF6",
           "radialaxis": {
            "gridcolor": "white",
            "linecolor": "white",
            "ticks": ""
           }
          },
          "scene": {
           "xaxis": {
            "backgroundcolor": "#E5ECF6",
            "gridcolor": "white",
            "gridwidth": 2,
            "linecolor": "white",
            "showbackground": true,
            "ticks": "",
            "zerolinecolor": "white"
           },
           "yaxis": {
            "backgroundcolor": "#E5ECF6",
            "gridcolor": "white",
            "gridwidth": 2,
            "linecolor": "white",
            "showbackground": true,
            "ticks": "",
            "zerolinecolor": "white"
           },
           "zaxis": {
            "backgroundcolor": "#E5ECF6",
            "gridcolor": "white",
            "gridwidth": 2,
            "linecolor": "white",
            "showbackground": true,
            "ticks": "",
            "zerolinecolor": "white"
           }
          },
          "shapedefaults": {
           "line": {
            "color": "#2a3f5f"
           }
          },
          "ternary": {
           "aaxis": {
            "gridcolor": "white",
            "linecolor": "white",
            "ticks": ""
           },
           "baxis": {
            "gridcolor": "white",
            "linecolor": "white",
            "ticks": ""
           },
           "bgcolor": "#E5ECF6",
           "caxis": {
            "gridcolor": "white",
            "linecolor": "white",
            "ticks": ""
           }
          },
          "title": {
           "x": 0.05
          },
          "xaxis": {
           "automargin": true,
           "gridcolor": "white",
           "linecolor": "white",
           "ticks": "",
           "title": {
            "standoff": 15
           },
           "zerolinecolor": "white",
           "zerolinewidth": 2
          },
          "yaxis": {
           "automargin": true,
           "gridcolor": "white",
           "linecolor": "white",
           "ticks": "",
           "title": {
            "standoff": 15
           },
           "zerolinecolor": "white",
           "zerolinewidth": 2
          }
         }
        },
        "title": {
         "text": "Rating Category Distribution",
         "x": 0.5
        }
       }
      },
      "text/html": [
       "<div>                            <div id=\"99bdf518-59fa-413b-a6ce-82398b446d2b\" class=\"plotly-graph-div\" style=\"height:525px; width:100%;\"></div>            <script type=\"text/javascript\">                require([\"plotly\"], function(Plotly) {                    window.PLOTLYENV=window.PLOTLYENV || {};                                    if (document.getElementById(\"99bdf518-59fa-413b-a6ce-82398b446d2b\")) {                    Plotly.newPlot(                        \"99bdf518-59fa-413b-a6ce-82398b446d2b\",                        [{\"domain\":{\"x\":[0.0,1.0],\"y\":[0.0,1.0]},\"hovertemplate\":\"Rating Category=%{label}<extra></extra>\",\"labels\":[\"Excellent\",\"Excellent\",\"Excellent\",\"Good\",\"Good\",\"Good\",\"Good\",\"Good\",\"Good\",\"Good\",\"Good\",\"Below Average\",\"Good\",\"Good\",\"Good\",\"Good\",\"Good\",\"Average\",\"Good\",\"Excellent\",\"Good\",\"Below Average\",\"Good\",\"Excellent\",\"Good\",\"Good\",\"Good\",\"Excellent\",\"Good\",\"Good\",\"Good\",\"Below Average\",\"Average\",\"Good\",\"Excellent\",\"Good\",\"Excellent\",\"Average\",\"Excellent\",\"Excellent\",\"Good\",\"Good\",\"Good\",\"Good\",\"Excellent\",\"Good\",\"Excellent\",\"Average\",\"Good\",\"Good\",\"Excellent\",\"Good\",\"Average\",\"Good\",\"Excellent\",\"Good\",\"Average\",\"Good\",\"Good\",\"Good\",\"Good\",\"Good\",\"Good\",\"Good\",\"Good\",\"Good\",\"Good\",\"Good\",\"Good\",\"Excellent\",\"Good\",\"Good\",\"Excellent\",\"Excellent\",\"Good\",\"Excellent\",\"Excellent\",\"Good\",\"Excellent\",\"Good\",\"Excellent\",\"Good\",\"Good\",\"Good\",\"Good\",\"Good\",\"Good\",\"Excellent\",\"Good\",\"Excellent\",\"Excellent\",\"Good\",\"Excellent\",\"Good\",\"Excellent\",\"Good\",\"Excellent\",\"Good\",\"Good\",\"Good\",\"Good\",\"Good\",\"Good\",\"Good\",\"Good\",\"Good\",\"Good\",\"Good\",\"Good\",\"Excellent\",\"Good\",\"Good\",\"Good\",\"Good\",\"Good\",\"Good\",\"Good\",\"Good\",\"Excellent\",\"Good\",\"Good\",\"Good\",\"Excellent\",\"Excellent\",\"Excellent\",\"Excellent\",\"Good\",\"Good\",\"Good\",\"Good\",\"Excellent\",\"Good\",\"Excellent\",\"Good\",\"Good\",\"Good\",\"Good\",\"Excellent\",\"Good\",\"Good\",\"Good\",\"Good\",\"Good\",\"Excellent\",\"Good\",\"Good\",\"Good\",\"Good\",\"Excellent\",\"Excellent\",\"Good\",\"Good\",\"Good\",\"Excellent\",\"Excellent\",\"Excellent\",\"Excellent\",\"Good\",\"Good\",\"Good\",\"Good\",\"Good\",\"Excellent\",\"Good\",\"Good\",\"Average\",\"Good\",\"Excellent\",\"Good\",\"Good\",\"Good\",\"Good\",\"Good\",\"Excellent\",\"Good\",\"Good\",\"Good\",\"Good\",\"Good\",\"Excellent\",\"Good\",\"Good\",\"Excellent\",\"Good\",\"Good\",\"Good\",\"Good\",\"Good\",\"Good\",\"Average\",\"Excellent\",\"Excellent\",\"Good\",\"Good\",\"Good\",\"Excellent\",\"Good\",\"Good\",\"Good\",\"Good\",\"Good\",\"Good\",\"Good\",\"Excellent\",\"Below Average\",\"Good\",\"Good\",\"Average\",\"Average\",\"Good\",\"Good\",\"Good\",\"Good\",\"Good\",\"Average\",\"Good\",\"Excellent\",\"Good\",\"Below Average\",\"Good\",\"Good\",\"Good\",\"Average\",\"Good\",\"Excellent\",\"Excellent\",\"Good\",\"Excellent\",\"Good\",\"Excellent\",\"Good\",\"Good\",\"Good\",\"Good\",\"Good\",\"Good\",\"Good\",\"Excellent\",\"Good\",\"Average\",\"Good\",\"Good\",\"Good\",\"Good\",\"Good\",\"Below Average\",\"Excellent\",\"Good\",\"Average\",\"Good\",\"Good\",\"Good\",\"Good\",\"Excellent\",\"Good\",\"Average\",\"Good\",\"Good\",\"Good\",\"Good\",\"Good\",\"Excellent\",\"Good\",\"Good\",\"Good\",\"Good\",\"Good\",\"Below Average\",\"Good\",\"Average\",\"Average\",\"Good\",\"Good\",\"Good\",\"Good\",\"Average\",\"Good\",\"Good\",\"Good\",\"Good\",\"Good\",\"Excellent\",\"Good\",\"Good\",\"Good\",\"Good\",\"Good\",\"Excellent\",\"Excellent\",\"Average\",\"Good\",\"Average\",\"Good\",\"Good\",\"Average\",\"Excellent\",\"Excellent\",\"Good\",\"Good\",\"Good\",\"Good\",\"Good\",\"Good\",\"Good\",\"Excellent\",\"Good\",\"Good\",\"Good\",\"Good\",\"Good\",\"Excellent\",\"Good\",\"Good\",\"Good\",\"Good\",\"Good\",\"Good\",\"Good\",\"Good\",\"Good\",\"Excellent\",\"Good\",\"Good\",\"Good\",\"Good\",\"Average\",\"Good\",\"Excellent\",\"Good\",\"Excellent\",\"Below Average\",\"Good\",\"Good\",\"Good\",\"Good\",\"Good\",\"Average\",\"Good\",\"Good\",\"Good\",\"Good\",\"Average\",\"Good\",\"Average\",\"Average\",\"Average\",\"Excellent\",\"Good\",\"Excellent\",\"Good\",\"Good\",\"Good\",\"Average\",\"Good\",\"Excellent\",\"Average\",\"Average\",\"Excellent\",\"Good\",\"Good\",\"Good\",\"Below Average\",\"Average\",\"Excellent\",\"Good\",\"Average\",\"Excellent\",\"Good\",\"Good\",\"Good\",\"Average\",\"Excellent\",\"Good\",\"Good\",\"Excellent\",\"Good\",\"Excellent\",\"Good\",\"Average\",\"Average\",\"Excellent\",\"Good\",\"Good\",\"Good\",\"Average\",\"Excellent\",\"Good\",\"Excellent\",\"Good\",\"Good\",\"Good\",\"Average\",\"Good\",\"Good\",\"Good\",\"Excellent\",\"Average\",\"Good\",\"Good\",\"Good\",\"Average\",\"Good\",\"Excellent\",\"Good\",\"Good\",\"Good\",\"Average\",\"Average\",\"Average\",\"Good\",\"Average\",\"Average\",\"Good\",\"Good\",\"Average\",\"Below Average\",\"Good\",\"Average\",\"Good\",\"Good\",\"Good\",\"Good\",\"Good\",\"Average\",\"Good\",\"Average\",\"Average\",\"Good\",\"Average\",\"Excellent\",\"Good\",\"Good\",\"Average\",\"Average\",\"Average\",\"Good\",\"Average\",\"Average\",\"Good\",\"Good\",\"Excellent\",\"Good\",\"Good\",\"Good\",\"Good\",\"Good\",\"Good\",\"Good\",\"Good\",\"Good\",\"Good\",\"Good\",\"Good\",\"Average\",\"Good\",\"Good\",\"Good\",\"Good\",\"Excellent\",\"Average\",\"Good\",\"Good\",\"Good\",\"Good\",\"Good\",\"Average\",\"Good\",\"Good\",\"Good\",\"Good\",\"Excellent\",\"Excellent\",\"Good\",\"Good\",\"Good\",\"Good\",\"Good\",\"Good\",\"Good\",\"Good\",\"Good\",\"Average\",\"Average\",\"Average\",\"Good\",\"Good\",\"Good\",\"Good\",\"Good\",\"Average\",\"Good\",\"Good\",\"Good\",\"Good\",\"Good\",\"Average\",\"Average\",\"Good\",\"Good\",\"Good\",\"Excellent\"],\"legendgroup\":\"\",\"name\":\"\",\"showlegend\":true,\"type\":\"pie\"}],                        {\"template\":{\"data\":{\"histogram2dcontour\":[{\"type\":\"histogram2dcontour\",\"colorbar\":{\"outlinewidth\":0,\"ticks\":\"\"},\"colorscale\":[[0.0,\"#0d0887\"],[0.1111111111111111,\"#46039f\"],[0.2222222222222222,\"#7201a8\"],[0.3333333333333333,\"#9c179e\"],[0.4444444444444444,\"#bd3786\"],[0.5555555555555556,\"#d8576b\"],[0.6666666666666666,\"#ed7953\"],[0.7777777777777778,\"#fb9f3a\"],[0.8888888888888888,\"#fdca26\"],[1.0,\"#f0f921\"]]}],\"choropleth\":[{\"type\":\"choropleth\",\"colorbar\":{\"outlinewidth\":0,\"ticks\":\"\"}}],\"histogram2d\":[{\"type\":\"histogram2d\",\"colorbar\":{\"outlinewidth\":0,\"ticks\":\"\"},\"colorscale\":[[0.0,\"#0d0887\"],[0.1111111111111111,\"#46039f\"],[0.2222222222222222,\"#7201a8\"],[0.3333333333333333,\"#9c179e\"],[0.4444444444444444,\"#bd3786\"],[0.5555555555555556,\"#d8576b\"],[0.6666666666666666,\"#ed7953\"],[0.7777777777777778,\"#fb9f3a\"],[0.8888888888888888,\"#fdca26\"],[1.0,\"#f0f921\"]]}],\"heatmap\":[{\"type\":\"heatmap\",\"colorbar\":{\"outlinewidth\":0,\"ticks\":\"\"},\"colorscale\":[[0.0,\"#0d0887\"],[0.1111111111111111,\"#46039f\"],[0.2222222222222222,\"#7201a8\"],[0.3333333333333333,\"#9c179e\"],[0.4444444444444444,\"#bd3786\"],[0.5555555555555556,\"#d8576b\"],[0.6666666666666666,\"#ed7953\"],[0.7777777777777778,\"#fb9f3a\"],[0.8888888888888888,\"#fdca26\"],[1.0,\"#f0f921\"]]}],\"heatmapgl\":[{\"type\":\"heatmapgl\",\"colorbar\":{\"outlinewidth\":0,\"ticks\":\"\"},\"colorscale\":[[0.0,\"#0d0887\"],[0.1111111111111111,\"#46039f\"],[0.2222222222222222,\"#7201a8\"],[0.3333333333333333,\"#9c179e\"],[0.4444444444444444,\"#bd3786\"],[0.5555555555555556,\"#d8576b\"],[0.6666666666666666,\"#ed7953\"],[0.7777777777777778,\"#fb9f3a\"],[0.8888888888888888,\"#fdca26\"],[1.0,\"#f0f921\"]]}],\"contourcarpet\":[{\"type\":\"contourcarpet\",\"colorbar\":{\"outlinewidth\":0,\"ticks\":\"\"}}],\"contour\":[{\"type\":\"contour\",\"colorbar\":{\"outlinewidth\":0,\"ticks\":\"\"},\"colorscale\":[[0.0,\"#0d0887\"],[0.1111111111111111,\"#46039f\"],[0.2222222222222222,\"#7201a8\"],[0.3333333333333333,\"#9c179e\"],[0.4444444444444444,\"#bd3786\"],[0.5555555555555556,\"#d8576b\"],[0.6666666666666666,\"#ed7953\"],[0.7777777777777778,\"#fb9f3a\"],[0.8888888888888888,\"#fdca26\"],[1.0,\"#f0f921\"]]}],\"surface\":[{\"type\":\"surface\",\"colorbar\":{\"outlinewidth\":0,\"ticks\":\"\"},\"colorscale\":[[0.0,\"#0d0887\"],[0.1111111111111111,\"#46039f\"],[0.2222222222222222,\"#7201a8\"],[0.3333333333333333,\"#9c179e\"],[0.4444444444444444,\"#bd3786\"],[0.5555555555555556,\"#d8576b\"],[0.6666666666666666,\"#ed7953\"],[0.7777777777777778,\"#fb9f3a\"],[0.8888888888888888,\"#fdca26\"],[1.0,\"#f0f921\"]]}],\"mesh3d\":[{\"type\":\"mesh3d\",\"colorbar\":{\"outlinewidth\":0,\"ticks\":\"\"}}],\"scatter\":[{\"fillpattern\":{\"fillmode\":\"overlay\",\"size\":10,\"solidity\":0.2},\"type\":\"scatter\"}],\"parcoords\":[{\"type\":\"parcoords\",\"line\":{\"colorbar\":{\"outlinewidth\":0,\"ticks\":\"\"}}}],\"scatterpolargl\":[{\"type\":\"scatterpolargl\",\"marker\":{\"colorbar\":{\"outlinewidth\":0,\"ticks\":\"\"}}}],\"bar\":[{\"error_x\":{\"color\":\"#2a3f5f\"},\"error_y\":{\"color\":\"#2a3f5f\"},\"marker\":{\"line\":{\"color\":\"#E5ECF6\",\"width\":0.5},\"pattern\":{\"fillmode\":\"overlay\",\"size\":10,\"solidity\":0.2}},\"type\":\"bar\"}],\"scattergeo\":[{\"type\":\"scattergeo\",\"marker\":{\"colorbar\":{\"outlinewidth\":0,\"ticks\":\"\"}}}],\"scatterpolar\":[{\"type\":\"scatterpolar\",\"marker\":{\"colorbar\":{\"outlinewidth\":0,\"ticks\":\"\"}}}],\"histogram\":[{\"marker\":{\"pattern\":{\"fillmode\":\"overlay\",\"size\":10,\"solidity\":0.2}},\"type\":\"histogram\"}],\"scattergl\":[{\"type\":\"scattergl\",\"marker\":{\"colorbar\":{\"outlinewidth\":0,\"ticks\":\"\"}}}],\"scatter3d\":[{\"type\":\"scatter3d\",\"line\":{\"colorbar\":{\"outlinewidth\":0,\"ticks\":\"\"}},\"marker\":{\"colorbar\":{\"outlinewidth\":0,\"ticks\":\"\"}}}],\"scattermapbox\":[{\"type\":\"scattermapbox\",\"marker\":{\"colorbar\":{\"outlinewidth\":0,\"ticks\":\"\"}}}],\"scatterternary\":[{\"type\":\"scatterternary\",\"marker\":{\"colorbar\":{\"outlinewidth\":0,\"ticks\":\"\"}}}],\"scattercarpet\":[{\"type\":\"scattercarpet\",\"marker\":{\"colorbar\":{\"outlinewidth\":0,\"ticks\":\"\"}}}],\"carpet\":[{\"aaxis\":{\"endlinecolor\":\"#2a3f5f\",\"gridcolor\":\"white\",\"linecolor\":\"white\",\"minorgridcolor\":\"white\",\"startlinecolor\":\"#2a3f5f\"},\"baxis\":{\"endlinecolor\":\"#2a3f5f\",\"gridcolor\":\"white\",\"linecolor\":\"white\",\"minorgridcolor\":\"white\",\"startlinecolor\":\"#2a3f5f\"},\"type\":\"carpet\"}],\"table\":[{\"cells\":{\"fill\":{\"color\":\"#EBF0F8\"},\"line\":{\"color\":\"white\"}},\"header\":{\"fill\":{\"color\":\"#C8D4E3\"},\"line\":{\"color\":\"white\"}},\"type\":\"table\"}],\"barpolar\":[{\"marker\":{\"line\":{\"color\":\"#E5ECF6\",\"width\":0.5},\"pattern\":{\"fillmode\":\"overlay\",\"size\":10,\"solidity\":0.2}},\"type\":\"barpolar\"}],\"pie\":[{\"automargin\":true,\"type\":\"pie\"}]},\"layout\":{\"autotypenumbers\":\"strict\",\"colorway\":[\"#636efa\",\"#EF553B\",\"#00cc96\",\"#ab63fa\",\"#FFA15A\",\"#19d3f3\",\"#FF6692\",\"#B6E880\",\"#FF97FF\",\"#FECB52\"],\"font\":{\"color\":\"#2a3f5f\"},\"hovermode\":\"closest\",\"hoverlabel\":{\"align\":\"left\"},\"paper_bgcolor\":\"white\",\"plot_bgcolor\":\"#E5ECF6\",\"polar\":{\"bgcolor\":\"#E5ECF6\",\"angularaxis\":{\"gridcolor\":\"white\",\"linecolor\":\"white\",\"ticks\":\"\"},\"radialaxis\":{\"gridcolor\":\"white\",\"linecolor\":\"white\",\"ticks\":\"\"}},\"ternary\":{\"bgcolor\":\"#E5ECF6\",\"aaxis\":{\"gridcolor\":\"white\",\"linecolor\":\"white\",\"ticks\":\"\"},\"baxis\":{\"gridcolor\":\"white\",\"linecolor\":\"white\",\"ticks\":\"\"},\"caxis\":{\"gridcolor\":\"white\",\"linecolor\":\"white\",\"ticks\":\"\"}},\"coloraxis\":{\"colorbar\":{\"outlinewidth\":0,\"ticks\":\"\"}},\"colorscale\":{\"sequential\":[[0.0,\"#0d0887\"],[0.1111111111111111,\"#46039f\"],[0.2222222222222222,\"#7201a8\"],[0.3333333333333333,\"#9c179e\"],[0.4444444444444444,\"#bd3786\"],[0.5555555555555556,\"#d8576b\"],[0.6666666666666666,\"#ed7953\"],[0.7777777777777778,\"#fb9f3a\"],[0.8888888888888888,\"#fdca26\"],[1.0,\"#f0f921\"]],\"sequentialminus\":[[0.0,\"#0d0887\"],[0.1111111111111111,\"#46039f\"],[0.2222222222222222,\"#7201a8\"],[0.3333333333333333,\"#9c179e\"],[0.4444444444444444,\"#bd3786\"],[0.5555555555555556,\"#d8576b\"],[0.6666666666666666,\"#ed7953\"],[0.7777777777777778,\"#fb9f3a\"],[0.8888888888888888,\"#fdca26\"],[1.0,\"#f0f921\"]],\"diverging\":[[0,\"#8e0152\"],[0.1,\"#c51b7d\"],[0.2,\"#de77ae\"],[0.3,\"#f1b6da\"],[0.4,\"#fde0ef\"],[0.5,\"#f7f7f7\"],[0.6,\"#e6f5d0\"],[0.7,\"#b8e186\"],[0.8,\"#7fbc41\"],[0.9,\"#4d9221\"],[1,\"#276419\"]]},\"xaxis\":{\"gridcolor\":\"white\",\"linecolor\":\"white\",\"ticks\":\"\",\"title\":{\"standoff\":15},\"zerolinecolor\":\"white\",\"automargin\":true,\"zerolinewidth\":2},\"yaxis\":{\"gridcolor\":\"white\",\"linecolor\":\"white\",\"ticks\":\"\",\"title\":{\"standoff\":15},\"zerolinecolor\":\"white\",\"automargin\":true,\"zerolinewidth\":2},\"scene\":{\"xaxis\":{\"backgroundcolor\":\"#E5ECF6\",\"gridcolor\":\"white\",\"linecolor\":\"white\",\"showbackground\":true,\"ticks\":\"\",\"zerolinecolor\":\"white\",\"gridwidth\":2},\"yaxis\":{\"backgroundcolor\":\"#E5ECF6\",\"gridcolor\":\"white\",\"linecolor\":\"white\",\"showbackground\":true,\"ticks\":\"\",\"zerolinecolor\":\"white\",\"gridwidth\":2},\"zaxis\":{\"backgroundcolor\":\"#E5ECF6\",\"gridcolor\":\"white\",\"linecolor\":\"white\",\"showbackground\":true,\"ticks\":\"\",\"zerolinecolor\":\"white\",\"gridwidth\":2}},\"shapedefaults\":{\"line\":{\"color\":\"#2a3f5f\"}},\"annotationdefaults\":{\"arrowcolor\":\"#2a3f5f\",\"arrowhead\":0,\"arrowwidth\":1},\"geo\":{\"bgcolor\":\"white\",\"landcolor\":\"#E5ECF6\",\"subunitcolor\":\"white\",\"showland\":true,\"showlakes\":true,\"lakecolor\":\"white\"},\"title\":{\"x\":0.05},\"mapbox\":{\"style\":\"light\"}}},\"legend\":{\"tracegroupgap\":0},\"title\":{\"text\":\"Rating Category Distribution\",\"x\":0.5}},                        {\"responsive\": true}                    ).then(function(){\n",
       "                            \n",
       "var gd = document.getElementById('99bdf518-59fa-413b-a6ce-82398b446d2b');\n",
       "var x = new MutationObserver(function (mutations, observer) {{\n",
       "        var display = window.getComputedStyle(gd).display;\n",
       "        if (!display || display === 'none') {{\n",
       "            console.log([gd, 'removed!']);\n",
       "            Plotly.purge(gd);\n",
       "            observer.disconnect();\n",
       "        }}\n",
       "}});\n",
       "\n",
       "// Listen for the removal of the full notebook cells\n",
       "var notebookContainer = gd.closest('#notebook-container');\n",
       "if (notebookContainer) {{\n",
       "    x.observe(notebookContainer, {childList: true});\n",
       "}}\n",
       "\n",
       "// Listen for the clearing of the current output cell\n",
       "var outputEl = gd.closest('.output');\n",
       "if (outputEl) {{\n",
       "    x.observe(outputEl, {childList: true});\n",
       "}}\n",
       "\n",
       "                        })                };                });            </script>        </div>"
      ]
     },
     "metadata": {},
     "output_type": "display_data"
    }
   ],
   "source": [
    "fig = px.pie(df, names='Rating Category', \n",
    "             title='Rating Category Distribution')\n",
    "fig.update_layout(title_x=0.5)\n",
    "fig.show()"
   ]
  },
  {
   "cell_type": "code",
   "execution_count": null,
   "id": "0a466ba1",
   "metadata": {},
   "outputs": [],
   "source": [
    "\n",
    "\n"
   ]
  },
  {
   "cell_type": "code",
   "execution_count": null,
   "id": "249f9da8",
   "metadata": {},
   "outputs": [],
   "source": [
    "\n",
    "\n"
   ]
  },
  {
   "cell_type": "code",
   "execution_count": null,
   "id": "f0df89c9",
   "metadata": {},
   "outputs": [],
   "source": [
    "\n"
   ]
  },
  {
   "cell_type": "code",
   "execution_count": null,
   "id": "1435e613",
   "metadata": {},
   "outputs": [],
   "source": [
    "\n"
   ]
  },
  {
   "cell_type": "code",
   "execution_count": null,
   "id": "3498e4ba",
   "metadata": {},
   "outputs": [],
   "source": []
  },
  {
   "cell_type": "code",
   "execution_count": null,
   "id": "715ddf64",
   "metadata": {},
   "outputs": [],
   "source": [
    "\n"
   ]
  },
  {
   "cell_type": "code",
   "execution_count": null,
   "id": "52af2273",
   "metadata": {},
   "outputs": [],
   "source": [
    "\n",
    "\n",
    "       "
   ]
  }
 ],
 "metadata": {
  "kernelspec": {
   "display_name": "Python 3 (ipykernel)",
   "language": "python",
   "name": "python3"
  },
  "language_info": {
   "codemirror_mode": {
    "name": "ipython",
    "version": 3
   },
   "file_extension": ".py",
   "mimetype": "text/x-python",
   "name": "python",
   "nbconvert_exporter": "python",
   "pygments_lexer": "ipython3",
   "version": "3.11.7"
  }
 },
 "nbformat": 4,
 "nbformat_minor": 5
}
